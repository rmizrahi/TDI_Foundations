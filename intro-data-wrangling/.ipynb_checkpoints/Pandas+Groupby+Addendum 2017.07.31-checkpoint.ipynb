{
 "cells": [
  {
   "cell_type": "code",
   "execution_count": 1,
   "metadata": {
    "collapsed": true,
    "deletable": true,
    "editable": true
   },
   "outputs": [],
   "source": [
    "import numpy as np\n",
    "import pandas as pd\n",
    "from pandas import DataFrame, Series"
   ]
  },
  {
   "cell_type": "code",
   "execution_count": 2,
   "metadata": {
    "collapsed": false,
    "deletable": true,
    "editable": true
   },
   "outputs": [
    {
     "data": {
      "text/plain": [
       "u'0.20.1'"
      ]
     },
     "execution_count": 2,
     "metadata": {},
     "output_type": "execute_result"
    }
   ],
   "source": [
    "pd.__version__"
   ]
  },
  {
   "cell_type": "markdown",
   "metadata": {
    "deletable": true,
    "editable": true
   },
   "source": [
    "## Helper Function\n",
    "\n",
    "This helper function will show us what the inputs and outputs are when we use the Pandas `apply` method.\n",
    "\n",
    "This is a function that returns another function...don't focus on how this does what it does. Just look what gets printed to the screen when we use it later in this notebook."
   ]
  },
  {
   "cell_type": "code",
   "execution_count": 3,
   "metadata": {
    "collapsed": true,
    "deletable": true,
    "editable": true
   },
   "outputs": [],
   "source": [
    "def explain(f):\n",
    "    def g(arg):\n",
    "        print ('=' * 20)\n",
    "        print \"Input Type: \", type(arg)\n",
    "        print \"Input:\"\n",
    "        print arg\n",
    "        output = f(arg)\n",
    "        print \"Output Type: \", type(output)\n",
    "        print \"Output:\"\n",
    "        print output\n",
    "        print ('=' * 20)\n",
    "        return output\n",
    "\n",
    "    return g"
   ]
  },
  {
   "cell_type": "markdown",
   "metadata": {
    "deletable": true,
    "editable": true
   },
   "source": [
    "# Data File\n",
    "\n",
    "Simple data file for this notebook."
   ]
  },
  {
   "cell_type": "code",
   "execution_count": 4,
   "metadata": {
    "collapsed": false,
    "deletable": true,
    "editable": true
   },
   "outputs": [
    {
     "name": "stdout",
     "output_type": "stream",
     "text": [
      "Overwriting groupby_example.csv\n"
     ]
    }
   ],
   "source": [
    "%%writefile groupby_example.csv\n",
    "indx,name,team,number,true_false\n",
    "10,Jane,A,100,True\n",
    "20,Jason,B,120,True\n",
    "30,Jill,B,110,False\n",
    "40,Julie,A,90,True\n",
    "50,Jim,A,80,False\n",
    "60,John,B,140,False\n",
    "70,Jen,B,60,True"
   ]
  },
  {
   "cell_type": "code",
   "execution_count": 5,
   "metadata": {
    "collapsed": false
   },
   "outputs": [
    {
     "name": "stdout",
     "output_type": "stream",
     "text": [
      "indx,name,team,number,true_false\r\n",
      "10,Jane,A,100,True\r\n",
      "20,Jason,B,120,True\r\n",
      "30,Jill,B,110,False\r\n",
      "40,Julie,A,90,True\r\n",
      "50,Jim,A,80,False\r\n",
      "60,John,B,140,False\r\n",
      "70,Jen,B,60,True"
     ]
    }
   ],
   "source": [
    "!cat groupby_example.csv"
   ]
  },
  {
   "cell_type": "markdown",
   "metadata": {
    "deletable": true,
    "editable": true
   },
   "source": [
    "Read data file:"
   ]
  },
  {
   "cell_type": "code",
   "execution_count": 6,
   "metadata": {
    "collapsed": false,
    "deletable": true,
    "editable": true
   },
   "outputs": [
    {
     "data": {
      "text/html": [
       "<div>\n",
       "<style>\n",
       "    .dataframe thead tr:only-child th {\n",
       "        text-align: right;\n",
       "    }\n",
       "\n",
       "    .dataframe thead th {\n",
       "        text-align: left;\n",
       "    }\n",
       "\n",
       "    .dataframe tbody tr th {\n",
       "        vertical-align: top;\n",
       "    }\n",
       "</style>\n",
       "<table border=\"1\" class=\"dataframe\">\n",
       "  <thead>\n",
       "    <tr style=\"text-align: right;\">\n",
       "      <th></th>\n",
       "      <th>name</th>\n",
       "      <th>team</th>\n",
       "      <th>number</th>\n",
       "      <th>true_false</th>\n",
       "    </tr>\n",
       "    <tr>\n",
       "      <th>indx</th>\n",
       "      <th></th>\n",
       "      <th></th>\n",
       "      <th></th>\n",
       "      <th></th>\n",
       "    </tr>\n",
       "  </thead>\n",
       "  <tbody>\n",
       "    <tr>\n",
       "      <th>10</th>\n",
       "      <td>Jane</td>\n",
       "      <td>A</td>\n",
       "      <td>100</td>\n",
       "      <td>True</td>\n",
       "    </tr>\n",
       "    <tr>\n",
       "      <th>20</th>\n",
       "      <td>Jason</td>\n",
       "      <td>B</td>\n",
       "      <td>120</td>\n",
       "      <td>True</td>\n",
       "    </tr>\n",
       "    <tr>\n",
       "      <th>30</th>\n",
       "      <td>Jill</td>\n",
       "      <td>B</td>\n",
       "      <td>110</td>\n",
       "      <td>False</td>\n",
       "    </tr>\n",
       "    <tr>\n",
       "      <th>40</th>\n",
       "      <td>Julie</td>\n",
       "      <td>A</td>\n",
       "      <td>90</td>\n",
       "      <td>True</td>\n",
       "    </tr>\n",
       "    <tr>\n",
       "      <th>50</th>\n",
       "      <td>Jim</td>\n",
       "      <td>A</td>\n",
       "      <td>80</td>\n",
       "      <td>False</td>\n",
       "    </tr>\n",
       "    <tr>\n",
       "      <th>60</th>\n",
       "      <td>John</td>\n",
       "      <td>B</td>\n",
       "      <td>140</td>\n",
       "      <td>False</td>\n",
       "    </tr>\n",
       "    <tr>\n",
       "      <th>70</th>\n",
       "      <td>Jen</td>\n",
       "      <td>B</td>\n",
       "      <td>60</td>\n",
       "      <td>True</td>\n",
       "    </tr>\n",
       "  </tbody>\n",
       "</table>\n",
       "</div>"
      ],
      "text/plain": [
       "       name team  number  true_false\n",
       "indx                                \n",
       "10     Jane    A     100        True\n",
       "20    Jason    B     120        True\n",
       "30     Jill    B     110       False\n",
       "40    Julie    A      90        True\n",
       "50      Jim    A      80       False\n",
       "60     John    B     140       False\n",
       "70      Jen    B      60        True"
      ]
     },
     "execution_count": 6,
     "metadata": {},
     "output_type": "execute_result"
    }
   ],
   "source": [
    "df = pd.read_csv('groupby_example.csv', index_col=0)\n",
    "\n",
    "df"
   ]
  },
  {
   "cell_type": "markdown",
   "metadata": {
    "deletable": true,
    "editable": true
   },
   "source": [
    "This is the test data we will be experimenting with."
   ]
  },
  {
   "cell_type": "markdown",
   "metadata": {
    "deletable": true,
    "editable": true
   },
   "source": [
    "# Test Functions\n",
    "\n",
    "Simple functions to use in our apply statements."
   ]
  },
  {
   "cell_type": "code",
   "execution_count": 9,
   "metadata": {
    "collapsed": true,
    "deletable": true,
    "editable": true
   },
   "outputs": [],
   "source": [
    "def get_max_value(x):\n",
    "    return x.max()\n",
    "\n",
    "def get_first_value(x):\n",
    "    return x.iloc[0]"
   ]
  },
  {
   "cell_type": "markdown",
   "metadata": {
    "deletable": true,
    "editable": true
   },
   "source": [
    "Before we proceed, let's make sure we understand how this works.\n",
    "\n",
    "If we select the number column, like so:"
   ]
  },
  {
   "cell_type": "code",
   "execution_count": 10,
   "metadata": {
    "collapsed": false,
    "deletable": true,
    "editable": true
   },
   "outputs": [
    {
     "data": {
      "text/plain": [
       "indx\n",
       "10    100\n",
       "20    120\n",
       "30    110\n",
       "40     90\n",
       "50     80\n",
       "60    140\n",
       "70     60\n",
       "Name: number, dtype: int64"
      ]
     },
     "execution_count": 10,
     "metadata": {},
     "output_type": "execute_result"
    }
   ],
   "source": [
    "df['number']"
   ]
  },
  {
   "cell_type": "markdown",
   "metadata": {
    "deletable": true,
    "editable": true
   },
   "source": [
    "If the number column gets passed to the `get_max_value` function, it should return 140...and it does."
   ]
  },
  {
   "cell_type": "code",
   "execution_count": 11,
   "metadata": {
    "collapsed": false,
    "deletable": true,
    "editable": true
   },
   "outputs": [
    {
     "data": {
      "text/plain": [
       "140"
      ]
     },
     "execution_count": 11,
     "metadata": {},
     "output_type": "execute_result"
    }
   ],
   "source": [
    "get_max_value(df['number'])"
   ]
  },
  {
   "cell_type": "markdown",
   "metadata": {
    "deletable": true,
    "editable": true
   },
   "source": [
    "We can also select the name column:"
   ]
  },
  {
   "cell_type": "code",
   "execution_count": 12,
   "metadata": {
    "collapsed": false,
    "deletable": true,
    "editable": true
   },
   "outputs": [
    {
     "data": {
      "text/plain": [
       "indx\n",
       "10     Jane\n",
       "20    Jason\n",
       "30     Jill\n",
       "40    Julie\n",
       "50      Jim\n",
       "60     John\n",
       "70      Jen\n",
       "Name: name, dtype: object"
      ]
     },
     "execution_count": 12,
     "metadata": {},
     "output_type": "execute_result"
    }
   ],
   "source": [
    "df['name']"
   ]
  },
  {
   "cell_type": "markdown",
   "metadata": {
    "deletable": true,
    "editable": true
   },
   "source": [
    "The first value in that `Series` is Jane."
   ]
  },
  {
   "cell_type": "code",
   "execution_count": 13,
   "metadata": {
    "collapsed": false,
    "deletable": true,
    "editable": true
   },
   "outputs": [
    {
     "data": {
      "text/plain": [
       "'Jane'"
      ]
     },
     "execution_count": 13,
     "metadata": {},
     "output_type": "execute_result"
    }
   ],
   "source": [
    "get_first_value(df['name'])"
   ]
  },
  {
   "cell_type": "markdown",
   "metadata": {
    "deletable": true,
    "editable": true
   },
   "source": [
    "We can also select the data by row:"
   ]
  },
  {
   "cell_type": "code",
   "execution_count": 14,
   "metadata": {
    "collapsed": false,
    "deletable": true,
    "editable": true
   },
   "outputs": [
    {
     "data": {
      "text/plain": [
       "name          Jason\n",
       "team              B\n",
       "number          120\n",
       "true_false     True\n",
       "Name: 20, dtype: object"
      ]
     },
     "execution_count": 14,
     "metadata": {},
     "output_type": "execute_result"
    }
   ],
   "source": [
    "df.loc[20]"
   ]
  },
  {
   "cell_type": "markdown",
   "metadata": {
    "deletable": true,
    "editable": true
   },
   "source": [
    "The first value in the output is the name 'Jason'."
   ]
  },
  {
   "cell_type": "code",
   "execution_count": 15,
   "metadata": {
    "collapsed": false,
    "deletable": true,
    "editable": true
   },
   "outputs": [
    {
     "data": {
      "text/plain": [
       "'Jason'"
      ]
     },
     "execution_count": 15,
     "metadata": {},
     "output_type": "execute_result"
    }
   ],
   "source": [
    "get_first_value(df.loc[20])"
   ]
  },
  {
   "cell_type": "markdown",
   "metadata": {
    "deletable": true,
    "editable": true
   },
   "source": [
    "What if I pass in the entire DataFrame?"
   ]
  },
  {
   "cell_type": "code",
   "execution_count": 16,
   "metadata": {
    "collapsed": false,
    "deletable": true,
    "editable": true
   },
   "outputs": [
    {
     "data": {
      "text/html": [
       "<div>\n",
       "<style>\n",
       "    .dataframe thead tr:only-child th {\n",
       "        text-align: right;\n",
       "    }\n",
       "\n",
       "    .dataframe thead th {\n",
       "        text-align: left;\n",
       "    }\n",
       "\n",
       "    .dataframe tbody tr th {\n",
       "        vertical-align: top;\n",
       "    }\n",
       "</style>\n",
       "<table border=\"1\" class=\"dataframe\">\n",
       "  <thead>\n",
       "    <tr style=\"text-align: right;\">\n",
       "      <th></th>\n",
       "      <th>name</th>\n",
       "      <th>team</th>\n",
       "      <th>number</th>\n",
       "      <th>true_false</th>\n",
       "    </tr>\n",
       "    <tr>\n",
       "      <th>indx</th>\n",
       "      <th></th>\n",
       "      <th></th>\n",
       "      <th></th>\n",
       "      <th></th>\n",
       "    </tr>\n",
       "  </thead>\n",
       "  <tbody>\n",
       "    <tr>\n",
       "      <th>10</th>\n",
       "      <td>Jane</td>\n",
       "      <td>A</td>\n",
       "      <td>100</td>\n",
       "      <td>True</td>\n",
       "    </tr>\n",
       "    <tr>\n",
       "      <th>20</th>\n",
       "      <td>Jason</td>\n",
       "      <td>B</td>\n",
       "      <td>120</td>\n",
       "      <td>True</td>\n",
       "    </tr>\n",
       "    <tr>\n",
       "      <th>30</th>\n",
       "      <td>Jill</td>\n",
       "      <td>B</td>\n",
       "      <td>110</td>\n",
       "      <td>False</td>\n",
       "    </tr>\n",
       "    <tr>\n",
       "      <th>40</th>\n",
       "      <td>Julie</td>\n",
       "      <td>A</td>\n",
       "      <td>90</td>\n",
       "      <td>True</td>\n",
       "    </tr>\n",
       "    <tr>\n",
       "      <th>50</th>\n",
       "      <td>Jim</td>\n",
       "      <td>A</td>\n",
       "      <td>80</td>\n",
       "      <td>False</td>\n",
       "    </tr>\n",
       "    <tr>\n",
       "      <th>60</th>\n",
       "      <td>John</td>\n",
       "      <td>B</td>\n",
       "      <td>140</td>\n",
       "      <td>False</td>\n",
       "    </tr>\n",
       "    <tr>\n",
       "      <th>70</th>\n",
       "      <td>Jen</td>\n",
       "      <td>B</td>\n",
       "      <td>60</td>\n",
       "      <td>True</td>\n",
       "    </tr>\n",
       "  </tbody>\n",
       "</table>\n",
       "</div>"
      ],
      "text/plain": [
       "       name team  number  true_false\n",
       "indx                                \n",
       "10     Jane    A     100        True\n",
       "20    Jason    B     120        True\n",
       "30     Jill    B     110       False\n",
       "40    Julie    A      90        True\n",
       "50      Jim    A      80       False\n",
       "60     John    B     140       False\n",
       "70      Jen    B      60        True"
      ]
     },
     "execution_count": 16,
     "metadata": {},
     "output_type": "execute_result"
    }
   ],
   "source": [
    "df"
   ]
  },
  {
   "cell_type": "markdown",
   "metadata": {
    "deletable": true,
    "editable": true
   },
   "source": [
    "This will retrieve the first row."
   ]
  },
  {
   "cell_type": "code",
   "execution_count": 17,
   "metadata": {
    "collapsed": false,
    "deletable": true,
    "editable": true
   },
   "outputs": [
    {
     "data": {
      "text/plain": [
       "name          Jane\n",
       "team             A\n",
       "number         100\n",
       "true_false    True\n",
       "Name: 10, dtype: object"
      ]
     },
     "execution_count": 17,
     "metadata": {},
     "output_type": "execute_result"
    }
   ],
   "source": [
    "get_first_value(df)"
   ]
  },
  {
   "cell_type": "code",
   "execution_count": 18,
   "metadata": {
    "collapsed": true
   },
   "outputs": [],
   "source": [
    "get_first_value??"
   ]
  },
  {
   "cell_type": "code",
   "execution_count": 19,
   "metadata": {
    "collapsed": false
   },
   "outputs": [
    {
     "data": {
      "text/plain": [
       "name          Jane\n",
       "team             A\n",
       "number         100\n",
       "true_false    True\n",
       "Name: 10, dtype: object"
      ]
     },
     "execution_count": 19,
     "metadata": {},
     "output_type": "execute_result"
    }
   ],
   "source": [
    "df.iloc[0]"
   ]
  },
  {
   "cell_type": "markdown",
   "metadata": {
    "deletable": true,
    "editable": true
   },
   "source": [
    "# Pandas Apply Method\n",
    "\n",
    "I can use the DataFrame's `apply` method to apply a function to each row or each column. We will use the `explain` helper function to help us see what the inputs and resulting outputs are for each call to our function.\n",
    "\n",
    "The basic idea of these uses of `apply` and later uses of `apply` is this:\n",
    "\n",
    "1. Divide up the data\n",
    "2. Apply a function each subset of the data and collect the results\n",
    "3. Aggregate the results\n",
    "\n",
    "This is a key idea that needs to be understood. The concept will be reused again and again in the Data Science world as it is a necessary approach for very large datasets. This idea is much bigger than Python or Pandas.\n",
    "\n",
    "By default, `apply` iterates over one column at a time. Look at each of the inputs, think about the function, and look at the outputs."
   ]
  },
  {
   "cell_type": "code",
   "execution_count": 20,
   "metadata": {
    "collapsed": false,
    "deletable": true,
    "editable": true
   },
   "outputs": [
    {
     "name": "stdout",
     "output_type": "stream",
     "text": [
      "====================\n",
      "Input Type:  <class 'pandas.core.series.Series'>\n",
      "Input:\n",
      "indx\n",
      "10     Jane\n",
      "20    Jason\n",
      "30     Jill\n",
      "40    Julie\n",
      "50      Jim\n",
      "60     John\n",
      "70      Jen\n",
      "Name: name, dtype: object\n",
      "Output Type:  <type 'str'>\n",
      "Output:\n",
      "Jane\n",
      "====================\n",
      "====================\n",
      "Input Type:  <class 'pandas.core.series.Series'>\n",
      "Input:\n",
      "indx\n",
      "10    A\n",
      "20    B\n",
      "30    B\n",
      "40    A\n",
      "50    A\n",
      "60    B\n",
      "70    B\n",
      "Name: team, dtype: object\n",
      "Output Type:  <type 'str'>\n",
      "Output:\n",
      "A\n",
      "====================\n",
      "====================\n",
      "Input Type:  <class 'pandas.core.series.Series'>\n",
      "Input:\n",
      "indx\n",
      "10    100\n",
      "20    120\n",
      "30    110\n",
      "40     90\n",
      "50     80\n",
      "60    140\n",
      "70     60\n",
      "Name: number, dtype: object\n",
      "Output Type:  <type 'int'>\n",
      "Output:\n",
      "100\n",
      "====================\n",
      "====================\n",
      "Input Type:  <class 'pandas.core.series.Series'>\n",
      "Input:\n",
      "indx\n",
      "10     True\n",
      "20     True\n",
      "30    False\n",
      "40     True\n",
      "50    False\n",
      "60    False\n",
      "70     True\n",
      "Name: true_false, dtype: object\n",
      "Output Type:  <type 'bool'>\n",
      "Output:\n",
      "True\n",
      "====================\n"
     ]
    },
    {
     "data": {
      "text/plain": [
       "name          Jane\n",
       "team             A\n",
       "number         100\n",
       "true_false    True\n",
       "dtype: object"
      ]
     },
     "execution_count": 20,
     "metadata": {},
     "output_type": "execute_result"
    }
   ],
   "source": [
    "result = df.apply(explain(get_first_value))\n",
    "\n",
    "result"
   ]
  },
  {
   "cell_type": "markdown",
   "metadata": {
    "deletable": true,
    "editable": true
   },
   "source": [
    "By default the `apply` method iterates over the data one column at a time. We can see this because each column is printed out, one at a time. Our `get_first_value` function will return the first item passed to its input.\n",
    "\n",
    "Each of the individual outputs get complied together into the final result, a Pandas Series.\n",
    "\n",
    "Also notice that our helper function does not alter the outcome in any way. We get the same result if we leave it out. The helper function is just a silent observer, showing us what the input and output is each time the `apply` method applies our function to its data."
   ]
  },
  {
   "cell_type": "code",
   "execution_count": 21,
   "metadata": {
    "collapsed": false,
    "deletable": true,
    "editable": true
   },
   "outputs": [
    {
     "data": {
      "text/plain": [
       "name          Jane\n",
       "team             A\n",
       "number         100\n",
       "true_false    True\n",
       "dtype: object"
      ]
     },
     "execution_count": 21,
     "metadata": {},
     "output_type": "execute_result"
    }
   ],
   "source": [
    "df.apply(get_first_value)"
   ]
  },
  {
   "cell_type": "markdown",
   "metadata": {
    "deletable": true,
    "editable": true
   },
   "source": [
    "Alternatively, we can iterate over each row by setting `axis=1`."
   ]
  },
  {
   "cell_type": "code",
   "execution_count": 22,
   "metadata": {
    "collapsed": false,
    "deletable": true,
    "editable": true
   },
   "outputs": [
    {
     "name": "stdout",
     "output_type": "stream",
     "text": [
      "====================\n",
      "Input Type:  <class 'pandas.core.series.Series'>\n",
      "Input:\n",
      "name          Jane\n",
      "team             A\n",
      "number         100\n",
      "true_false    True\n",
      "Name: 10, dtype: object\n",
      "Output Type:  <type 'str'>\n",
      "Output:\n",
      "Jane\n",
      "====================\n",
      "====================\n",
      "Input Type:  <class 'pandas.core.series.Series'>\n",
      "Input:\n",
      "name          Jason\n",
      "team              B\n",
      "number          120\n",
      "true_false     True\n",
      "Name: 20, dtype: object\n",
      "Output Type:  <type 'str'>\n",
      "Output:\n",
      "Jason\n",
      "====================\n",
      "====================\n",
      "Input Type:  <class 'pandas.core.series.Series'>\n",
      "Input:\n",
      "name           Jill\n",
      "team              B\n",
      "number          110\n",
      "true_false    False\n",
      "Name: 30, dtype: object\n",
      "Output Type:  <type 'str'>\n",
      "Output:\n",
      "Jill\n",
      "====================\n",
      "====================\n",
      "Input Type:  <class 'pandas.core.series.Series'>\n",
      "Input:\n",
      "name          Julie\n",
      "team              A\n",
      "number           90\n",
      "true_false     True\n",
      "Name: 40, dtype: object\n",
      "Output Type:  <type 'str'>\n",
      "Output:\n",
      "Julie\n",
      "====================\n",
      "====================\n",
      "Input Type:  <class 'pandas.core.series.Series'>\n",
      "Input:\n",
      "name            Jim\n",
      "team              A\n",
      "number           80\n",
      "true_false    False\n",
      "Name: 50, dtype: object\n",
      "Output Type:  <type 'str'>\n",
      "Output:\n",
      "Jim\n",
      "====================\n",
      "====================\n",
      "Input Type:  <class 'pandas.core.series.Series'>\n",
      "Input:\n",
      "name           John\n",
      "team              B\n",
      "number          140\n",
      "true_false    False\n",
      "Name: 60, dtype: object\n",
      "Output Type:  <type 'str'>\n",
      "Output:\n",
      "John\n",
      "====================\n",
      "====================\n",
      "Input Type:  <class 'pandas.core.series.Series'>\n",
      "Input:\n",
      "name           Jen\n",
      "team             B\n",
      "number          60\n",
      "true_false    True\n",
      "Name: 70, dtype: object\n",
      "Output Type:  <type 'str'>\n",
      "Output:\n",
      "Jen\n",
      "====================\n"
     ]
    },
    {
     "data": {
      "text/plain": [
       "indx\n",
       "10     Jane\n",
       "20    Jason\n",
       "30     Jill\n",
       "40    Julie\n",
       "50      Jim\n",
       "60     John\n",
       "70      Jen\n",
       "dtype: object"
      ]
     },
     "execution_count": 22,
     "metadata": {},
     "output_type": "execute_result"
    }
   ],
   "source": [
    "df.apply(explain(get_first_value), axis=1)"
   ]
  },
  {
   "cell_type": "markdown",
   "metadata": {
    "deletable": true,
    "editable": true
   },
   "source": [
    "Each of the inputs is one row of the DataFrame.\n",
    "\n",
    "Each of the outputs is the first item of each row.\n",
    "\n",
    "The final result is each of the individual outputs compiled together."
   ]
  },
  {
   "cell_type": "markdown",
   "metadata": {
    "deletable": true,
    "editable": true
   },
   "source": [
    "# Now with Groups\n",
    "\n",
    "First, create the groups."
   ]
  },
  {
   "cell_type": "code",
   "execution_count": 23,
   "metadata": {
    "collapsed": true,
    "deletable": true,
    "editable": true
   },
   "outputs": [],
   "source": [
    "team_groups = df.groupby('team')"
   ]
  },
  {
   "cell_type": "code",
   "execution_count": 25,
   "metadata": {
    "collapsed": true,
    "deletable": true,
    "editable": true
   },
   "outputs": [],
   "source": [
    "# foo = df.groupby('true_false')['number'].cumsum()"
   ]
  },
  {
   "cell_type": "markdown",
   "metadata": {
    "deletable": true,
    "editable": true
   },
   "source": [
    "Let's break this down into simple steps with the `team_groups`.\n",
    "\n",
    "I can use the `get_group` method to get each group. In this case it is a DataFrame with identical values for 'team'."
   ]
  },
  {
   "cell_type": "code",
   "execution_count": 28,
   "metadata": {
    "collapsed": false,
    "deletable": true,
    "editable": true
   },
   "outputs": [
    {
     "data": {
      "text/html": [
       "<div>\n",
       "<style>\n",
       "    .dataframe thead tr:only-child th {\n",
       "        text-align: right;\n",
       "    }\n",
       "\n",
       "    .dataframe thead th {\n",
       "        text-align: left;\n",
       "    }\n",
       "\n",
       "    .dataframe tbody tr th {\n",
       "        vertical-align: top;\n",
       "    }\n",
       "</style>\n",
       "<table border=\"1\" class=\"dataframe\">\n",
       "  <thead>\n",
       "    <tr style=\"text-align: right;\">\n",
       "      <th></th>\n",
       "      <th>name</th>\n",
       "      <th>team</th>\n",
       "      <th>number</th>\n",
       "      <th>true_false</th>\n",
       "    </tr>\n",
       "    <tr>\n",
       "      <th>indx</th>\n",
       "      <th></th>\n",
       "      <th></th>\n",
       "      <th></th>\n",
       "      <th></th>\n",
       "    </tr>\n",
       "  </thead>\n",
       "  <tbody>\n",
       "    <tr>\n",
       "      <th>10</th>\n",
       "      <td>Jane</td>\n",
       "      <td>A</td>\n",
       "      <td>100</td>\n",
       "      <td>True</td>\n",
       "    </tr>\n",
       "    <tr>\n",
       "      <th>40</th>\n",
       "      <td>Julie</td>\n",
       "      <td>A</td>\n",
       "      <td>90</td>\n",
       "      <td>True</td>\n",
       "    </tr>\n",
       "    <tr>\n",
       "      <th>50</th>\n",
       "      <td>Jim</td>\n",
       "      <td>A</td>\n",
       "      <td>80</td>\n",
       "      <td>False</td>\n",
       "    </tr>\n",
       "  </tbody>\n",
       "</table>\n",
       "</div>"
      ],
      "text/plain": [
       "       name team  number  true_false\n",
       "indx                                \n",
       "10     Jane    A     100        True\n",
       "40    Julie    A      90        True\n",
       "50      Jim    A      80       False"
      ]
     },
     "execution_count": 28,
     "metadata": {},
     "output_type": "execute_result"
    }
   ],
   "source": [
    "team_groups.get_group('A')"
   ]
  },
  {
   "cell_type": "markdown",
   "metadata": {
    "deletable": true,
    "editable": true
   },
   "source": [
    "I can pass that DataFrame to the `get_max_value` function. The output is the maximum value for each column."
   ]
  },
  {
   "cell_type": "code",
   "execution_count": 29,
   "metadata": {
    "collapsed": false,
    "deletable": true,
    "editable": true,
    "scrolled": true
   },
   "outputs": [
    {
     "data": {
      "text/plain": [
       "name          Julie\n",
       "team              A\n",
       "number          100\n",
       "true_false     True\n",
       "dtype: object"
      ]
     },
     "execution_count": 29,
     "metadata": {},
     "output_type": "execute_result"
    }
   ],
   "source": [
    "get_max_value(team_groups.get_group('A'))"
   ]
  },
  {
   "cell_type": "markdown",
   "metadata": {
    "deletable": true,
    "editable": true
   },
   "source": [
    "The same thing for group 'B':"
   ]
  },
  {
   "cell_type": "code",
   "execution_count": 30,
   "metadata": {
    "collapsed": false,
    "deletable": true,
    "editable": true
   },
   "outputs": [
    {
     "data": {
      "text/html": [
       "<div>\n",
       "<style>\n",
       "    .dataframe thead tr:only-child th {\n",
       "        text-align: right;\n",
       "    }\n",
       "\n",
       "    .dataframe thead th {\n",
       "        text-align: left;\n",
       "    }\n",
       "\n",
       "    .dataframe tbody tr th {\n",
       "        vertical-align: top;\n",
       "    }\n",
       "</style>\n",
       "<table border=\"1\" class=\"dataframe\">\n",
       "  <thead>\n",
       "    <tr style=\"text-align: right;\">\n",
       "      <th></th>\n",
       "      <th>name</th>\n",
       "      <th>team</th>\n",
       "      <th>number</th>\n",
       "      <th>true_false</th>\n",
       "    </tr>\n",
       "    <tr>\n",
       "      <th>indx</th>\n",
       "      <th></th>\n",
       "      <th></th>\n",
       "      <th></th>\n",
       "      <th></th>\n",
       "    </tr>\n",
       "  </thead>\n",
       "  <tbody>\n",
       "    <tr>\n",
       "      <th>20</th>\n",
       "      <td>Jason</td>\n",
       "      <td>B</td>\n",
       "      <td>120</td>\n",
       "      <td>True</td>\n",
       "    </tr>\n",
       "    <tr>\n",
       "      <th>30</th>\n",
       "      <td>Jill</td>\n",
       "      <td>B</td>\n",
       "      <td>110</td>\n",
       "      <td>False</td>\n",
       "    </tr>\n",
       "    <tr>\n",
       "      <th>60</th>\n",
       "      <td>John</td>\n",
       "      <td>B</td>\n",
       "      <td>140</td>\n",
       "      <td>False</td>\n",
       "    </tr>\n",
       "    <tr>\n",
       "      <th>70</th>\n",
       "      <td>Jen</td>\n",
       "      <td>B</td>\n",
       "      <td>60</td>\n",
       "      <td>True</td>\n",
       "    </tr>\n",
       "  </tbody>\n",
       "</table>\n",
       "</div>"
      ],
      "text/plain": [
       "       name team  number  true_false\n",
       "indx                                \n",
       "20    Jason    B     120        True\n",
       "30     Jill    B     110       False\n",
       "60     John    B     140       False\n",
       "70      Jen    B      60        True"
      ]
     },
     "execution_count": 30,
     "metadata": {},
     "output_type": "execute_result"
    }
   ],
   "source": [
    "team_groups.get_group('B')"
   ]
  },
  {
   "cell_type": "code",
   "execution_count": 31,
   "metadata": {
    "collapsed": false,
    "deletable": true,
    "editable": true
   },
   "outputs": [
    {
     "data": {
      "text/plain": [
       "name          John\n",
       "team             B\n",
       "number         140\n",
       "true_false    True\n",
       "dtype: object"
      ]
     },
     "execution_count": 31,
     "metadata": {},
     "output_type": "execute_result"
    }
   ],
   "source": [
    "get_max_value(team_groups.get_group('B'))"
   ]
  },
  {
   "cell_type": "markdown",
   "metadata": {
    "deletable": true,
    "editable": true
   },
   "source": [
    "When I use the `apply` method it will apply the function to each group and assemble the results, like so:"
   ]
  },
  {
   "cell_type": "code",
   "execution_count": 32,
   "metadata": {
    "collapsed": false,
    "deletable": true,
    "editable": true
   },
   "outputs": [
    {
     "data": {
      "text/html": [
       "<div>\n",
       "<style>\n",
       "    .dataframe thead tr:only-child th {\n",
       "        text-align: right;\n",
       "    }\n",
       "\n",
       "    .dataframe thead th {\n",
       "        text-align: left;\n",
       "    }\n",
       "\n",
       "    .dataframe tbody tr th {\n",
       "        vertical-align: top;\n",
       "    }\n",
       "</style>\n",
       "<table border=\"1\" class=\"dataframe\">\n",
       "  <thead>\n",
       "    <tr style=\"text-align: right;\">\n",
       "      <th></th>\n",
       "      <th>name</th>\n",
       "      <th>team</th>\n",
       "      <th>number</th>\n",
       "      <th>true_false</th>\n",
       "    </tr>\n",
       "    <tr>\n",
       "      <th>team</th>\n",
       "      <th></th>\n",
       "      <th></th>\n",
       "      <th></th>\n",
       "      <th></th>\n",
       "    </tr>\n",
       "  </thead>\n",
       "  <tbody>\n",
       "    <tr>\n",
       "      <th>A</th>\n",
       "      <td>Julie</td>\n",
       "      <td>A</td>\n",
       "      <td>100</td>\n",
       "      <td>True</td>\n",
       "    </tr>\n",
       "    <tr>\n",
       "      <th>B</th>\n",
       "      <td>John</td>\n",
       "      <td>B</td>\n",
       "      <td>140</td>\n",
       "      <td>True</td>\n",
       "    </tr>\n",
       "  </tbody>\n",
       "</table>\n",
       "</div>"
      ],
      "text/plain": [
       "       name team  number  true_false\n",
       "team                                \n",
       "A     Julie    A     100        True\n",
       "B      John    B     140        True"
      ]
     },
     "execution_count": 32,
     "metadata": {},
     "output_type": "execute_result"
    }
   ],
   "source": [
    "team_groups.apply(get_max_value)"
   ]
  },
  {
   "cell_type": "code",
   "execution_count": 34,
   "metadata": {
    "collapsed": false
   },
   "outputs": [
    {
     "data": {
      "text/plain": [
       "['123', 'Jim', 'jim']"
      ]
     },
     "execution_count": 34,
     "metadata": {},
     "output_type": "execute_result"
    }
   ],
   "source": [
    "sorted(['123', 'jim', 'Jim'])"
   ]
  },
  {
   "cell_type": "markdown",
   "metadata": {
    "deletable": true,
    "editable": true
   },
   "source": [
    "Let's use our helper function to peer into Pandas to see what it is doing:"
   ]
  },
  {
   "cell_type": "code",
   "execution_count": 35,
   "metadata": {
    "collapsed": false,
    "deletable": true,
    "editable": true
   },
   "outputs": [
    {
     "name": "stdout",
     "output_type": "stream",
     "text": [
      "====================\n",
      "Input Type:  <class 'pandas.core.frame.DataFrame'>\n",
      "Input:\n",
      "       name team  number  true_false\n",
      "indx                                \n",
      "10     Jane    A     100        True\n",
      "40    Julie    A      90        True\n",
      "50      Jim    A      80       False\n",
      "Output Type:  <class 'pandas.core.series.Series'>\n",
      "Output:\n",
      "name          Julie\n",
      "team              A\n",
      "number          100\n",
      "true_false     True\n",
      "dtype: object\n",
      "====================\n",
      "====================\n",
      "Input Type:  <class 'pandas.core.frame.DataFrame'>\n",
      "Input:\n",
      "       name team  number  true_false\n",
      "indx                                \n",
      "10     Jane    A     100        True\n",
      "40    Julie    A      90        True\n",
      "50      Jim    A      80       False\n",
      "Output Type:  <class 'pandas.core.series.Series'>\n",
      "Output:\n",
      "name          Julie\n",
      "team              A\n",
      "number          100\n",
      "true_false     True\n",
      "dtype: object\n",
      "====================\n",
      "====================\n",
      "Input Type:  <class 'pandas.core.frame.DataFrame'>\n",
      "Input:\n",
      "       name team  number  true_false\n",
      "indx                                \n",
      "20    Jason    B     120        True\n",
      "30     Jill    B     110       False\n",
      "60     John    B     140       False\n",
      "70      Jen    B      60        True\n",
      "Output Type:  <class 'pandas.core.series.Series'>\n",
      "Output:\n",
      "name          John\n",
      "team             B\n",
      "number         140\n",
      "true_false    True\n",
      "dtype: object\n",
      "====================\n"
     ]
    },
    {
     "data": {
      "text/html": [
       "<div>\n",
       "<style>\n",
       "    .dataframe thead tr:only-child th {\n",
       "        text-align: right;\n",
       "    }\n",
       "\n",
       "    .dataframe thead th {\n",
       "        text-align: left;\n",
       "    }\n",
       "\n",
       "    .dataframe tbody tr th {\n",
       "        vertical-align: top;\n",
       "    }\n",
       "</style>\n",
       "<table border=\"1\" class=\"dataframe\">\n",
       "  <thead>\n",
       "    <tr style=\"text-align: right;\">\n",
       "      <th></th>\n",
       "      <th>name</th>\n",
       "      <th>team</th>\n",
       "      <th>number</th>\n",
       "      <th>true_false</th>\n",
       "    </tr>\n",
       "    <tr>\n",
       "      <th>team</th>\n",
       "      <th></th>\n",
       "      <th></th>\n",
       "      <th></th>\n",
       "      <th></th>\n",
       "    </tr>\n",
       "  </thead>\n",
       "  <tbody>\n",
       "    <tr>\n",
       "      <th>A</th>\n",
       "      <td>Julie</td>\n",
       "      <td>A</td>\n",
       "      <td>100</td>\n",
       "      <td>True</td>\n",
       "    </tr>\n",
       "    <tr>\n",
       "      <th>B</th>\n",
       "      <td>John</td>\n",
       "      <td>B</td>\n",
       "      <td>140</td>\n",
       "      <td>True</td>\n",
       "    </tr>\n",
       "  </tbody>\n",
       "</table>\n",
       "</div>"
      ],
      "text/plain": [
       "       name team  number  true_false\n",
       "team                                \n",
       "A     Julie    A     100        True\n",
       "B      John    B     140        True"
      ]
     },
     "execution_count": 35,
     "metadata": {},
     "output_type": "execute_result"
    }
   ],
   "source": [
    "df.groupby('team').apply(explain(get_max_value))"
   ]
  },
  {
   "cell_type": "markdown",
   "metadata": {
    "deletable": true,
    "editable": true
   },
   "source": [
    "First you may notice that group 'A' is called twice. That is a quirk that Pandas is doing, perhaps as a \"test run\" before applying the function to each group. Or a bug. Don't focus on that.\n",
    "\n",
    "More importantly, look at the steps it went through. It selected the data in each group, passed that data to our function, and then stored the results. The results were assembled into a new DataFrame.\n",
    "\n",
    "The inputs are the two groups and the outputs are identical to what we get when we call our `get_max_value` function on one group at a time. The outputs are stacked on top of each other and assembled into a new DataFrame.\n",
    "\n",
    "Now how do the inputs change if I did this:"
   ]
  },
  {
   "cell_type": "code",
   "execution_count": 36,
   "metadata": {
    "collapsed": false
   },
   "outputs": [
    {
     "data": {
      "text/plain": [
       "indx\n",
       "10    100\n",
       "20    120\n",
       "30    110\n",
       "40     90\n",
       "50     80\n",
       "60    140\n",
       "70     60\n",
       "Name: number, dtype: int64"
      ]
     },
     "execution_count": 36,
     "metadata": {},
     "output_type": "execute_result"
    }
   ],
   "source": [
    "df['number']"
   ]
  },
  {
   "cell_type": "code",
   "execution_count": 37,
   "metadata": {
    "collapsed": false,
    "deletable": true,
    "editable": true
   },
   "outputs": [
    {
     "name": "stdout",
     "output_type": "stream",
     "text": [
      "====================\n",
      "Input Type:  <class 'pandas.core.series.Series'>\n",
      "Input:\n",
      "indx\n",
      "10    100\n",
      "40     90\n",
      "50     80\n",
      "Name: A, dtype: int64\n",
      "Output Type:  <type 'numpy.int64'>\n",
      "Output:\n",
      "100\n",
      "====================\n",
      "====================\n",
      "Input Type:  <class 'pandas.core.series.Series'>\n",
      "Input:\n",
      "indx\n",
      "20    120\n",
      "30    110\n",
      "60    140\n",
      "70     60\n",
      "Name: B, dtype: int64\n",
      "Output Type:  <type 'numpy.int64'>\n",
      "Output:\n",
      "140\n",
      "====================\n"
     ]
    },
    {
     "data": {
      "text/plain": [
       "team\n",
       "A    100\n",
       "B    140\n",
       "Name: number, dtype: int64"
      ]
     },
     "execution_count": 37,
     "metadata": {},
     "output_type": "execute_result"
    }
   ],
   "source": [
    "df.groupby('team')['number'].apply(explain(get_max_value))"
   ]
  },
  {
   "cell_type": "code",
   "execution_count": 38,
   "metadata": {
    "collapsed": false
   },
   "outputs": [
    {
     "name": "stdout",
     "output_type": "stream",
     "text": [
      "====================\n",
      "Input Type:  <class 'pandas.core.frame.DataFrame'>\n",
      "Input:\n",
      "      number   name\n",
      "indx               \n",
      "10       100   Jane\n",
      "40        90  Julie\n",
      "50        80    Jim\n",
      "Output Type:  <class 'pandas.core.series.Series'>\n",
      "Output:\n",
      "number      100\n",
      "name      Julie\n",
      "dtype: object\n",
      "====================\n",
      "====================\n",
      "Input Type:  <class 'pandas.core.frame.DataFrame'>\n",
      "Input:\n",
      "      number   name\n",
      "indx               \n",
      "10       100   Jane\n",
      "40        90  Julie\n",
      "50        80    Jim\n",
      "Output Type:  <class 'pandas.core.series.Series'>\n",
      "Output:\n",
      "number      100\n",
      "name      Julie\n",
      "dtype: object\n",
      "====================\n",
      "====================\n",
      "Input Type:  <class 'pandas.core.frame.DataFrame'>\n",
      "Input:\n",
      "      number   name\n",
      "indx               \n",
      "20       120  Jason\n",
      "30       110   Jill\n",
      "60       140   John\n",
      "70        60    Jen\n",
      "Output Type:  <class 'pandas.core.series.Series'>\n",
      "Output:\n",
      "number     140\n",
      "name      John\n",
      "dtype: object\n",
      "====================\n"
     ]
    },
    {
     "data": {
      "text/html": [
       "<div>\n",
       "<style>\n",
       "    .dataframe thead tr:only-child th {\n",
       "        text-align: right;\n",
       "    }\n",
       "\n",
       "    .dataframe thead th {\n",
       "        text-align: left;\n",
       "    }\n",
       "\n",
       "    .dataframe tbody tr th {\n",
       "        vertical-align: top;\n",
       "    }\n",
       "</style>\n",
       "<table border=\"1\" class=\"dataframe\">\n",
       "  <thead>\n",
       "    <tr style=\"text-align: right;\">\n",
       "      <th></th>\n",
       "      <th>number</th>\n",
       "      <th>name</th>\n",
       "    </tr>\n",
       "    <tr>\n",
       "      <th>team</th>\n",
       "      <th></th>\n",
       "      <th></th>\n",
       "    </tr>\n",
       "  </thead>\n",
       "  <tbody>\n",
       "    <tr>\n",
       "      <th>A</th>\n",
       "      <td>100</td>\n",
       "      <td>Julie</td>\n",
       "    </tr>\n",
       "    <tr>\n",
       "      <th>B</th>\n",
       "      <td>140</td>\n",
       "      <td>John</td>\n",
       "    </tr>\n",
       "  </tbody>\n",
       "</table>\n",
       "</div>"
      ],
      "text/plain": [
       "      number   name\n",
       "team               \n",
       "A        100  Julie\n",
       "B        140   John"
      ]
     },
     "execution_count": 38,
     "metadata": {},
     "output_type": "execute_result"
    }
   ],
   "source": [
    "df.groupby('team')[['number', 'name']].apply(explain(get_max_value))"
   ]
  },
  {
   "cell_type": "markdown",
   "metadata": {
    "deletable": true,
    "editable": true
   },
   "source": [
    "The extra `['number']` code selects just one column. Only that column is passed along to the `get_max_value` function. The input is a Series and the output is a single number. Those single numbers are assembled into a new Series, indexed by the group names.\n",
    "\n",
    "Observe how the inputs, outputs, and final result changed by selecting just the number column."
   ]
  },
  {
   "cell_type": "markdown",
   "metadata": {
    "deletable": true,
    "editable": true
   },
   "source": [
    "# Data Aggregation\n",
    "\n",
    "Now let's try aggregating the data with a new function, `get_mean`."
   ]
  },
  {
   "cell_type": "code",
   "execution_count": 39,
   "metadata": {
    "collapsed": true,
    "deletable": true,
    "editable": true
   },
   "outputs": [],
   "source": [
    "def get_mean(x):\n",
    "    return x.mean()"
   ]
  },
  {
   "cell_type": "markdown",
   "metadata": {
    "deletable": true,
    "editable": true
   },
   "source": [
    "Let's find the average value in the number column for each team group."
   ]
  },
  {
   "cell_type": "code",
   "execution_count": 53,
   "metadata": {
    "collapsed": false,
    "deletable": true,
    "editable": true
   },
   "outputs": [
    {
     "name": "stdout",
     "output_type": "stream",
     "text": [
      "====================\n",
      "Input Type:  <class 'pandas.core.series.Series'>\n",
      "Input:\n",
      "indx\n",
      "10    100\n",
      "40     90\n",
      "50     80\n",
      "Name: A, dtype: int64\n",
      "Output Type:  <type 'numpy.float64'>\n",
      "Output:\n",
      "90.0\n",
      "====================\n",
      "====================\n",
      "Input Type:  <class 'pandas.core.series.Series'>\n",
      "Input:\n",
      "indx\n",
      "20    120\n",
      "30    110\n",
      "60    140\n",
      "70     60\n",
      "Name: B, dtype: int64\n",
      "Output Type:  <type 'numpy.float64'>\n",
      "Output:\n",
      "107.5\n",
      "====================\n"
     ]
    },
    {
     "data": {
      "text/plain": [
       "team\n",
       "A     90.0\n",
       "B    107.5\n",
       "Name: number, dtype: float64"
      ]
     },
     "execution_count": 53,
     "metadata": {},
     "output_type": "execute_result"
    }
   ],
   "source": [
    "team_groups['number'].apply(explain(get_mean))"
   ]
  },
  {
   "cell_type": "markdown",
   "metadata": {
    "deletable": true,
    "editable": true
   },
   "source": [
    "As expected, the `get_mean` function gets passed the number column for each group, one at a time, returning the mean. The means are assembled into a Series.\n",
    "\n",
    "There is a built-in `mean` function that does exactly the same thing:"
   ]
  },
  {
   "cell_type": "code",
   "execution_count": 54,
   "metadata": {
    "collapsed": false,
    "deletable": true,
    "editable": true
   },
   "outputs": [
    {
     "data": {
      "text/plain": [
       "team\n",
       "A     90.0\n",
       "B    107.5\n",
       "Name: number, dtype: float64"
      ]
     },
     "execution_count": 54,
     "metadata": {},
     "output_type": "execute_result"
    }
   ],
   "source": [
    "team_groups['number'].mean()"
   ]
  },
  {
   "cell_type": "code",
   "execution_count": 55,
   "metadata": {
    "collapsed": false
   },
   "outputs": [
    {
     "data": {
      "text/plain": [
       "team\n",
       "A    100\n",
       "B    140\n",
       "Name: number, dtype: int64"
      ]
     },
     "execution_count": 55,
     "metadata": {},
     "output_type": "execute_result"
    }
   ],
   "source": [
    "team_groups['number'].max()"
   ]
  },
  {
   "cell_type": "markdown",
   "metadata": {
    "deletable": true,
    "editable": true
   },
   "source": [
    "There are built-in functions that do a lot of common operations, like `mean`,  `median`, `max`, etc. If you don't find a built-in function you can always use `apply`. In this notebook the `apply` method also allows us to use our helper function `explain` to see the inputs and outputs. This is critical for our explainations about how this works.\n",
    "\n",
    "Interestingly, we can use `mean` method on the true_false column, which contains True and False values. It will calculate the mean assuming that True == 1 and False == 0. "
   ]
  },
  {
   "cell_type": "code",
   "execution_count": 56,
   "metadata": {
    "collapsed": false,
    "deletable": true,
    "editable": true
   },
   "outputs": [
    {
     "data": {
      "text/plain": [
       "team\n",
       "A    0.666667\n",
       "B    0.500000\n",
       "Name: true_false, dtype: float64"
      ]
     },
     "execution_count": 56,
     "metadata": {},
     "output_type": "execute_result"
    }
   ],
   "source": [
    "team_groups['true_false'].mean()"
   ]
  },
  {
   "cell_type": "markdown",
   "metadata": {
    "deletable": true,
    "editable": true
   },
   "source": [
    "That won't always work if there happen to be null values in that column, or some other reasons. That isn't the case here, but it might be somewhere else. If so, try this:"
   ]
  },
  {
   "cell_type": "code",
   "execution_count": 59,
   "metadata": {
    "collapsed": false,
    "deletable": true,
    "editable": true
   },
   "outputs": [
    {
     "data": {
      "text/plain": [
       "team\n",
       "A    0.666667\n",
       "B    0.500000\n",
       "Name: true_false, dtype: float64"
      ]
     },
     "execution_count": 59,
     "metadata": {},
     "output_type": "execute_result"
    }
   ],
   "source": [
    "team_groups['true_false'].apply(np.mean)"
   ]
  },
  {
   "cell_type": "markdown",
   "metadata": {
    "deletable": true,
    "editable": true
   },
   "source": [
    "# Slightly more complex operation...\n",
    "\n",
    "Imagine we want to figure out the difference between each row's number and the mean number for the row's group. Looking again at the data:"
   ]
  },
  {
   "cell_type": "code",
   "execution_count": 60,
   "metadata": {
    "collapsed": false,
    "deletable": true,
    "editable": true
   },
   "outputs": [
    {
     "data": {
      "text/html": [
       "<div>\n",
       "<style>\n",
       "    .dataframe thead tr:only-child th {\n",
       "        text-align: right;\n",
       "    }\n",
       "\n",
       "    .dataframe thead th {\n",
       "        text-align: left;\n",
       "    }\n",
       "\n",
       "    .dataframe tbody tr th {\n",
       "        vertical-align: top;\n",
       "    }\n",
       "</style>\n",
       "<table border=\"1\" class=\"dataframe\">\n",
       "  <thead>\n",
       "    <tr style=\"text-align: right;\">\n",
       "      <th></th>\n",
       "      <th>name</th>\n",
       "      <th>team</th>\n",
       "      <th>number</th>\n",
       "      <th>true_false</th>\n",
       "    </tr>\n",
       "    <tr>\n",
       "      <th>indx</th>\n",
       "      <th></th>\n",
       "      <th></th>\n",
       "      <th></th>\n",
       "      <th></th>\n",
       "    </tr>\n",
       "  </thead>\n",
       "  <tbody>\n",
       "    <tr>\n",
       "      <th>10</th>\n",
       "      <td>Jane</td>\n",
       "      <td>A</td>\n",
       "      <td>100</td>\n",
       "      <td>True</td>\n",
       "    </tr>\n",
       "    <tr>\n",
       "      <th>20</th>\n",
       "      <td>Jason</td>\n",
       "      <td>B</td>\n",
       "      <td>120</td>\n",
       "      <td>True</td>\n",
       "    </tr>\n",
       "    <tr>\n",
       "      <th>30</th>\n",
       "      <td>Jill</td>\n",
       "      <td>B</td>\n",
       "      <td>110</td>\n",
       "      <td>False</td>\n",
       "    </tr>\n",
       "    <tr>\n",
       "      <th>40</th>\n",
       "      <td>Julie</td>\n",
       "      <td>A</td>\n",
       "      <td>90</td>\n",
       "      <td>True</td>\n",
       "    </tr>\n",
       "    <tr>\n",
       "      <th>50</th>\n",
       "      <td>Jim</td>\n",
       "      <td>A</td>\n",
       "      <td>80</td>\n",
       "      <td>False</td>\n",
       "    </tr>\n",
       "    <tr>\n",
       "      <th>60</th>\n",
       "      <td>John</td>\n",
       "      <td>B</td>\n",
       "      <td>140</td>\n",
       "      <td>False</td>\n",
       "    </tr>\n",
       "    <tr>\n",
       "      <th>70</th>\n",
       "      <td>Jen</td>\n",
       "      <td>B</td>\n",
       "      <td>60</td>\n",
       "      <td>True</td>\n",
       "    </tr>\n",
       "  </tbody>\n",
       "</table>\n",
       "</div>"
      ],
      "text/plain": [
       "       name team  number  true_false\n",
       "indx                                \n",
       "10     Jane    A     100        True\n",
       "20    Jason    B     120        True\n",
       "30     Jill    B     110       False\n",
       "40    Julie    A      90        True\n",
       "50      Jim    A      80       False\n",
       "60     John    B     140       False\n",
       "70      Jen    B      60        True"
      ]
     },
     "execution_count": 60,
     "metadata": {},
     "output_type": "execute_result"
    }
   ],
   "source": [
    "df"
   ]
  },
  {
   "cell_type": "markdown",
   "metadata": {
    "deletable": true,
    "editable": true
   },
   "source": [
    "And the means:"
   ]
  },
  {
   "cell_type": "code",
   "execution_count": 62,
   "metadata": {
    "collapsed": false,
    "deletable": true,
    "editable": true
   },
   "outputs": [
    {
     "data": {
      "text/plain": [
       "team\n",
       "A     90.0\n",
       "B    107.5\n",
       "Name: number, dtype: float64"
      ]
     },
     "execution_count": 62,
     "metadata": {},
     "output_type": "execute_result"
    }
   ],
   "source": [
    "team_groups['number'].mean()"
   ]
  },
  {
   "cell_type": "markdown",
   "metadata": {
    "deletable": true,
    "editable": true
   },
   "source": [
    "For group 'A', the mean is 90, and for 'B', it is 107.5.\n",
    "\n",
    "Jane is in group 'A', and her number is 100. 100 - 90 = 10.\n",
    "\n",
    "Jen is in group 'B', and her number is 60. 60 - 107.5 = -47.5.\n",
    "\n",
    "How can we do this operation programmatically?\n",
    "\n",
    "We do that by writing a function."
   ]
  },
  {
   "cell_type": "code",
   "execution_count": 63,
   "metadata": {
    "collapsed": true,
    "deletable": true,
    "editable": true
   },
   "outputs": [],
   "source": [
    "def subtract_mean(x):\n",
    "    return x - x.mean()"
   ]
  },
  {
   "cell_type": "markdown",
   "metadata": {
    "deletable": true,
    "editable": true
   },
   "source": [
    "Before using it in an apply statement, let's test it on one group to see that it does what we expect.\n",
    "\n",
    "First, our expected input, the number column for one group."
   ]
  },
  {
   "cell_type": "code",
   "execution_count": 64,
   "metadata": {
    "collapsed": false,
    "deletable": true,
    "editable": true
   },
   "outputs": [
    {
     "data": {
      "text/plain": [
       "indx\n",
       "10    100\n",
       "40     90\n",
       "50     80\n",
       "Name: number, dtype: int64"
      ]
     },
     "execution_count": 64,
     "metadata": {},
     "output_type": "execute_result"
    }
   ],
   "source": [
    "team_groups['number'].get_group('A')"
   ]
  },
  {
   "cell_type": "markdown",
   "metadata": {
    "deletable": true,
    "editable": true
   },
   "source": [
    "The mean there is 90. Does our function work as expected?"
   ]
  },
  {
   "cell_type": "code",
   "execution_count": 65,
   "metadata": {
    "collapsed": false,
    "deletable": true,
    "editable": true
   },
   "outputs": [
    {
     "data": {
      "text/plain": [
       "indx\n",
       "10    10.0\n",
       "40     0.0\n",
       "50   -10.0\n",
       "Name: number, dtype: float64"
      ]
     },
     "execution_count": 65,
     "metadata": {},
     "output_type": "execute_result"
    }
   ],
   "source": [
    "subtract_mean(team_groups['number'].get_group('A'))"
   ]
  },
  {
   "cell_type": "markdown",
   "metadata": {
    "deletable": true,
    "editable": true
   },
   "source": [
    "Yes, it does.\n",
    "\n",
    "Now use it in our apply statement:"
   ]
  },
  {
   "cell_type": "code",
   "execution_count": 66,
   "metadata": {
    "collapsed": false,
    "deletable": true,
    "editable": true
   },
   "outputs": [
    {
     "name": "stdout",
     "output_type": "stream",
     "text": [
      "====================\n",
      "Input Type:  <class 'pandas.core.series.Series'>\n",
      "Input:\n",
      "indx\n",
      "10    100\n",
      "40     90\n",
      "50     80\n",
      "Name: A, dtype: int64\n",
      "Output Type:  <class 'pandas.core.series.Series'>\n",
      "Output:\n",
      "indx\n",
      "10    10.0\n",
      "40     0.0\n",
      "50   -10.0\n",
      "Name: A, dtype: float64\n",
      "====================\n",
      "====================\n",
      "Input Type:  <class 'pandas.core.series.Series'>\n",
      "Input:\n",
      "indx\n",
      "20    120\n",
      "30    110\n",
      "60    140\n",
      "70     60\n",
      "Name: B, dtype: int64\n",
      "Output Type:  <class 'pandas.core.series.Series'>\n",
      "Output:\n",
      "indx\n",
      "20    12.5\n",
      "30     2.5\n",
      "60    32.5\n",
      "70   -47.5\n",
      "Name: B, dtype: float64\n",
      "====================\n"
     ]
    },
    {
     "data": {
      "text/plain": [
       "indx\n",
       "10    10.0\n",
       "20    12.5\n",
       "30     2.5\n",
       "40     0.0\n",
       "50   -10.0\n",
       "60    32.5\n",
       "70   -47.5\n",
       "Name: number, dtype: float64"
      ]
     },
     "execution_count": 66,
     "metadata": {},
     "output_type": "execute_result"
    }
   ],
   "source": [
    "team_groups['number'].apply(explain(subtract_mean))"
   ]
  },
  {
   "cell_type": "code",
   "execution_count": null,
   "metadata": {
    "collapsed": true,
    "deletable": true,
    "editable": true
   },
   "outputs": [],
   "source": []
  },
  {
   "cell_type": "markdown",
   "metadata": {
    "deletable": true,
    "editable": true
   },
   "source": [
    "The output is a Series. If we look at the inputs and outputs printed to the screen, we can confirm that it does what we want it to do.\n",
    "\n",
    "We also notice that the index of the Series is the numbers 10 through 70. This is also the index of our DataFrame:"
   ]
  },
  {
   "cell_type": "code",
   "execution_count": 67,
   "metadata": {
    "collapsed": false,
    "deletable": true,
    "editable": true
   },
   "outputs": [
    {
     "data": {
      "text/html": [
       "<div>\n",
       "<style>\n",
       "    .dataframe thead tr:only-child th {\n",
       "        text-align: right;\n",
       "    }\n",
       "\n",
       "    .dataframe thead th {\n",
       "        text-align: left;\n",
       "    }\n",
       "\n",
       "    .dataframe tbody tr th {\n",
       "        vertical-align: top;\n",
       "    }\n",
       "</style>\n",
       "<table border=\"1\" class=\"dataframe\">\n",
       "  <thead>\n",
       "    <tr style=\"text-align: right;\">\n",
       "      <th></th>\n",
       "      <th>name</th>\n",
       "      <th>team</th>\n",
       "      <th>number</th>\n",
       "      <th>true_false</th>\n",
       "    </tr>\n",
       "    <tr>\n",
       "      <th>indx</th>\n",
       "      <th></th>\n",
       "      <th></th>\n",
       "      <th></th>\n",
       "      <th></th>\n",
       "    </tr>\n",
       "  </thead>\n",
       "  <tbody>\n",
       "    <tr>\n",
       "      <th>10</th>\n",
       "      <td>Jane</td>\n",
       "      <td>A</td>\n",
       "      <td>100</td>\n",
       "      <td>True</td>\n",
       "    </tr>\n",
       "    <tr>\n",
       "      <th>20</th>\n",
       "      <td>Jason</td>\n",
       "      <td>B</td>\n",
       "      <td>120</td>\n",
       "      <td>True</td>\n",
       "    </tr>\n",
       "    <tr>\n",
       "      <th>30</th>\n",
       "      <td>Jill</td>\n",
       "      <td>B</td>\n",
       "      <td>110</td>\n",
       "      <td>False</td>\n",
       "    </tr>\n",
       "    <tr>\n",
       "      <th>40</th>\n",
       "      <td>Julie</td>\n",
       "      <td>A</td>\n",
       "      <td>90</td>\n",
       "      <td>True</td>\n",
       "    </tr>\n",
       "    <tr>\n",
       "      <th>50</th>\n",
       "      <td>Jim</td>\n",
       "      <td>A</td>\n",
       "      <td>80</td>\n",
       "      <td>False</td>\n",
       "    </tr>\n",
       "    <tr>\n",
       "      <th>60</th>\n",
       "      <td>John</td>\n",
       "      <td>B</td>\n",
       "      <td>140</td>\n",
       "      <td>False</td>\n",
       "    </tr>\n",
       "    <tr>\n",
       "      <th>70</th>\n",
       "      <td>Jen</td>\n",
       "      <td>B</td>\n",
       "      <td>60</td>\n",
       "      <td>True</td>\n",
       "    </tr>\n",
       "  </tbody>\n",
       "</table>\n",
       "</div>"
      ],
      "text/plain": [
       "       name team  number  true_false\n",
       "indx                                \n",
       "10     Jane    A     100        True\n",
       "20    Jason    B     120        True\n",
       "30     Jill    B     110       False\n",
       "40    Julie    A      90        True\n",
       "50      Jim    A      80       False\n",
       "60     John    B     140       False\n",
       "70      Jen    B      60        True"
      ]
     },
     "execution_count": 67,
     "metadata": {},
     "output_type": "execute_result"
    }
   ],
   "source": [
    "df"
   ]
  },
  {
   "cell_type": "markdown",
   "metadata": {
    "deletable": true,
    "editable": true
   },
   "source": [
    "Since both have the same number of rows, let's try adding this to our DataFrame. If they didn't have the same index, this wouldn't work:"
   ]
  },
  {
   "cell_type": "code",
   "execution_count": 68,
   "metadata": {
    "collapsed": false,
    "deletable": true,
    "editable": true
   },
   "outputs": [
    {
     "data": {
      "text/html": [
       "<div>\n",
       "<style>\n",
       "    .dataframe thead tr:only-child th {\n",
       "        text-align: right;\n",
       "    }\n",
       "\n",
       "    .dataframe thead th {\n",
       "        text-align: left;\n",
       "    }\n",
       "\n",
       "    .dataframe tbody tr th {\n",
       "        vertical-align: top;\n",
       "    }\n",
       "</style>\n",
       "<table border=\"1\" class=\"dataframe\">\n",
       "  <thead>\n",
       "    <tr style=\"text-align: right;\">\n",
       "      <th></th>\n",
       "      <th>name</th>\n",
       "      <th>team</th>\n",
       "      <th>number</th>\n",
       "      <th>true_false</th>\n",
       "      <th>subtract_mean</th>\n",
       "    </tr>\n",
       "    <tr>\n",
       "      <th>indx</th>\n",
       "      <th></th>\n",
       "      <th></th>\n",
       "      <th></th>\n",
       "      <th></th>\n",
       "      <th></th>\n",
       "    </tr>\n",
       "  </thead>\n",
       "  <tbody>\n",
       "    <tr>\n",
       "      <th>10</th>\n",
       "      <td>Jane</td>\n",
       "      <td>A</td>\n",
       "      <td>100</td>\n",
       "      <td>True</td>\n",
       "      <td>10.0</td>\n",
       "    </tr>\n",
       "    <tr>\n",
       "      <th>20</th>\n",
       "      <td>Jason</td>\n",
       "      <td>B</td>\n",
       "      <td>120</td>\n",
       "      <td>True</td>\n",
       "      <td>12.5</td>\n",
       "    </tr>\n",
       "    <tr>\n",
       "      <th>30</th>\n",
       "      <td>Jill</td>\n",
       "      <td>B</td>\n",
       "      <td>110</td>\n",
       "      <td>False</td>\n",
       "      <td>2.5</td>\n",
       "    </tr>\n",
       "    <tr>\n",
       "      <th>40</th>\n",
       "      <td>Julie</td>\n",
       "      <td>A</td>\n",
       "      <td>90</td>\n",
       "      <td>True</td>\n",
       "      <td>0.0</td>\n",
       "    </tr>\n",
       "    <tr>\n",
       "      <th>50</th>\n",
       "      <td>Jim</td>\n",
       "      <td>A</td>\n",
       "      <td>80</td>\n",
       "      <td>False</td>\n",
       "      <td>-10.0</td>\n",
       "    </tr>\n",
       "    <tr>\n",
       "      <th>60</th>\n",
       "      <td>John</td>\n",
       "      <td>B</td>\n",
       "      <td>140</td>\n",
       "      <td>False</td>\n",
       "      <td>32.5</td>\n",
       "    </tr>\n",
       "    <tr>\n",
       "      <th>70</th>\n",
       "      <td>Jen</td>\n",
       "      <td>B</td>\n",
       "      <td>60</td>\n",
       "      <td>True</td>\n",
       "      <td>-47.5</td>\n",
       "    </tr>\n",
       "  </tbody>\n",
       "</table>\n",
       "</div>"
      ],
      "text/plain": [
       "       name team  number  true_false  subtract_mean\n",
       "indx                                               \n",
       "10     Jane    A     100        True           10.0\n",
       "20    Jason    B     120        True           12.5\n",
       "30     Jill    B     110       False            2.5\n",
       "40    Julie    A      90        True            0.0\n",
       "50      Jim    A      80       False          -10.0\n",
       "60     John    B     140       False           32.5\n",
       "70      Jen    B      60        True          -47.5"
      ]
     },
     "execution_count": 68,
     "metadata": {},
     "output_type": "execute_result"
    }
   ],
   "source": [
    "df['subtract_mean'] = team_groups['number'].apply(subtract_mean)\n",
    "\n",
    "df"
   ]
  },
  {
   "cell_type": "markdown",
   "metadata": {
    "deletable": true,
    "editable": true
   },
   "source": [
    "We can visually inspect the results and we see it did what we wanted.\n",
    "\n",
    "Adding a new row to our DataFrame has some key advantages. One of them is I can use the new column to do filtering."
   ]
  },
  {
   "cell_type": "code",
   "execution_count": 69,
   "metadata": {
    "collapsed": false,
    "deletable": true,
    "editable": true
   },
   "outputs": [
    {
     "data": {
      "text/html": [
       "<div>\n",
       "<style>\n",
       "    .dataframe thead tr:only-child th {\n",
       "        text-align: right;\n",
       "    }\n",
       "\n",
       "    .dataframe thead th {\n",
       "        text-align: left;\n",
       "    }\n",
       "\n",
       "    .dataframe tbody tr th {\n",
       "        vertical-align: top;\n",
       "    }\n",
       "</style>\n",
       "<table border=\"1\" class=\"dataframe\">\n",
       "  <thead>\n",
       "    <tr style=\"text-align: right;\">\n",
       "      <th></th>\n",
       "      <th>name</th>\n",
       "      <th>team</th>\n",
       "      <th>number</th>\n",
       "      <th>true_false</th>\n",
       "      <th>subtract_mean</th>\n",
       "    </tr>\n",
       "    <tr>\n",
       "      <th>indx</th>\n",
       "      <th></th>\n",
       "      <th></th>\n",
       "      <th></th>\n",
       "      <th></th>\n",
       "      <th></th>\n",
       "    </tr>\n",
       "  </thead>\n",
       "  <tbody>\n",
       "    <tr>\n",
       "      <th>10</th>\n",
       "      <td>Jane</td>\n",
       "      <td>A</td>\n",
       "      <td>100</td>\n",
       "      <td>True</td>\n",
       "      <td>10.0</td>\n",
       "    </tr>\n",
       "    <tr>\n",
       "      <th>20</th>\n",
       "      <td>Jason</td>\n",
       "      <td>B</td>\n",
       "      <td>120</td>\n",
       "      <td>True</td>\n",
       "      <td>12.5</td>\n",
       "    </tr>\n",
       "    <tr>\n",
       "      <th>30</th>\n",
       "      <td>Jill</td>\n",
       "      <td>B</td>\n",
       "      <td>110</td>\n",
       "      <td>False</td>\n",
       "      <td>2.5</td>\n",
       "    </tr>\n",
       "    <tr>\n",
       "      <th>60</th>\n",
       "      <td>John</td>\n",
       "      <td>B</td>\n",
       "      <td>140</td>\n",
       "      <td>False</td>\n",
       "      <td>32.5</td>\n",
       "    </tr>\n",
       "  </tbody>\n",
       "</table>\n",
       "</div>"
      ],
      "text/plain": [
       "       name team  number  true_false  subtract_mean\n",
       "indx                                               \n",
       "10     Jane    A     100        True           10.0\n",
       "20    Jason    B     120        True           12.5\n",
       "30     Jill    B     110       False            2.5\n",
       "60     John    B     140       False           32.5"
      ]
     },
     "execution_count": 69,
     "metadata": {},
     "output_type": "execute_result"
    }
   ],
   "source": [
    "df[df['subtract_mean'] > 0]"
   ]
  },
  {
   "cell_type": "code",
   "execution_count": 70,
   "metadata": {
    "collapsed": false,
    "deletable": true,
    "editable": true
   },
   "outputs": [
    {
     "data": {
      "text/html": [
       "<div>\n",
       "<style>\n",
       "    .dataframe thead tr:only-child th {\n",
       "        text-align: right;\n",
       "    }\n",
       "\n",
       "    .dataframe thead th {\n",
       "        text-align: left;\n",
       "    }\n",
       "\n",
       "    .dataframe tbody tr th {\n",
       "        vertical-align: top;\n",
       "    }\n",
       "</style>\n",
       "<table border=\"1\" class=\"dataframe\">\n",
       "  <thead>\n",
       "    <tr style=\"text-align: right;\">\n",
       "      <th></th>\n",
       "      <th>name</th>\n",
       "      <th>team</th>\n",
       "      <th>number</th>\n",
       "      <th>true_false</th>\n",
       "      <th>subtract_mean</th>\n",
       "    </tr>\n",
       "    <tr>\n",
       "      <th>indx</th>\n",
       "      <th></th>\n",
       "      <th></th>\n",
       "      <th></th>\n",
       "      <th></th>\n",
       "      <th></th>\n",
       "    </tr>\n",
       "  </thead>\n",
       "  <tbody>\n",
       "    <tr>\n",
       "      <th>40</th>\n",
       "      <td>Julie</td>\n",
       "      <td>A</td>\n",
       "      <td>90</td>\n",
       "      <td>True</td>\n",
       "      <td>0.0</td>\n",
       "    </tr>\n",
       "    <tr>\n",
       "      <th>50</th>\n",
       "      <td>Jim</td>\n",
       "      <td>A</td>\n",
       "      <td>80</td>\n",
       "      <td>False</td>\n",
       "      <td>-10.0</td>\n",
       "    </tr>\n",
       "    <tr>\n",
       "      <th>70</th>\n",
       "      <td>Jen</td>\n",
       "      <td>B</td>\n",
       "      <td>60</td>\n",
       "      <td>True</td>\n",
       "      <td>-47.5</td>\n",
       "    </tr>\n",
       "  </tbody>\n",
       "</table>\n",
       "</div>"
      ],
      "text/plain": [
       "       name team  number  true_false  subtract_mean\n",
       "indx                                               \n",
       "40    Julie    A      90        True            0.0\n",
       "50      Jim    A      80       False          -10.0\n",
       "70      Jen    B      60        True          -47.5"
      ]
     },
     "execution_count": 70,
     "metadata": {},
     "output_type": "execute_result"
    }
   ],
   "source": [
    "df[df['subtract_mean'] <= 0]"
   ]
  },
  {
   "cell_type": "markdown",
   "metadata": {
    "deletable": true,
    "editable": true
   },
   "source": [
    "I can do any kind of filtering or grouping I want on each of these new segments of the data."
   ]
  }
 ],
 "metadata": {
  "kernelspec": {
   "display_name": "Python 2",
   "language": "python",
   "name": "python2"
  },
  "language_info": {
   "codemirror_mode": {
    "name": "ipython",
    "version": 2
   },
   "file_extension": ".py",
   "mimetype": "text/x-python",
   "name": "python",
   "nbconvert_exporter": "python",
   "pygments_lexer": "ipython2",
   "version": "2.7.13"
  }
 },
 "nbformat": 4,
 "nbformat_minor": 2
}
