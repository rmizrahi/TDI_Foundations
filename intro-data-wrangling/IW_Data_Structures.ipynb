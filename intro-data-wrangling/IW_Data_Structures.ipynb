{
 "cells": [
  {
   "cell_type": "code",
   "execution_count": 72,
   "metadata": {
    "collapsed": true,
    "deletable": true,
    "editable": true
   },
   "outputs": [],
   "source": [
    "%matplotlib inline\n",
    "import matplotlib\n",
    "import seaborn as sns\n",
    "matplotlib.rcParams['savefig.dpi'] = 144"
   ]
  },
  {
   "cell_type": "code",
   "execution_count": 73,
   "metadata": {
    "collapsed": true,
    "deletable": true,
    "editable": true
   },
   "outputs": [],
   "source": [
    "import expectexception"
   ]
  },
  {
   "cell_type": "markdown",
   "metadata": {
    "deletable": true,
    "editable": true
   },
   "source": [
    "# Python Built-in Data Structures\n",
    "\n",
    "Python comes built-in with primitive data types for you to use to store your data. Here are some examples:"
   ]
  },
  {
   "cell_type": "code",
   "execution_count": 74,
   "metadata": {
    "collapsed": false,
    "deletable": true,
    "editable": true
   },
   "outputs": [
    {
     "name": "stdout",
     "output_type": "stream",
     "text": [
      "42\n",
      "3.14\n",
      "data\n",
      "1j\n"
     ]
    }
   ],
   "source": [
    "thing1 = 42\n",
    "thing2 = 3.14\n",
    "thing3 = 'data'\n",
    "thing4 = complex(0, 1)\n",
    "\n",
    "print thing1\n",
    "print thing2\n",
    "print thing3\n",
    "print thing4"
   ]
  },
  {
   "cell_type": "markdown",
   "metadata": {
    "deletable": true,
    "editable": true
   },
   "source": [
    "We created 4 variables to store 4 things. This works, but frequently you will need and want to group these together in a more sensible and efficient way.\n",
    "\n",
    "Python comes with many built-in data structures for you to use to group your data together and store in memory. In this notebook, we will explore the most common data structures and how to make thoughtful choices about which is the best data structure for your needs.\n",
    "\n",
    "One of the data structures we will learn about is a `list`:"
   ]
  },
  {
   "cell_type": "code",
   "execution_count": 76,
   "metadata": {
    "collapsed": false,
    "deletable": true,
    "editable": true
   },
   "outputs": [
    {
     "name": "stdout",
     "output_type": "stream",
     "text": [
      "[42, 3.14, 'data', 1j]\n",
      "<type 'list'>\n"
     ]
    }
   ],
   "source": [
    "list_of_things = [42, 3.14, 'data', complex(0, 1)]\n",
    "\n",
    "print list_of_things\n",
    "print type(list_of_things)"
   ]
  },
  {
   "cell_type": "markdown",
   "metadata": {
    "deletable": true,
    "editable": true
   },
   "source": [
    "Another built-in data structure is a `set`:"
   ]
  },
  {
   "cell_type": "code",
   "execution_count": 77,
   "metadata": {
    "collapsed": false,
    "deletable": true,
    "editable": true
   },
   "outputs": [
    {
     "name": "stdout",
     "output_type": "stream",
     "text": [
      "set([42, 1j, 'data', 3.14])\n",
      "<type 'set'>\n"
     ]
    }
   ],
   "source": [
    "set_of_things = {42, 3.14, 'data', complex(0, 1)}\n",
    "                 \n",
    "print set_of_things\n",
    "print type(set_of_things)"
   ]
  },
  {
   "cell_type": "markdown",
   "metadata": {
    "deletable": true,
    "editable": true
   },
   "source": [
    "We could also use a `tuple`:"
   ]
  },
  {
   "cell_type": "code",
   "execution_count": 78,
   "metadata": {
    "collapsed": false,
    "deletable": true,
    "editable": true
   },
   "outputs": [
    {
     "name": "stdout",
     "output_type": "stream",
     "text": [
      "(42, 3.14, 'data', 1j)\n",
      "<type 'tuple'>\n"
     ]
    }
   ],
   "source": [
    "tuple_of_things = (42, 3.14, 'data', complex(0, 1))\n",
    "                 \n",
    "print tuple_of_things\n",
    "print type(tuple_of_things)"
   ]
  },
  {
   "cell_type": "markdown",
   "metadata": {
    "deletable": true,
    "editable": true
   },
   "source": [
    "Or perhaps a `dict` (dictionary):"
   ]
  },
  {
   "cell_type": "code",
   "execution_count": 79,
   "metadata": {
    "collapsed": false,
    "deletable": true,
    "editable": true
   },
   "outputs": [
    {
     "name": "stdout",
     "output_type": "stream",
     "text": [
      "{1: 42, 2: 3.14, 3: 'data', 4: 1j}\n",
      "<type 'dict'>\n"
     ]
    }
   ],
   "source": [
    "dict_of_things = {1: 42, 2: 3.14, 3: 'data', 4: complex(0, 1)}\n",
    "\n",
    "print dict_of_things\n",
    "print type(dict_of_things)"
   ]
  },
  {
   "cell_type": "markdown",
   "metadata": {
    "deletable": true,
    "editable": true
   },
   "source": [
    "Each of these data structures offers different methods for adding, updating, or removing the contained data. You will need to think carefully about how your program needs to access data to make effective data structure choices."
   ]
  },
  {
   "cell_type": "code",
   "execution_count": 99,
   "metadata": {
    "collapsed": false,
    "deletable": true,
    "editable": true
   },
   "outputs": [
    {
     "name": "stdout",
     "output_type": "stream",
     "text": [
      "<type 'dict'>\n",
      "<type 'list'>\n",
      "<type 'list'>\n"
     ]
    }
   ],
   "source": [
    "print type({4:complex(0,1)})\n",
    "print type([{4:complex(0,1)}])\n",
    "print type([{4:complex(0,1)},None])"
   ]
  },
  {
   "cell_type": "markdown",
   "metadata": {
    "deletable": true,
    "editable": true
   },
   "source": [
    "## Python `list`"
   ]
  },
  {
   "cell_type": "markdown",
   "metadata": {
    "deletable": true,
    "editable": true
   },
   "source": [
    "The first data structure we will explore is the Python `list`.\n",
    "\n",
    "A Python `list` is an *ordered* collection of heterogeneous objects. A `list` can be created using square brackets [ ] and data items separated with commas:"
   ]
  },
  {
   "cell_type": "code",
   "execution_count": 142,
   "metadata": {
    "collapsed": true,
    "deletable": true,
    "editable": true
   },
   "outputs": [],
   "source": [
    "squares = [1, 4, 9, 16, 25]\n",
    "primes = [2, 3, 5, 7, 11, 13, 17, 19]\n",
    "misc = [1, 'foo', 2.71828, None]"
   ]
  },
  {
   "cell_type": "markdown",
   "metadata": {
    "deletable": true,
    "editable": true
   },
   "source": [
    "The first two examples are lists of integers. The third is a list containing an integer, a string, a float, and a NoneType.\n",
    "\n",
    "The third is to show you that a list does not need to contain data items that are all the same type. This contrasts with Array data structures found in some other compiled programming languages like Java and C++.\n",
    "\n",
    "If we were so inclined, we could even make a list of lists:"
   ]
  },
  {
   "cell_type": "code",
   "execution_count": 103,
   "metadata": {
    "collapsed": false,
    "deletable": true,
    "editable": true
   },
   "outputs": [
    {
     "name": "stdout",
     "output_type": "stream",
     "text": [
      "[[1, 2, 3], [4, 5, 6], [7, 8, 9]]\n",
      "[1, 2, 3]\n",
      "[4, 5, 6]\n",
      "[7, 8, 9]\n",
      "1\n",
      "2\n",
      "3\n",
      "4\n",
      "5\n",
      "6\n",
      "7\n",
      "8\n",
      "9\n"
     ]
    }
   ],
   "source": [
    "list_of_lists = [[1, 2, 3], [4, 5, 6], [7, 8, 9]]\n",
    "\n",
    "print list_of_lists\n",
    "for item in list_of_lists:\n",
    "    print item\n",
    "for item in list_of_lists:\n",
    "    for items in item:\n",
    "        print items\n"
   ]
  },
  {
   "cell_type": "markdown",
   "metadata": {
    "deletable": true,
    "editable": true
   },
   "source": [
    "You'll find that nesting data structures inside each other can be an *extremely* effective way of storing data.\n",
    "\n",
    "Consider the list of primes, defined above. We can *index* into the list using square brackets [ ] and an integer:"
   ]
  },
  {
   "cell_type": "code",
   "execution_count": 104,
   "metadata": {
    "collapsed": false,
    "deletable": true,
    "editable": true
   },
   "outputs": [
    {
     "name": "stdout",
     "output_type": "stream",
     "text": [
      "11\n"
     ]
    }
   ],
   "source": [
    "print primes[4]"
   ]
  },
  {
   "cell_type": "markdown",
   "metadata": {
    "deletable": true,
    "editable": true
   },
   "source": [
    "**Question:** Is that the 4th prime number in the list...or the 5th?\n",
    "\n",
    "It's actually the 5th, because Python `list`s are *zero indexed*:"
   ]
  },
  {
   "cell_type": "code",
   "execution_count": 141,
   "metadata": {
    "collapsed": false,
    "deletable": true,
    "editable": true
   },
   "outputs": [
    {
     "name": "stdout",
     "output_type": "stream",
     "text": [
      "2\n",
      "3\n",
      "5\n",
      "7\n",
      "11\n"
     ]
    }
   ],
   "source": [
    "print primes[0] # first\n",
    "print primes[1] # second\n",
    "print primes[2] # third\n",
    "print primes[3] # fourth\n",
    "print primes[4] # fifth"
   ]
  },
  {
   "cell_type": "markdown",
   "metadata": {
    "deletable": true,
    "editable": true
   },
   "source": [
    "**Pay careful attention to this detail!** For people new to programming or coming from the matlab world, confusion about this can be a frequent source of error. People can get tripped up by this because we don't normally start counting things starting with zero.\n",
    "\n",
    "Index values needn't be fixed to one value; we can use a variable for that instead."
   ]
  },
  {
   "cell_type": "code",
   "execution_count": 44,
   "metadata": {
    "collapsed": false,
    "deletable": true,
    "editable": true
   },
   "outputs": [
    {
     "data": {
      "text/plain": [
       "11"
      ]
     },
     "execution_count": 44,
     "metadata": {},
     "output_type": "execute_result"
    }
   ],
   "source": [
    "index = 4\n",
    "primes[index]"
   ]
  },
  {
   "cell_type": "markdown",
   "metadata": {
    "deletable": true,
    "editable": true
   },
   "source": [
    "This leads to an easy way of *iterating* through a list in a for-loop:"
   ]
  },
  {
   "cell_type": "code",
   "execution_count": 143,
   "metadata": {
    "collapsed": false,
    "deletable": true,
    "editable": true
   },
   "outputs": [
    {
     "name": "stdout",
     "output_type": "stream",
     "text": [
      "0 2\n",
      "1 3\n",
      "2 5\n",
      "3 7\n",
      "4 11\n",
      "5 13\n",
      "6 17\n",
      "7 19\n"
     ]
    }
   ],
   "source": [
    "for i in range(len(primes)):\n",
    "    print i, primes[i]"
   ]
  },
  {
   "cell_type": "markdown",
   "metadata": {
    "deletable": true,
    "editable": true
   },
   "source": [
    "You will frequently need to iterate through items in a `list` in a for-loop. Conveniently, Python offers a programming construct for doing this more simply:"
   ]
  },
  {
   "cell_type": "code",
   "execution_count": 140,
   "metadata": {
    "collapsed": false,
    "deletable": true,
    "editable": true
   },
   "outputs": [
    {
     "name": "stdout",
     "output_type": "stream",
     "text": [
      "2\n",
      "3\n",
      "5\n",
      "7\n",
      "11\n",
      "13\n",
      "29\n",
      "19\n",
      "23\n",
      "29\n",
      "31\n",
      "37\n"
     ]
    }
   ],
   "source": [
    "for prime in primes:\n",
    "    print prime"
   ]
  },
  {
   "cell_type": "markdown",
   "metadata": {
    "deletable": true,
    "editable": true
   },
   "source": [
    "In this example each number in the list is assigned to the variable `prime`, one at a time, in the order that they are stored in the `list`.\n",
    "\n",
    "The above programming construct is preferred over the first one that used the `range` keyword.\n",
    "\n",
    "### Accessing and Modifying Python `list` data\n",
    "\n",
    "Frequently you will want to change a `list`'s contents. If we want to add an item to the end of the list, we can use the `append` method:"
   ]
  },
  {
   "cell_type": "code",
   "execution_count": 149,
   "metadata": {
    "collapsed": true,
    "deletable": true,
    "editable": true
   },
   "outputs": [],
   "source": [
    "primes.append(23)"
   ]
  },
  {
   "cell_type": "markdown",
   "metadata": {
    "deletable": true,
    "editable": true
   },
   "source": [
    "Notice you don't see any output in the previous cell. That's because the `primes` list was modified *in place*. We can examine `primes` to see that it is in fact different:"
   ]
  },
  {
   "cell_type": "code",
   "execution_count": 145,
   "metadata": {
    "collapsed": false,
    "deletable": true,
    "editable": true
   },
   "outputs": [
    {
     "name": "stdout",
     "output_type": "stream",
     "text": [
      "[2, 3, 5, 7, 11, 13, 17, 19, 23]\n"
     ]
    }
   ],
   "source": [
    "print primes\n"
   ]
  },
  {
   "cell_type": "code",
   "execution_count": 146,
   "metadata": {
    "collapsed": false,
    "deletable": true,
    "editable": true
   },
   "outputs": [
    {
     "name": "stdout",
     "output_type": "stream",
     "text": [
      "[2, 3, 5, 7, 11, 13, 17, 19]\n"
     ]
    }
   ],
   "source": [
    "# RBM Added this cell to remove additional 23, if added... CAREFULL!!! :\n",
    "primes.pop()\n",
    "print primes"
   ]
  },
  {
   "cell_type": "markdown",
   "metadata": {
    "deletable": true,
    "editable": true
   },
   "source": [
    "Remember this, as this concept will come up again later in our studies.\n",
    "\n",
    "We can also add extend the list with another list using the addition (`+`) operator:"
   ]
  },
  {
   "cell_type": "code",
   "execution_count": 150,
   "metadata": {
    "collapsed": false,
    "deletable": true,
    "editable": true
   },
   "outputs": [
    {
     "data": {
      "text/plain": [
       "[2, 3, 5, 7, 11, 13, 17, 19, 23, 25, 29, 31]"
      ]
     },
     "execution_count": 150,
     "metadata": {},
     "output_type": "execute_result"
    }
   ],
   "source": [
    "primes + [25, 29, 31]"
   ]
  },
  {
   "cell_type": "markdown",
   "metadata": {
    "deletable": true,
    "editable": true
   },
   "source": [
    "In the previous cell you do see output because the Python statement created a new `list` that is a combination of `primes` and the list `[25, 29, 31]`. The list `primes` was not affected."
   ]
  },
  {
   "cell_type": "code",
   "execution_count": 151,
   "metadata": {
    "collapsed": false,
    "deletable": true,
    "editable": true
   },
   "outputs": [
    {
     "name": "stdout",
     "output_type": "stream",
     "text": [
      "[2, 3, 5, 7, 11, 13, 17, 19, 23]\n"
     ]
    }
   ],
   "source": [
    "print primes"
   ]
  },
  {
   "cell_type": "markdown",
   "metadata": {
    "deletable": true,
    "editable": true
   },
   "source": [
    "If we wanted to update `primes`, we would have to assign it back to that variable."
   ]
  },
  {
   "cell_type": "code",
   "execution_count": 152,
   "metadata": {
    "collapsed": false,
    "deletable": true,
    "editable": true
   },
   "outputs": [
    {
     "name": "stdout",
     "output_type": "stream",
     "text": [
      "[2, 3, 5, 7, 11, 13, 17, 19, 23, 27, 31, 37]\n"
     ]
    }
   ],
   "source": [
    "primes = primes + [27, 31, 37]  # 27 is not prime!!!\n",
    "\n",
    "print primes"
   ]
  },
  {
   "cell_type": "markdown",
   "metadata": {
    "deletable": true,
    "editable": true
   },
   "source": [
    "But wait a minute! We added the non-prime number 27 to the list. We meant to type 29. We can easily fix that using a `list`'s index functionality:"
   ]
  },
  {
   "cell_type": "code",
   "execution_count": 153,
   "metadata": {
    "collapsed": false,
    "deletable": true,
    "editable": true
   },
   "outputs": [
    {
     "name": "stdout",
     "output_type": "stream",
     "text": [
      "[2, 3, 5, 7, 11, 13, 17, 19, 23, 29, 31, 37]\n"
     ]
    }
   ],
   "source": [
    "primes[9] = 29\n",
    "\n",
    "print primes\n"
   ]
  },
  {
   "cell_type": "markdown",
   "metadata": {
    "deletable": true,
    "editable": true
   },
   "source": [
    "In this example we indexed into `primes` using the number `9` because the number `27` was the 10th item starting from the front of the list. However, we didn't have to count from the front of the list: Python allows us to index from the rear of the list instead:"
   ]
  },
  {
   "cell_type": "code",
   "execution_count": 155,
   "metadata": {
    "collapsed": false,
    "deletable": true,
    "editable": true
   },
   "outputs": [],
   "source": [
    "primes[-3] = 29"
   ]
  },
  {
   "cell_type": "markdown",
   "metadata": {
    "deletable": true,
    "editable": true
   },
   "source": [
    "Observe that we used `-3`, not `-2`. That's because the last item in the list is accessed with the index `-1`, like so:"
   ]
  },
  {
   "cell_type": "code",
   "execution_count": 156,
   "metadata": {
    "collapsed": false,
    "deletable": true,
    "editable": true
   },
   "outputs": [
    {
     "name": "stdout",
     "output_type": "stream",
     "text": [
      "37\n"
     ]
    }
   ],
   "source": [
    "print primes[-1]"
   ]
  },
  {
   "cell_type": "markdown",
   "metadata": {
    "deletable": true,
    "editable": true
   },
   "source": [
    "Python `list` indexing is a powerful feature. We can also use it access a sublist:"
   ]
  },
  {
   "cell_type": "code",
   "execution_count": 157,
   "metadata": {
    "collapsed": false,
    "deletable": true,
    "editable": true
   },
   "outputs": [
    {
     "name": "stdout",
     "output_type": "stream",
     "text": [
      "[2, 3, 5, 7, 11]\n"
     ]
    }
   ],
   "source": [
    "print primes[0:5]  # first 5 primes"
   ]
  },
  {
   "cell_type": "markdown",
   "metadata": {
    "deletable": true,
    "editable": true
   },
   "source": [
    "Observe that Python list indexing is *inclusive-exclusive*. That is, it starts at the first index and ends right *before* the last index:"
   ]
  },
  {
   "cell_type": "code",
   "execution_count": 133,
   "metadata": {
    "collapsed": false,
    "deletable": true,
    "editable": true
   },
   "outputs": [
    {
     "name": "stdout",
     "output_type": "stream",
     "text": [
      "2\n",
      "3\n",
      "5\n",
      "7\n",
      "11\n"
     ]
    }
   ],
   "source": [
    "print primes[0]  # included\n",
    "print primes[1]\n",
    "print primes[2]\n",
    "print primes[3]\n",
    "print primes[4]\n",
    "# print primes[5]  # excluded"
   ]
  },
  {
   "cell_type": "markdown",
   "metadata": {
    "deletable": true,
    "editable": true
   },
   "source": [
    "If we want the sublist to begin or end at the beginning or ending of the original list, we can leave out that number:"
   ]
  },
  {
   "cell_type": "code",
   "execution_count": 137,
   "metadata": {
    "collapsed": false,
    "deletable": true,
    "editable": true
   },
   "outputs": [
    {
     "name": "stdout",
     "output_type": "stream",
     "text": [
      "[2, 3, 5, 7, 11]\n",
      "[29, 31, 37]\n"
     ]
    }
   ],
   "source": [
    "print primes[:5]  # same because 0 is implicit\n",
    "print primes[-3:] # last 3 primes"
   ]
  },
  {
   "cell_type": "markdown",
   "metadata": {
    "deletable": true,
    "editable": true
   },
   "source": [
    "We can access every other prime number if we wish:"
   ]
  },
  {
   "cell_type": "code",
   "execution_count": 158,
   "metadata": {
    "collapsed": false,
    "deletable": true,
    "editable": true
   },
   "outputs": [
    {
     "name": "stdout",
     "output_type": "stream",
     "text": [
      "[2, 5, 11, 17, 23, 31]\n",
      "[2, 5, 11, 17, 23, 31]\n"
     ]
    }
   ],
   "source": [
    "print primes[0:-1:2]  # step size of 2\n",
    "print primes[::2]"
   ]
  },
  {
   "cell_type": "markdown",
   "metadata": {
    "deletable": true,
    "editable": true
   },
   "source": [
    "Or the list in reverse:"
   ]
  },
  {
   "cell_type": "code",
   "execution_count": 159,
   "metadata": {
    "collapsed": false,
    "deletable": true,
    "editable": true
   },
   "outputs": [
    {
     "name": "stdout",
     "output_type": "stream",
     "text": [
      "[37, 31, 29, 23, 19, 17, 13, 11, 7, 5, 3, 2]\n"
     ]
    }
   ],
   "source": [
    "print primes[::-1]"
   ]
  },
  {
   "cell_type": "markdown",
   "metadata": {
    "deletable": true,
    "editable": true
   },
   "source": [
    "**Question:** What happens if we create a sublist and modify one of the values? Is the original `list` also modified?"
   ]
  },
  {
   "cell_type": "code",
   "execution_count": 160,
   "metadata": {
    "collapsed": false,
    "deletable": true,
    "editable": true
   },
   "outputs": [
    {
     "name": "stdout",
     "output_type": "stream",
     "text": [
      "['cat', 'dog', 'lion']\n",
      "['cat', 'dog', 'elephant', 'dolphin', 'tardigrade']\n"
     ]
    }
   ],
   "source": [
    "animals = ['cat', 'dog', 'elephant', 'dolphin', 'tardigrade']\n",
    "animals_sublist = animals[:3]\n",
    "\n",
    "animals_sublist[2] = 'lion'\n",
    "\n",
    "print animals_sublist\n",
    "print animals"
   ]
  },
  {
   "cell_type": "markdown",
   "metadata": {
    "deletable": true,
    "editable": true
   },
   "source": [
    "It is not, because the Python command `animals[:3]` actually created a new list, referencing the same `str` objects. Modifying `animals_sublist[2]` only changed `animals_sublist`, not `animals`.\n",
    "\n",
    "You will frequently use the `len` built-in function to count the length of a `list`:"
   ]
  },
  {
   "cell_type": "code",
   "execution_count": 161,
   "metadata": {
    "collapsed": false,
    "deletable": true,
    "editable": true
   },
   "outputs": [
    {
     "name": "stdout",
     "output_type": "stream",
     "text": [
      "12\n"
     ]
    }
   ],
   "source": [
    "print len(primes)"
   ]
  },
  {
   "cell_type": "markdown",
   "metadata": {
    "deletable": true,
    "editable": true
   },
   "source": [
    "Python `list`s have a built-in method for sorting the items in the `list`:"
   ]
  },
  {
   "cell_type": "code",
   "execution_count": 162,
   "metadata": {
    "collapsed": false,
    "deletable": true,
    "editable": true
   },
   "outputs": [
    {
     "name": "stdout",
     "output_type": "stream",
     "text": [
      "[2, 4, 7, 7, 9]\n",
      "[9, 7, 7, 4, 2]\n"
     ]
    }
   ],
   "source": [
    "random = [7, 4, 7, 2, 9]\n",
    "\n",
    "random.sort()\n",
    "\n",
    "print random\n",
    "\n",
    "random.sort(reverse=True)\n",
    "\n",
    "print random"
   ]
  },
  {
   "cell_type": "markdown",
   "metadata": {
    "deletable": true,
    "editable": true
   },
   "source": [
    "There a few more `list` methods, but the ones discussed above are the ones that are most frequently used. Take the time to familiarize yourself with them as much as possible so you can recall them later. These methods will become the building blocks to data manipulations later in your Python adventures."
   ]
  },
  {
   "cell_type": "markdown",
   "metadata": {
    "deletable": true,
    "editable": true
   },
   "source": [
    "## Python `dict` (a.k.a. dictionaries)\n",
    "\n",
    "The Python `dict` data structure provides you with the ability to create a mapping from one set of objects to another. \n",
    "\n",
    "A real [Dictionary](http://www.merriam-webster.com/) maps words in our language to each words' definition. The mapping is in one direction, meaning that we can easily use a word to look up a word's definition, but with a definition we cannot (easily) find the word that the definition belongs to. In this analogy, the words are like keys that are used to map to definitions, or values.\n",
    "\n",
    "A Python dictionary maps Python objects to each other. The objects used to do the \"looking up\" are called *keys*, and are mapped to other Python objects referred to as *values*. Together, each key and value can be called key-value pairs. A dictionary is composed of a collection of key-value pairs.\n",
    "\n",
    "Here is a simple example:"
   ]
  },
  {
   "cell_type": "code",
   "execution_count": 163,
   "metadata": {
    "collapsed": false,
    "deletable": true,
    "editable": true
   },
   "outputs": [
    {
     "name": "stdout",
     "output_type": "stream",
     "text": [
      "{'Stephen Hawking': 1942, 'Albert Einstein': 1879, 'Marie Curie': 1867}\n"
     ]
    }
   ],
   "source": [
    "physicists = {'Albert Einstein': 1879, \n",
    "              'Stephen Hawking': 1942,\n",
    "              'Marie Curie': 1867}\n",
    "\n",
    "print physicists"
   ]
  },
  {
   "cell_type": "markdown",
   "metadata": {
    "deletable": true,
    "editable": true
   },
   "source": [
    "This maps the names of famous Physicists to the year they were born.\n",
    "\n",
    "Carefully observe the syntax of this code. Notice we are using curly braces { } to define the dictionary. Also notice that we use a colon : to separate the keys (names) from the values (years). The key-value pairs are separated by commas.\n",
    "\n",
    "You can also define a `dict` using this syntax:"
   ]
  },
  {
   "cell_type": "code",
   "execution_count": 65,
   "metadata": {
    "collapsed": false,
    "deletable": true,
    "editable": true
   },
   "outputs": [
    {
     "name": "stdout",
     "output_type": "stream",
     "text": [
      "{'square': 4, 'triangle': 3, 'octagon': 8}\n"
     ]
    }
   ],
   "source": [
    "num_of_sides = dict(triangle=3, square=4, octagon=8)\n",
    "\n",
    "print num_of_sides"
   ]
  },
  {
   "cell_type": "markdown",
   "metadata": {
    "deletable": true,
    "editable": true
   },
   "source": [
    "Observe the syntax differences. Instead of curly braces we have parentheses ( ) and are using the `dict` constructor. Instead of colons we have equals = signs. The keys, which are strings, do not have quotes around them like most other strings.\n",
    "\n",
    "This alternate syntax can only work when you want the dictionary's keys to be strings, those strings do not contain spaces, and several other limitations. Nevertheless, this syntax can be easier to type."
   ]
  },
  {
   "cell_type": "markdown",
   "metadata": {
    "deletable": true,
    "editable": true
   },
   "source": [
    "We can access a `dict`'s values with square brackets [ ], much like a list, but instead of using an integer index, we will use the keys:"
   ]
  },
  {
   "cell_type": "code",
   "execution_count": 181,
   "metadata": {
    "collapsed": false,
    "deletable": true,
    "editable": true
   },
   "outputs": [
    {
     "data": {
      "text/plain": [
       "1867"
      ]
     },
     "execution_count": 181,
     "metadata": {},
     "output_type": "execute_result"
    }
   ],
   "source": [
    "physicists['Marie Curie']"
   ]
  },
  {
   "cell_type": "markdown",
   "metadata": {
    "deletable": true,
    "editable": true
   },
   "source": [
    "We can add additional key-value pairs to the `dict`:"
   ]
  },
  {
   "cell_type": "code",
   "execution_count": 182,
   "metadata": {
    "collapsed": true,
    "deletable": true,
    "editable": true
   },
   "outputs": [],
   "source": [
    "physicists['Nikola Tesla'] = 1858"
   ]
  },
  {
   "cell_type": "markdown",
   "metadata": {
    "deletable": true,
    "editable": true
   },
   "source": [
    "I can also change an existing value:"
   ]
  },
  {
   "cell_type": "code",
   "execution_count": 183,
   "metadata": {
    "collapsed": true,
    "deletable": true,
    "editable": true
   },
   "outputs": [],
   "source": [
    "physicists['Nikola Tesla'] = 1856"
   ]
  },
  {
   "cell_type": "markdown",
   "metadata": {
    "deletable": true,
    "editable": true
   },
   "source": [
    "If we try to access a non-existing key, we will get a KeyError exception:"
   ]
  },
  {
   "cell_type": "code",
   "execution_count": 184,
   "metadata": {
    "collapsed": false,
    "deletable": true,
    "editable": true
   },
   "outputs": [
    {
     "name": "stdout",
     "output_type": "stream",
     "text": [
      "\u001b[0;31m\u001b[0m\n",
      "\u001b[0;31mKeyError\u001b[0mTraceback (most recent call last)\n",
      "\u001b[0;32m<ipython-input-184-010a5ab864fa>\u001b[0m in \u001b[0;36m<module>\u001b[0;34m()\u001b[0m\n",
      "\u001b[1;32m      1\u001b[0m \u001b[0;34m\u001b[0m\u001b[0m\n",
      "\u001b[0;32m----> 2\u001b[0;31m \u001b[0mphysicists\u001b[0m\u001b[0;34m[\u001b[0m\u001b[0;34m'Isaac Newton'\u001b[0m\u001b[0;34m]\u001b[0m\u001b[0;34m\u001b[0m\u001b[0m\n",
      "\u001b[0m\n",
      "\u001b[0;31mKeyError\u001b[0m: 'Isaac Newton'\n"
     ]
    }
   ],
   "source": [
    "%%expect_exception KeyError\n",
    "\n",
    "physicists['Isaac Newton']"
   ]
  },
  {
   "cell_type": "markdown",
   "metadata": {
    "deletable": true,
    "editable": true
   },
   "source": [
    "Happily we can test a `dict` to see if it has a given key before the lookup:"
   ]
  },
  {
   "cell_type": "code",
   "execution_count": 168,
   "metadata": {
    "collapsed": false,
    "deletable": true,
    "editable": true
   },
   "outputs": [
    {
     "name": "stdout",
     "output_type": "stream",
     "text": [
      "False\n",
      "True\n",
      "1867\n"
     ]
    }
   ],
   "source": [
    "print 'Isaac Newton' in physicists\n",
    "print 'Nikola Tesla' in physicists\n",
    "\n",
    "if 'Marie Curie' in physicists:\n",
    "    print physicists['Marie Curie']"
   ]
  },
  {
   "cell_type": "markdown",
   "metadata": {
    "deletable": true,
    "editable": true
   },
   "source": [
    "A `dict`'s get method can be very helpful in this case. It performs the same action as the square brackets [ ] lookup except it returns `None` if the key is not found. "
   ]
  },
  {
   "cell_type": "code",
   "execution_count": 169,
   "metadata": {
    "collapsed": false,
    "deletable": true,
    "editable": true
   },
   "outputs": [
    {
     "name": "stdout",
     "output_type": "stream",
     "text": [
      "None\n"
     ]
    }
   ],
   "source": [
    "print physicists.get('Isaac Newton')"
   ]
  },
  {
   "cell_type": "markdown",
   "metadata": {
    "deletable": true,
    "editable": true
   },
   "source": [
    "If we want, we can specify an alternative to `None`:"
   ]
  },
  {
   "cell_type": "code",
   "execution_count": 170,
   "metadata": {
    "collapsed": false,
    "deletable": true,
    "editable": true
   },
   "outputs": [
    {
     "name": "stdout",
     "output_type": "stream",
     "text": [
      "0\n"
     ]
    }
   ],
   "source": [
    "print physicists.get('Isaac Newton', 0)"
   ]
  },
  {
   "cell_type": "markdown",
   "metadata": {
    "deletable": true,
    "editable": true
   },
   "source": [
    "If we wish to remove a key-value pair from a dictionary, we can use the `del` keyword:"
   ]
  },
  {
   "cell_type": "code",
   "execution_count": 171,
   "metadata": {
    "collapsed": false,
    "deletable": true,
    "editable": true
   },
   "outputs": [
    {
     "name": "stdout",
     "output_type": "stream",
     "text": [
      "{'Stephen Hawking': 1942, 'Nikola Tesla': 1856, 'Albert Einstein': 1879, 'Marie Curie': 1867}\n",
      "{'Nikola Tesla': 1856, 'Albert Einstein': 1879, 'Marie Curie': 1867}\n"
     ]
    }
   ],
   "source": [
    "print physicists\n",
    "\n",
    "del physicists['Stephen Hawking']\n",
    "\n",
    "print physicists"
   ]
  },
  {
   "cell_type": "markdown",
   "metadata": {
    "deletable": true,
    "editable": true
   },
   "source": [
    "If Stephen Hawking was not in the `physicists` dictionary, the code would have raised another `KeyError`.\n",
    "\n",
    "The examples we have seen so far have all mapped strings to integers. Consider this example, which maps integers to integers:"
   ]
  },
  {
   "cell_type": "code",
   "execution_count": 172,
   "metadata": {
    "collapsed": false,
    "deletable": true,
    "editable": true
   },
   "outputs": [
    {
     "name": "stdout",
     "output_type": "stream",
     "text": [
      "{1: 1, 2: 4, 3: 9, 4: 16, 5: 25}\n"
     ]
    }
   ],
   "source": [
    "square_lut = {1: 1, 2: 4, 3: 9, 4: 16, 5: 25}\n",
    "\n",
    "print square_lut"
   ]
  },
  {
   "cell_type": "markdown",
   "metadata": {
    "deletable": true,
    "editable": true
   },
   "source": [
    "A lookup table like this could be used to get the square of an integer without having to recalculate it again and again. Used correctly, lookup tables can improve the execution performance of your code.\n",
    "\n",
    "If you want, you can access just a dictionary's keys or values using the `keys()` and `values()` methods:"
   ]
  },
  {
   "cell_type": "code",
   "execution_count": 173,
   "metadata": {
    "collapsed": false,
    "deletable": true,
    "editable": true
   },
   "outputs": [
    {
     "name": "stdout",
     "output_type": "stream",
     "text": [
      "keys: [1, 2, 3, 4, 5]\n",
      "values: [1, 4, 9, 16, 25]\n"
     ]
    }
   ],
   "source": [
    "print 'keys:', square_lut.keys()\n",
    "print 'values:', square_lut.values()"
   ]
  },
  {
   "cell_type": "markdown",
   "metadata": {
    "deletable": true,
    "editable": true
   },
   "source": [
    "You can access the keys and values as pairs (`tuples`, discussed later) using the `items()` method:"
   ]
  },
  {
   "cell_type": "code",
   "execution_count": 174,
   "metadata": {
    "collapsed": false,
    "deletable": true,
    "editable": true
   },
   "outputs": [
    {
     "name": "stdout",
     "output_type": "stream",
     "text": [
      "[(1, 1), (2, 4), (3, 9), (4, 16), (5, 25)]\n"
     ]
    }
   ],
   "source": [
    "print square_lut.items()"
   ]
  },
  {
   "cell_type": "markdown",
   "metadata": {
    "deletable": true,
    "editable": true
   },
   "source": [
    "This is a `list` but it can be converted back into a dictionary with the `dict` constructor:"
   ]
  },
  {
   "cell_type": "code",
   "execution_count": 175,
   "metadata": {
    "collapsed": false,
    "deletable": true,
    "editable": true
   },
   "outputs": [
    {
     "name": "stdout",
     "output_type": "stream",
     "text": [
      "{1: 1, 2: 4, 3: 9, 4: 16, 5: 25}\n"
     ]
    }
   ],
   "source": [
    "print dict(square_lut.items())"
   ]
  },
  {
   "cell_type": "markdown",
   "metadata": {
    "deletable": true,
    "editable": true
   },
   "source": [
    "You can iterate through a `dict`'s items much like a `list`:"
   ]
  },
  {
   "cell_type": "code",
   "execution_count": 176,
   "metadata": {
    "collapsed": false,
    "deletable": true,
    "editable": true
   },
   "outputs": [
    {
     "name": "stdout",
     "output_type": "stream",
     "text": [
      "1 1\n",
      "2 4\n",
      "3 9\n",
      "4 16\n",
      "5 25\n"
     ]
    }
   ],
   "source": [
    "for k, v in square_lut.items():\n",
    "    print '%d %d' % (k, v)"
   ]
  },
  {
   "cell_type": "markdown",
   "metadata": {
    "deletable": true,
    "editable": true
   },
   "source": [
    "### A more sophisticated example...\n",
    "\n",
    "Let's try combining what we have learned so far about dictionaries and lists by making a dictionary that maps strings to a list of strings."
   ]
  },
  {
   "cell_type": "code",
   "execution_count": 177,
   "metadata": {
    "collapsed": false,
    "deletable": true,
    "editable": true
   },
   "outputs": [],
   "source": [
    "foods = {'fruits': ['apple', 'watermelon', 'orange', 'nectarine'],\n",
    "         'vegetables': ['potato', 'lettuce', 'onion', 'spinach', 'kale']}"
   ]
  },
  {
   "cell_type": "markdown",
   "metadata": {
    "deletable": true,
    "editable": true
   },
   "source": [
    "We can access the data with a chain of square bracket lookups:"
   ]
  },
  {
   "cell_type": "code",
   "execution_count": 178,
   "metadata": {
    "collapsed": false,
    "deletable": true,
    "editable": true
   },
   "outputs": [
    {
     "name": "stdout",
     "output_type": "stream",
     "text": [
      "watermelon\n",
      "['spinach', 'kale']\n"
     ]
    }
   ],
   "source": [
    "print foods['fruits'][1]\n",
    "print foods['vegetables'][3:]"
   ]
  },
  {
   "cell_type": "markdown",
   "metadata": {
    "deletable": true,
    "editable": true
   },
   "source": [
    "Iterating over a dictionary yields its keys.  We can use this with nested for loops to create a little report of foods:"
   ]
  },
  {
   "cell_type": "code",
   "execution_count": 179,
   "metadata": {
    "collapsed": false,
    "deletable": true,
    "editable": true
   },
   "outputs": [
    {
     "name": "stdout",
     "output_type": "stream",
     "text": [
      "vegetables\n",
      "==========\n",
      "potato\n",
      "lettuce\n",
      "onion\n",
      "spinach\n",
      "kale\n",
      "\n",
      "\n",
      "fruits\n",
      "======\n",
      "apple\n",
      "watermelon\n",
      "orange\n",
      "nectarine\n",
      "\n",
      "\n"
     ]
    }
   ],
   "source": [
    "for food_type in foods:\n",
    "    print food_type\n",
    "    print '=' * len(food_type)\n",
    "    for food_item in foods[food_type]:\n",
    "        print food_item\n",
    "    print '\\n'"
   ]
  },
  {
   "cell_type": "markdown",
   "metadata": {
    "deletable": true,
    "editable": true
   },
   "source": [
    "Note that our food types come out in a different order than they were put in.  A dictionary is *unordered*&mdash;when you ask for its keys, you may get them in an arbitrary order.  (Sometimes, as in `square_lut` above, Python will seem to be ordering the keys.  This is an implementation detail and should not be counted on to stay consistent.)\n",
    "\n",
    "Our `foods` `dict` maps strings to `list`s. Can we do the reverse? Map a list to a string?"
   ]
  },
  {
   "cell_type": "code",
   "execution_count": 180,
   "metadata": {
    "collapsed": false,
    "deletable": true,
    "editable": true
   },
   "outputs": [
    {
     "name": "stdout",
     "output_type": "stream",
     "text": [
      "\u001b[0;31m\u001b[0m\n",
      "\u001b[0;31mTypeError\u001b[0mTraceback (most recent call last)\n",
      "\u001b[0;32m<ipython-input-180-d808df00ba26>\u001b[0m in \u001b[0;36m<module>\u001b[0;34m()\u001b[0m\n",
      "\u001b[1;32m      1\u001b[0m \u001b[0;34m\u001b[0m\u001b[0m\n",
      "\u001b[0;32m----> 2\u001b[0;31m \u001b[0;34m{\u001b[0m\u001b[0;34m[\u001b[0m\u001b[0;36m1\u001b[0m\u001b[0;34m,\u001b[0m \u001b[0;36m2\u001b[0m\u001b[0;34m,\u001b[0m \u001b[0;36m3\u001b[0m\u001b[0;34m]\u001b[0m\u001b[0;34m:\u001b[0m \u001b[0;34m'one, two, three'\u001b[0m\u001b[0;34m,\u001b[0m \u001b[0;34m[\u001b[0m\u001b[0;36m4\u001b[0m\u001b[0;34m,\u001b[0m \u001b[0;36m5\u001b[0m\u001b[0;34m,\u001b[0m \u001b[0;36m6\u001b[0m\u001b[0;34m]\u001b[0m\u001b[0;34m:\u001b[0m \u001b[0;34m'four, five, six'\u001b[0m\u001b[0;34m}\u001b[0m\u001b[0;34m\u001b[0m\u001b[0m\n",
      "\u001b[0m\n",
      "\u001b[0;31mTypeError\u001b[0m: unhashable type: 'list'\n"
     ]
    }
   ],
   "source": [
    "%%expect_exception TypeError\n",
    "\n",
    "{[1, 2, 3]: 'one, two, three', [4, 5, 6]: 'four, five, six'}"
   ]
  },
  {
   "cell_type": "markdown",
   "metadata": {
    "deletable": true,
    "editable": true
   },
   "source": [
    "No, we cannot. That has to do with the implementation of the Python `dict` class. Recall from earlier in our lesson that a Python `list` can change. A `dict`'s keys can only be immutable (unchangeable) objects."
   ]
  },
  {
   "cell_type": "markdown",
   "metadata": {
    "deletable": true,
    "editable": true
   },
   "source": [
    "## Python `set`\n",
    "\n",
    "Python `set`s are less popular than `list`s and `dict`s but they are a fundamental data structure.\n",
    "\n",
    "Similar to a `list`, they group together a collection of heterogeneous objects. Two notable differences are that they are unordered, and they do not allow duplicates."
   ]
  },
  {
   "cell_type": "code",
   "execution_count": 185,
   "metadata": {
    "collapsed": false,
    "deletable": true,
    "editable": true
   },
   "outputs": [
    {
     "name": "stdout",
     "output_type": "stream",
     "text": [
      "[1, 3, 3, 4, 9]\n",
      "set([1, 3, 4, 9])\n"
     ]
    }
   ],
   "source": [
    "list_of_numbers = [1, 3, 3, 4, 9]\n",
    "set_of_numbers = {1, 3, 3, 4, 9}\n",
    "\n",
    "print list_of_numbers\n",
    "print set_of_numbers"
   ]
  },
  {
   "cell_type": "code",
   "execution_count": 186,
   "metadata": {
    "collapsed": false
   },
   "outputs": [
    {
     "name": "stdout",
     "output_type": "stream",
     "text": [
      "[1, 2, 7, 7, 6, 4, 9, 9, 3]\n",
      "set([1, 2, 3, 4, 6, 7, 9])\n"
     ]
    }
   ],
   "source": [
    "#RBM Testing\n",
    "numlist = [1,2,7,7,6,4,9,9,3]\n",
    "numset = {1,2,7,7,6,4,9,9,3}\n",
    "\n",
    "print numlist\n",
    "print numset"
   ]
  },
  {
   "cell_type": "markdown",
   "metadata": {
    "deletable": true,
    "editable": true
   },
   "source": [
    "Observe that the second data structure changed the original order and removed the duplicate `3`. This can be a useful feature if you have a list of items and want to know how many distinct items are in the list."
   ]
  },
  {
   "cell_type": "code",
   "execution_count": 71,
   "metadata": {
    "collapsed": false,
    "deletable": true,
    "editable": true
   },
   "outputs": [
    {
     "name": "stdout",
     "output_type": "stream",
     "text": [
      "set([72, 42, 18, 39])\n"
     ]
    }
   ],
   "source": [
    "integers = [72, 42, 18, 42, 18, 72, 39, 72, 18, 72, 72, 72, 72, 18, 72, 39, 18, 18, 39, 42, 18, 39, 42, 18, 42]\n",
    "\n",
    "distinct_integers = set(integers)\n",
    "\n",
    "print distinct_integers"
   ]
  },
  {
   "cell_type": "markdown",
   "metadata": {
    "deletable": true,
    "editable": true
   },
   "source": [
    "We can't index into a set with square brackets [ ] but we can iterate through the items:"
   ]
  },
  {
   "cell_type": "code",
   "execution_count": 187,
   "metadata": {
    "collapsed": false,
    "deletable": true,
    "editable": true
   },
   "outputs": [
    {
     "name": "stdout",
     "output_type": "stream",
     "text": [
      "72\n",
      "42\n",
      "18\n",
      "39\n"
     ]
    }
   ],
   "source": [
    "for i in distinct_integers:\n",
    "    print i"
   ]
  },
  {
   "cell_type": "markdown",
   "metadata": {
    "deletable": true,
    "editable": true
   },
   "source": [
    "A Python `set` is very much like a mathematical set. It can do the same mathematical operations. Much can be accomplished with this functionality."
   ]
  },
  {
   "cell_type": "code",
   "execution_count": 188,
   "metadata": {
    "collapsed": false,
    "deletable": true,
    "editable": true
   },
   "outputs": [
    {
     "name": "stdout",
     "output_type": "stream",
     "text": [
      "set(['python'])\n",
      "set(['python', 'tea', 'music', 'pb&j sandwiches', 'reading', 'ice cream', 'pizza'])\n",
      "set(['tea', 'reading', 'pb&j sandwiches'])\n",
      "set(['music', 'ice cream', 'pizza'])\n"
     ]
    }
   ],
   "source": [
    "person_a_likes = {'pizza', 'python', 'music', 'ice cream'}\n",
    "person_b_likes = {'tea', 'pb&j sandwiches', 'python', 'reading'}\n",
    "\n",
    "print person_a_likes.intersection(person_b_likes)\n",
    "print person_b_likes.union(person_a_likes)\n",
    "\n",
    "print person_b_likes.difference(person_a_likes)\n",
    "print person_a_likes.difference(person_b_likes)"
   ]
  },
  {
   "cell_type": "markdown",
   "metadata": {
    "deletable": true,
    "editable": true
   },
   "source": [
    "Notice the original `set`s are not altered by the `set` operations:"
   ]
  },
  {
   "cell_type": "code",
   "execution_count": 189,
   "metadata": {
    "collapsed": false,
    "deletable": true,
    "editable": true
   },
   "outputs": [
    {
     "name": "stdout",
     "output_type": "stream",
     "text": [
      "set(['python', 'music', 'ice cream', 'pizza'])\n",
      "set(['python', 'tea', 'reading', 'pb&j sandwiches'])\n"
     ]
    }
   ],
   "source": [
    "print person_a_likes\n",
    "print person_b_likes"
   ]
  },
  {
   "cell_type": "markdown",
   "metadata": {
    "deletable": true,
    "editable": true
   },
   "source": [
    "If we wish we can add new items to the `set`, but like dictionary keys, those items must be Hashable."
   ]
  },
  {
   "cell_type": "code",
   "execution_count": 190,
   "metadata": {
    "collapsed": false,
    "deletable": true,
    "editable": true
   },
   "outputs": [
    {
     "name": "stdout",
     "output_type": "stream",
     "text": [
      "set(['python', 'music', 'sailing', 'ice cream', 'pizza'])\n"
     ]
    }
   ],
   "source": [
    "person_a_likes.add('sailing')\n",
    "\n",
    "print person_a_likes"
   ]
  },
  {
   "cell_type": "code",
   "execution_count": 191,
   "metadata": {
    "collapsed": false,
    "deletable": true,
    "editable": true
   },
   "outputs": [
    {
     "name": "stdout",
     "output_type": "stream",
     "text": [
      "\u001b[0;31m\u001b[0m\n",
      "\u001b[0;31mTypeError\u001b[0mTraceback (most recent call last)\n",
      "\u001b[0;32m<ipython-input-191-6ed707869b6c>\u001b[0m in \u001b[0;36m<module>\u001b[0;34m()\u001b[0m\n",
      "\u001b[1;32m      1\u001b[0m \u001b[0;34m\u001b[0m\u001b[0m\n",
      "\u001b[0;32m----> 2\u001b[0;31m \u001b[0mperson_a_likes\u001b[0m\u001b[0;34m.\u001b[0m\u001b[0madd\u001b[0m\u001b[0;34m(\u001b[0m\u001b[0;34m[\u001b[0m\u001b[0;34m'mathematics'\u001b[0m\u001b[0;34m,\u001b[0m \u001b[0;34m'history'\u001b[0m\u001b[0;34m,\u001b[0m \u001b[0;34m'english'\u001b[0m\u001b[0;34m]\u001b[0m\u001b[0;34m)\u001b[0m\u001b[0;34m\u001b[0m\u001b[0m\n",
      "\u001b[0m\n",
      "\u001b[0;31mTypeError\u001b[0m: unhashable type: 'list'\n"
     ]
    }
   ],
   "source": [
    "%%expect_exception TypeError\n",
    "\n",
    "person_a_likes.add(['mathematics', 'history', 'english'])"
   ]
  },
  {
   "cell_type": "markdown",
   "metadata": {
    "deletable": true,
    "editable": true
   },
   "source": [
    "## Python `tuple`\n",
    "\n",
    "Python `tuple`s are simple immutable groupings of Python objects. They are similar to lists in that they are ordered, but they cannot be modified after they are created."
   ]
  },
  {
   "cell_type": "code",
   "execution_count": 192,
   "metadata": {
    "collapsed": true,
    "deletable": true,
    "editable": true
   },
   "outputs": [],
   "source": [
    "person1 = ('John', 25, 'NYC')\n",
    "person2 = ('Jane', 28, 'SF')"
   ]
  },
  {
   "cell_type": "markdown",
   "metadata": {
    "deletable": true,
    "editable": true
   },
   "source": [
    "These simple `tuple`s represent names, ages, and cities. Here there is no special identifier indicating that the first item is a name, the second is an age, and the third is a city. This is a weakness of `tuple`s and can be a source of bugs but they make up for that in their simplicity.\n",
    "\n",
    "We can index into tuples like lists but we cannot modify their values."
   ]
  },
  {
   "cell_type": "code",
   "execution_count": 205,
   "metadata": {
    "collapsed": false,
    "deletable": true,
    "editable": true
   },
   "outputs": [
    {
     "name": "stdout",
     "output_type": "stream",
     "text": [
      "John is 25 years old.\n",
      "(28, 'SF')\n"
     ]
    }
   ],
   "source": [
    "print person1[0] + ' is ' + str(person1[1]) + ' years old.'\n",
    "print person2[1:]"
   ]
  },
  {
   "cell_type": "code",
   "execution_count": 206,
   "metadata": {
    "collapsed": false,
    "deletable": true,
    "editable": true
   },
   "outputs": [
    {
     "name": "stdout",
     "output_type": "stream",
     "text": [
      "\u001b[0;31m\u001b[0m\n",
      "\u001b[0;31mTypeError\u001b[0mTraceback (most recent call last)\n",
      "\u001b[0;32m<ipython-input-206-1e8eadf96fae>\u001b[0m in \u001b[0;36m<module>\u001b[0;34m()\u001b[0m\n",
      "\u001b[1;32m      1\u001b[0m \u001b[0;34m\u001b[0m\u001b[0m\n",
      "\u001b[0;32m----> 2\u001b[0;31m \u001b[0mperson1\u001b[0m\u001b[0;34m[\u001b[0m\u001b[0;36m1\u001b[0m\u001b[0;34m]\u001b[0m \u001b[0;34m=\u001b[0m \u001b[0;36m35\u001b[0m\u001b[0;34m\u001b[0m\u001b[0m\n",
      "\u001b[0m\n",
      "\u001b[0;31mTypeError\u001b[0m: 'tuple' object does not support item assignment\n"
     ]
    }
   ],
   "source": [
    "%%expect_exception TypeError\n",
    "\n",
    "person1[1] = 35"
   ]
  },
  {
   "cell_type": "markdown",
   "metadata": {
    "deletable": true,
    "editable": true
   },
   "source": [
    "A common use of `tuple`s is for returning multiple values from a function. For example:"
   ]
  },
  {
   "cell_type": "code",
   "execution_count": 207,
   "metadata": {
    "collapsed": false,
    "deletable": true,
    "editable": true
   },
   "outputs": [
    {
     "name": "stdout",
     "output_type": "stream",
     "text": [
      "<type 'tuple'>\n",
      "(49, 343)\n"
     ]
    }
   ],
   "source": [
    "def squared_cubed(x):\n",
    "    squared = x * x\n",
    "    cubed = squared * x\n",
    "    \n",
    "    return squared, cubed\n",
    "\n",
    "calc = squared_cubed(7)\n",
    "\n",
    "print type(calc)\n",
    "print calc"
   ]
  },
  {
   "cell_type": "markdown",
   "metadata": {
    "deletable": true,
    "editable": true
   },
   "source": [
    "Observe that the `return` statement created a tuple from the variables `squared` and `cubed`.\n",
    "\n",
    "A power feature of tuples is *unpacking*:"
   ]
  },
  {
   "cell_type": "code",
   "execution_count": 208,
   "metadata": {
    "collapsed": false,
    "deletable": true,
    "editable": true
   },
   "outputs": [
    {
     "name": "stdout",
     "output_type": "stream",
     "text": [
      "49\n",
      "343\n"
     ]
    }
   ],
   "source": [
    "xx, xxx = squared_cubed(7)\n",
    "\n",
    "print xx\n",
    "print xxx"
   ]
  },
  {
   "cell_type": "markdown",
   "metadata": {
    "deletable": true,
    "editable": true
   },
   "source": [
    "Python *unpacked* the returned `tuple` and assigned the first to `xx` and the second to `xxx`.\n",
    "\n",
    "What happens if we try to unpack a `tuple` to the wrong number of variables?"
   ]
  },
  {
   "cell_type": "code",
   "execution_count": 209,
   "metadata": {
    "collapsed": false,
    "deletable": true,
    "editable": true
   },
   "outputs": [
    {
     "name": "stdout",
     "output_type": "stream",
     "text": [
      "\u001b[0;31m\u001b[0m\n",
      "\u001b[0;31mValueError\u001b[0mTraceback (most recent call last)\n",
      "\u001b[0;32m<ipython-input-209-3194ab299fd3>\u001b[0m in \u001b[0;36m<module>\u001b[0;34m()\u001b[0m\n",
      "\u001b[1;32m      1\u001b[0m \u001b[0;34m\u001b[0m\u001b[0m\n",
      "\u001b[0;32m----> 2\u001b[0;31m \u001b[0mxx\u001b[0m\u001b[0;34m,\u001b[0m \u001b[0mxxx\u001b[0m\u001b[0;34m,\u001b[0m \u001b[0mxxxx\u001b[0m \u001b[0;34m=\u001b[0m \u001b[0msquared_cubed\u001b[0m\u001b[0;34m(\u001b[0m\u001b[0;36m7\u001b[0m\u001b[0;34m)\u001b[0m\u001b[0;34m\u001b[0m\u001b[0m\n",
      "\u001b[0m\n",
      "\u001b[0;31mValueError\u001b[0m: need more than 2 values to unpack\n"
     ]
    }
   ],
   "source": [
    "%%expect_exception ValueError\n",
    "\n",
    "xx, xxx, xxxx = squared_cubed(7)"
   ]
  },
  {
   "cell_type": "markdown",
   "metadata": {
    "deletable": true,
    "editable": true
   },
   "source": [
    "Python `tuple` unpacking is powerful, but be careful about unpacking the wrong number of objects.\n",
    "\n",
    "**Question:** If I can create a `tuple` with this:"
   ]
  },
  {
   "cell_type": "code",
   "execution_count": 212,
   "metadata": {
    "collapsed": false,
    "deletable": true,
    "editable": true
   },
   "outputs": [
    {
     "name": "stdout",
     "output_type": "stream",
     "text": [
      "(13, 3.14)\n",
      "<type 'tuple'>\n"
     ]
    }
   ],
   "source": [
    "new_tuple = 13, 3.14\n",
    "\n",
    "print new_tuple\n",
    "print type(new_tuple)"
   ]
  },
  {
   "cell_type": "markdown",
   "metadata": {
    "deletable": true,
    "editable": true
   },
   "source": [
    "And if I can unpack a tuple with this:"
   ]
  },
  {
   "cell_type": "code",
   "execution_count": 211,
   "metadata": {
    "collapsed": false,
    "deletable": true,
    "editable": true
   },
   "outputs": [
    {
     "name": "stdout",
     "output_type": "stream",
     "text": [
      "13\n",
      "3.14\n"
     ]
    }
   ],
   "source": [
    "unlucky_number, pi = new_tuple\n",
    "\n",
    "print unlucky_number\n",
    "print pi"
   ]
  },
  {
   "cell_type": "markdown",
   "metadata": {
    "deletable": true,
    "editable": true
   },
   "source": [
    "What will this do?"
   ]
  },
  {
   "cell_type": "code",
   "execution_count": 213,
   "metadata": {
    "collapsed": false,
    "deletable": true,
    "editable": true
   },
   "outputs": [
    {
     "name": "stdout",
     "output_type": "stream",
     "text": [
      "20\n",
      "10\n"
     ]
    }
   ],
   "source": [
    "a = 10\n",
    "b = 20\n",
    "\n",
    "a, b = b, a\n",
    "\n",
    "print a\n",
    "print b"
   ]
  },
  {
   "cell_type": "code",
   "execution_count": 218,
   "metadata": {
    "collapsed": false
   },
   "outputs": [
    {
     "name": "stdout",
     "output_type": "stream",
     "text": [
      "10 20\n",
      "<type 'int'>\n",
      "<type 'int'>\n",
      "20 10\n"
     ]
    }
   ],
   "source": [
    "a = 10\n",
    "b = 20\n",
    "print a, b\n",
    "print type(a)\n",
    "print type (b)\n",
    "a, b = b, a\n",
    "print a, b"
   ]
  },
  {
   "cell_type": "markdown",
   "metadata": {
    "deletable": true,
    "editable": true
   },
   "source": [
    "## Comprehensions\n",
    "\n",
    "Python Comprehensions are a powerful and popular feature for creating new data structures. You will hear the term *list comprehensions* and *dictionary comprehensions*, and they both refer to the same concept of iterating through one data structure to make a new data structure.\n",
    "\n",
    "For example, if I start with the numbers from 1 to 10:"
   ]
  },
  {
   "cell_type": "code",
   "execution_count": 219,
   "metadata": {
    "collapsed": false,
    "deletable": true,
    "editable": true
   },
   "outputs": [
    {
     "name": "stdout",
     "output_type": "stream",
     "text": [
      "[1, 2, 3, 4, 5, 6, 7, 8, 9, 10]\n"
     ]
    }
   ],
   "source": [
    "numbers = range(1, 11)\n",
    "\n",
    "print numbers"
   ]
  },
  {
   "cell_type": "code",
   "execution_count": 220,
   "metadata": {
    "collapsed": false,
    "deletable": true,
    "editable": true
   },
   "outputs": [
    {
     "name": "stdout",
     "output_type": "stream",
     "text": [
      "[1, 4, 9, 16, 25, 36, 49, 64, 81, 100]\n"
     ]
    }
   ],
   "source": [
    "squares = [x * x for x in numbers]\n",
    "\n",
    "print squares"
   ]
  },
  {
   "cell_type": "markdown",
   "metadata": {
    "deletable": true,
    "editable": true
   },
   "source": [
    "We just created a list of squares without having to type them all out! Contrast that with similar code from earlier in this lesson.\n",
    "\n",
    "This is called a list comprehension.\n",
    "\n",
    "We can also do something similar with dictionaries:"
   ]
  },
  {
   "cell_type": "code",
   "execution_count": 221,
   "metadata": {
    "collapsed": false,
    "deletable": true,
    "editable": true
   },
   "outputs": [
    {
     "name": "stdout",
     "output_type": "stream",
     "text": [
      "{1: 1, 2: 4, 3: 9, 4: 16, 5: 25, 6: 36, 7: 49, 8: 64, 9: 81, 10: 100}\n"
     ]
    }
   ],
   "source": [
    "square_lut = {x: x * x for x in numbers}\n",
    "\n",
    "print square_lut"
   ]
  },
  {
   "cell_type": "markdown",
   "metadata": {
    "deletable": true,
    "editable": true
   },
   "source": [
    "Again, a much more convenient way of constructing a data structure.\n",
    "\n",
    "This can be more powerful when combined with custom functions:"
   ]
  },
  {
   "cell_type": "code",
   "execution_count": 222,
   "metadata": {
    "collapsed": false,
    "deletable": true,
    "editable": true
   },
   "outputs": [
    {
     "name": "stdout",
     "output_type": "stream",
     "text": [
      "['1', '22', '333', '4444', '55555', '666666', '7777777', '88888888', '999999999', '10101010101010101010']\n"
     ]
    }
   ],
   "source": [
    "def silly_string(x):\n",
    "    \"\"\"repeat x digit x times\"\"\"\n",
    "    return x * str(x)\n",
    "\n",
    "print [silly_string(x) for x in numbers]"
   ]
  },
  {
   "cell_type": "markdown",
   "metadata": {
    "deletable": true,
    "editable": true
   },
   "source": [
    "We can also add filtering:"
   ]
  },
  {
   "cell_type": "code",
   "execution_count": 223,
   "metadata": {
    "collapsed": false,
    "deletable": true,
    "editable": true
   },
   "outputs": [
    {
     "name": "stdout",
     "output_type": "stream",
     "text": [
      "[1, 3, 5, 7, 9]\n"
     ]
    }
   ],
   "source": [
    "def is_odd(x):\n",
    "    return x % 2\n",
    "\n",
    "odd_numbers = [x for x in numbers if is_odd(x)]\n",
    "\n",
    "print odd_numbers"
   ]
  },
  {
   "cell_type": "code",
   "execution_count": 257,
   "metadata": {
    "collapsed": false
   },
   "outputs": [
    {
     "ename": "SyntaxError",
     "evalue": "invalid syntax (<ipython-input-257-2b0c3f71bf9a>, line 1)",
     "output_type": "error",
     "traceback": [
      "\u001b[0;36m  File \u001b[0;32m\"<ipython-input-257-2b0c3f71bf9a>\"\u001b[0;36m, line \u001b[0;32m1\u001b[0m\n\u001b[0;31m    print (x for x in odd_numbers range(len(odd_numbers)::-1))\u001b[0m\n\u001b[0m                                      ^\u001b[0m\n\u001b[0;31mSyntaxError\u001b[0m\u001b[0;31m:\u001b[0m invalid syntax\n"
     ]
    }
   ],
   "source": [
    "print (x for x in odd_numbers range(len(odd_numbers)::-1))"
   ]
  },
  {
   "cell_type": "markdown",
   "metadata": {
    "deletable": true,
    "editable": true
   },
   "source": [
    "We can use list comprehensions to create a list of tuples:"
   ]
  },
  {
   "cell_type": "code",
   "execution_count": 224,
   "metadata": {
    "collapsed": false,
    "deletable": true,
    "editable": true
   },
   "outputs": [
    {
     "name": "stdout",
     "output_type": "stream",
     "text": [
      "[(1, 1, 1), (3, 9, 27), (5, 25, 125), (7, 49, 343), (9, 81, 729)]\n"
     ]
    }
   ],
   "source": [
    "print [(x, x * x, x * x * x) for x in numbers if is_odd(x)]"
   ]
  },
  {
   "cell_type": "markdown",
   "metadata": {
    "deletable": true,
    "editable": true
   },
   "source": [
    "Upon learning about Python comprehensions it is tempting to use them to write increasingly complex code, but that is [discouraged](https://google.github.io/styleguide/pyguide.html#List_Comprehensions).\n",
    "\n",
    "Can you explain what this code does???"
   ]
  },
  {
   "cell_type": "code",
   "execution_count": 228,
   "metadata": {
    "collapsed": false,
    "deletable": true,
    "editable": true
   },
   "outputs": [],
   "source": [
    "confusing = [(a, b, c) for a in range(15) for b in range(10) if is_odd(a) for c in range(5) if a + b + c < 42]"
   ]
  },
  {
   "cell_type": "markdown",
   "metadata": {
    "deletable": true,
    "editable": true
   },
   "source": [
    "Please don't write code like that.\n",
    "\n",
    "When used properly, comprehensions can result in cleaner, more readable code. They can also be faster.\n",
    "\n",
    "Consider the task of finding the odd numbers from 1 to 1000. We will implement this using two methods and time them using Jupyter's `%timeit` magic. "
   ]
  },
  {
   "cell_type": "code",
   "execution_count": 235,
   "metadata": {
    "collapsed": false,
    "deletable": true,
    "editable": true
   },
   "outputs": [
    {
     "name": "stdout",
     "output_type": "stream",
     "text": [
      "100 loops, best of 3: 2.19 ms per loop\n"
     ]
    }
   ],
   "source": [
    "%%timeit\n",
    "\n",
    "odd_numbers = []\n",
    "\n",
    "for i in xrange(10000):\n",
    "    if is_odd(i):\n",
    "        odd_numbers.append(i)"
   ]
  },
  {
   "cell_type": "code",
   "execution_count": 234,
   "metadata": {
    "collapsed": false,
    "deletable": true,
    "editable": true
   },
   "outputs": [
    {
     "name": "stdout",
     "output_type": "stream",
     "text": [
      "100 loops, best of 3: 1.96 ms per loop\n"
     ]
    }
   ],
   "source": [
    "%%timeit\n",
    "\n",
    "odd_numbers = [x for x in xrange(10000) if is_odd(x)]"
   ]
  },
  {
   "cell_type": "markdown",
   "metadata": {
    "deletable": true,
    "editable": true
   },
   "source": [
    "Not only is the second approach easier to read, it is faster!"
   ]
  },
  {
   "cell_type": "markdown",
   "metadata": {
    "deletable": true,
    "editable": true
   },
   "source": [
    "### Exercises\n",
    "\n",
    "1. Create a dictionary that maps every integer from 1 to 1000 to its 4th power.\n",
    "1. Use a dictionary comprehension to invert that dictionary, mapping values to keys.\n",
    "1. Create a `list` that contains the items on your current grocery list.\n",
    "1. Create a `set` to identify your favorite hobbies and another `set` to identify someone else's hobbies. Using the two `set`s, what hobbies do you have in common? What hobbies do you not share?"
   ]
  },
  {
   "cell_type": "code",
   "execution_count": 274,
   "metadata": {
    "collapsed": false
   },
   "outputs": [
    {
     "name": "stdout",
     "output_type": "stream",
     "text": [
      "{1: 1, 2: 16, 3: 81, 4: 256, 5: 625, 6: 1296, 7: 2401, 8: 4096, 9: 6561, 10: 10000, 11: 14641, 12: 20736, 13: 28561, 14: 38416, 15: 50625, 16: 65536, 17: 83521, 18: 104976, 19: 130321, 20: 160000, 21: 194481, 22: 234256, 23: 279841, 24: 331776, 25: 390625, 26: 456976, 27: 531441, 28: 614656, 29: 707281, 30: 810000, 31: 923521, 32: 1048576, 33: 1185921, 34: 1336336, 35: 1500625, 36: 1679616, 37: 1874161, 38: 2085136, 39: 2313441, 40: 2560000, 41: 2825761, 42: 3111696, 43: 3418801, 44: 3748096, 45: 4100625, 46: 4477456, 47: 4879681, 48: 5308416, 49: 5764801, 50: 6250000, 51: 6765201, 52: 7311616, 53: 7890481, 54: 8503056, 55: 9150625, 56: 9834496, 57: 10556001, 58: 11316496, 59: 12117361, 60: 12960000, 61: 13845841, 62: 14776336, 63: 15752961, 64: 16777216, 65: 17850625, 66: 18974736, 67: 20151121, 68: 21381376, 69: 22667121, 70: 24010000, 71: 25411681, 72: 26873856, 73: 28398241, 74: 29986576, 75: 31640625, 76: 33362176, 77: 35153041, 78: 37015056, 79: 38950081, 80: 40960000, 81: 43046721, 82: 45212176, 83: 47458321, 84: 49787136, 85: 52200625, 86: 54700816, 87: 57289761, 88: 59969536, 89: 62742241, 90: 65610000, 91: 68574961, 92: 71639296, 93: 74805201, 94: 78074896, 95: 81450625, 96: 84934656, 97: 88529281, 98: 92236816, 99: 96059601, 100: 100000000, 101: 104060401, 102: 108243216, 103: 112550881, 104: 116985856, 105: 121550625, 106: 126247696, 107: 131079601, 108: 136048896, 109: 141158161, 110: 146410000, 111: 151807041, 112: 157351936, 113: 163047361, 114: 168896016, 115: 174900625, 116: 181063936, 117: 187388721, 118: 193877776, 119: 200533921, 120: 207360000, 121: 214358881, 122: 221533456, 123: 228886641, 124: 236421376, 125: 244140625, 126: 252047376, 127: 260144641, 128: 268435456, 129: 276922881, 130: 285610000, 131: 294499921, 132: 303595776, 133: 312900721, 134: 322417936, 135: 332150625, 136: 342102016, 137: 352275361, 138: 362673936, 139: 373301041, 140: 384160000, 141: 395254161, 142: 406586896, 143: 418161601, 144: 429981696, 145: 442050625, 146: 454371856, 147: 466948881, 148: 479785216, 149: 492884401, 150: 506250000, 151: 519885601, 152: 533794816, 153: 547981281, 154: 562448656, 155: 577200625, 156: 592240896, 157: 607573201, 158: 623201296, 159: 639128961, 160: 655360000, 161: 671898241, 162: 688747536, 163: 705911761, 164: 723394816, 165: 741200625, 166: 759333136, 167: 777796321, 168: 796594176, 169: 815730721, 170: 835210000, 171: 855036081, 172: 875213056, 173: 895745041, 174: 916636176, 175: 937890625, 176: 959512576, 177: 981506241, 178: 1003875856, 179: 1026625681, 180: 1049760000, 181: 1073283121, 182: 1097199376, 183: 1121513121, 184: 1146228736, 185: 1171350625, 186: 1196883216, 187: 1222830961, 188: 1249198336, 189: 1275989841, 190: 1303210000, 191: 1330863361, 192: 1358954496, 193: 1387488001, 194: 1416468496, 195: 1445900625, 196: 1475789056, 197: 1506138481, 198: 1536953616, 199: 1568239201, 200: 1600000000, 201: 1632240801, 202: 1664966416, 203: 1698181681, 204: 1731891456, 205: 1766100625, 206: 1800814096, 207: 1836036801, 208: 1871773696, 209: 1908029761, 210: 1944810000, 211: 1982119441, 212: 2019963136, 213: 2058346161, 214: 2097273616, 215: 2136750625, 216: 2176782336, 217: 2217373921, 218: 2258530576, 219: 2300257521, 220: 2342560000, 221: 2385443281, 222: 2428912656, 223: 2472973441, 224: 2517630976, 225: 2562890625, 226: 2608757776, 227: 2655237841, 228: 2702336256, 229: 2750058481, 230: 2798410000, 231: 2847396321, 232: 2897022976, 233: 2947295521, 234: 2998219536, 235: 3049800625, 236: 3102044416, 237: 3154956561, 238: 3208542736, 239: 3262808641, 240: 3317760000, 241: 3373402561, 242: 3429742096, 243: 3486784401, 244: 3544535296, 245: 3603000625, 246: 3662186256, 247: 3722098081, 248: 3782742016, 249: 3844124001, 250: 3906250000, 251: 3969126001, 252: 4032758016, 253: 4097152081, 254: 4162314256, 255: 4228250625, 256: 4294967296, 257: 4362470401, 258: 4430766096, 259: 4499860561, 260: 4569760000, 261: 4640470641, 262: 4711998736, 263: 4784350561, 264: 4857532416, 265: 4931550625, 266: 5006411536, 267: 5082121521, 268: 5158686976, 269: 5236114321, 270: 5314410000, 271: 5393580481, 272: 5473632256, 273: 5554571841, 274: 5636405776, 275: 5719140625, 276: 5802782976, 277: 5887339441, 278: 5972816656, 279: 6059221281, 280: 6146560000, 281: 6234839521, 282: 6324066576, 283: 6414247921, 284: 6505390336, 285: 6597500625, 286: 6690585616, 287: 6784652161, 288: 6879707136, 289: 6975757441, 290: 7072810000, 291: 7170871761, 292: 7269949696, 293: 7370050801, 294: 7471182096, 295: 7573350625, 296: 7676563456, 297: 7780827681, 298: 7886150416, 299: 7992538801, 300: 8100000000, 301: 8208541201, 302: 8318169616, 303: 8428892481, 304: 8540717056, 305: 8653650625, 306: 8767700496, 307: 8882874001, 308: 8999178496, 309: 9116621361, 310: 9235210000, 311: 9354951841, 312: 9475854336, 313: 9597924961, 314: 9721171216, 315: 9845600625, 316: 9971220736, 317: 10098039121, 318: 10226063376, 319: 10355301121, 320: 10485760000, 321: 10617447681, 322: 10750371856, 323: 10884540241, 324: 11019960576, 325: 11156640625, 326: 11294588176, 327: 11433811041, 328: 11574317056, 329: 11716114081, 330: 11859210000, 331: 12003612721, 332: 12149330176, 333: 12296370321, 334: 12444741136, 335: 12594450625, 336: 12745506816, 337: 12897917761, 338: 13051691536, 339: 13206836241, 340: 13363360000, 341: 13521270961, 342: 13680577296, 343: 13841287201, 344: 14003408896, 345: 14166950625, 346: 14331920656, 347: 14498327281, 348: 14666178816, 349: 14835483601, 350: 15006250000, 351: 15178486401, 352: 15352201216, 353: 15527402881, 354: 15704099856, 355: 15882300625, 356: 16062013696, 357: 16243247601, 358: 16426010896, 359: 16610312161, 360: 16796160000, 361: 16983563041, 362: 17172529936, 363: 17363069361, 364: 17555190016, 365: 17748900625, 366: 17944209936, 367: 18141126721, 368: 18339659776, 369: 18539817921, 370: 18741610000, 371: 18945044881, 372: 19150131456, 373: 19356878641, 374: 19565295376, 375: 19775390625, 376: 19987173376, 377: 20200652641, 378: 20415837456, 379: 20632736881, 380: 20851360000, 381: 21071715921, 382: 21293813776, 383: 21517662721, 384: 21743271936, 385: 21970650625, 386: 22199808016, 387: 22430753361, 388: 22663495936, 389: 22898045041, 390: 23134410000, 391: 23372600161, 392: 23612624896, 393: 23854493601, 394: 24098215696, 395: 24343800625, 396: 24591257856, 397: 24840596881, 398: 25091827216, 399: 25344958401, 400: 25600000000, 401: 25856961601, 402: 26115852816, 403: 26376683281, 404: 26639462656, 405: 26904200625, 406: 27170906896, 407: 27439591201, 408: 27710263296, 409: 27982932961, 410: 28257610000, 411: 28534304241, 412: 28813025536, 413: 29093783761, 414: 29376588816, 415: 29661450625, 416: 29948379136, 417: 30237384321, 418: 30528476176, 419: 30821664721, 420: 31116960000, 421: 31414372081, 422: 31713911056, 423: 32015587041, 424: 32319410176, 425: 32625390625, 426: 32933538576, 427: 33243864241, 428: 33556377856, 429: 33871089681, 430: 34188010000, 431: 34507149121, 432: 34828517376, 433: 35152125121, 434: 35477982736, 435: 35806100625, 436: 36136489216, 437: 36469158961, 438: 36804120336, 439: 37141383841, 440: 37480960000, 441: 37822859361, 442: 38167092496, 443: 38513670001, 444: 38862602496, 445: 39213900625, 446: 39567575056, 447: 39923636481, 448: 40282095616, 449: 40642963201, 450: 41006250000, 451: 41371966801, 452: 41740124416, 453: 42110733681, 454: 42483805456, 455: 42859350625, 456: 43237380096, 457: 43617904801, 458: 44000935696, 459: 44386483761, 460: 44774560000, 461: 45165175441, 462: 45558341136, 463: 45954068161, 464: 46352367616, 465: 46753250625, 466: 47156728336, 467: 47562811921, 468: 47971512576, 469: 48382841521, 470: 48796810000, 471: 49213429281, 472: 49632710656, 473: 50054665441, 474: 50479304976, 475: 50906640625, 476: 51336683776, 477: 51769445841, 478: 52204938256, 479: 52643172481, 480: 53084160000, 481: 53527912321, 482: 53974440976, 483: 54423757521, 484: 54875873536, 485: 55330800625, 486: 55788550416, 487: 56249134561, 488: 56712564736, 489: 57178852641, 490: 57648010000, 491: 58120048561, 492: 58594980096, 493: 59072816401, 494: 59553569296, 495: 60037250625, 496: 60523872256, 497: 61013446081, 498: 61505984016, 499: 62001498001, 500: 62500000000, 501: 63001502001, 502: 63506016016, 503: 64013554081, 504: 64524128256, 505: 65037750625, 506: 65554433296, 507: 66074188401, 508: 66597028096, 509: 67122964561, 510: 67652010000, 511: 68184176641, 512: 68719476736, 513: 69257922561, 514: 69799526416, 515: 70344300625, 516: 70892257536, 517: 71443409521, 518: 71997768976, 519: 72555348321, 520: 73116160000, 521: 73680216481, 522: 74247530256, 523: 74818113841, 524: 75391979776, 525: 75969140625, 526: 76549608976, 527: 77133397441, 528: 77720518656, 529: 78310985281, 530: 78904810000, 531: 79502005521, 532: 80102584576, 533: 80706559921, 534: 81313944336, 535: 81924750625, 536: 82538991616, 537: 83156680161, 538: 83777829136, 539: 84402451441, 540: 85030560000, 541: 85662167761, 542: 86297287696, 543: 86935932801, 544: 87578116096, 545: 88223850625, 546: 88873149456, 547: 89526025681, 548: 90182492416, 549: 90842562801, 550: 91506250000, 551: 92173567201, 552: 92844527616, 553: 93519144481, 554: 94197431056, 555: 94879400625, 556: 95565066496, 557: 96254442001, 558: 96947540496, 559: 97644375361, 560: 98344960000, 561: 99049307841, 562: 99757432336, 563: 100469346961, 564: 101185065216, 565: 101904600625, 566: 102627966736, 567: 103355177121, 568: 104086245376, 569: 104821185121, 570: 105560010000, 571: 106302733681, 572: 107049369856, 573: 107799932241, 574: 108554434576, 575: 109312890625, 576: 110075314176, 577: 110841719041, 578: 111612119056, 579: 112386528081, 580: 113164960000, 581: 113947428721, 582: 114733948176, 583: 115524532321, 584: 116319195136, 585: 117117950625, 586: 117920812816, 587: 118727795761, 588: 119538913536, 589: 120354180241, 590: 121173610000, 591: 121997216961, 592: 122825015296, 593: 123657019201, 594: 124493242896, 595: 125333700625, 596: 126178406656, 597: 127027375281, 598: 127880620816, 599: 128738157601, 600: 129600000000, 601: 130466162401, 602: 131336659216, 603: 132211504881, 604: 133090713856, 605: 133974300625, 606: 134862279696, 607: 135754665601, 608: 136651472896, 609: 137552716161, 610: 138458410000, 611: 139368569041, 612: 140283207936, 613: 141202341361, 614: 142125984016, 615: 143054150625, 616: 143986855936, 617: 144924114721, 618: 145865941776, 619: 146812351921, 620: 147763360000, 621: 148718980881, 622: 149679229456, 623: 150644120641, 624: 151613669376, 625: 152587890625, 626: 153566799376, 627: 154550410641, 628: 155538739456, 629: 156531800881, 630: 157529610000, 631: 158532181921, 632: 159539531776, 633: 160551674721, 634: 161568625936, 635: 162590400625, 636: 163617014016, 637: 164648481361, 638: 165684817936, 639: 166726039041, 640: 167772160000, 641: 168823196161, 642: 169879162896, 643: 170940075601, 644: 172005949696, 645: 173076800625, 646: 174152643856, 647: 175233494881, 648: 176319369216, 649: 177410282401, 650: 178506250000, 651: 179607287601, 652: 180713410816, 653: 181824635281, 654: 182940976656, 655: 184062450625, 656: 185189072896, 657: 186320859201, 658: 187457825296, 659: 188599986961, 660: 189747360000, 661: 190899960241, 662: 192057803536, 663: 193220905761, 664: 194389282816, 665: 195562950625, 666: 196741925136, 667: 197926222321, 668: 199115858176, 669: 200310848721, 670: 201511210000, 671: 202716958081, 672: 203928109056, 673: 205144679041, 674: 206366684176, 675: 207594140625, 676: 208827064576, 677: 210065472241, 678: 211309379856, 679: 212558803681, 680: 213813760000, 681: 215074265121, 682: 216340335376, 683: 217611987121, 684: 218889236736, 685: 220172100625, 686: 221460595216, 687: 222754736961, 688: 224054542336, 689: 225360027841, 690: 226671210000, 691: 227988105361, 692: 229310730496, 693: 230639102001, 694: 231973236496, 695: 233313150625, 696: 234658861056, 697: 236010384481, 698: 237367737616, 699: 238730937201, 700: 240100000000, 701: 241474942801, 702: 242855782416, 703: 244242535681, 704: 245635219456, 705: 247033850625, 706: 248438446096, 707: 249849022801, 708: 251265597696, 709: 252688187761, 710: 254116810000, 711: 255551481441, 712: 256992219136, 713: 258439040161, 714: 259891961616, 715: 261351000625, 716: 262816174336, 717: 264287499921, 718: 265764994576, 719: 267248675521, 720: 268738560000, 721: 270234665281, 722: 271737008656, 723: 273245607441, 724: 274760478976, 725: 276281640625, 726: 277809109776, 727: 279342903841, 728: 280883040256, 729: 282429536481, 730: 283982410000, 731: 285541678321, 732: 287107358976, 733: 288679469521, 734: 290258027536, 735: 291843050625, 736: 293434556416, 737: 295032562561, 738: 296637086736, 739: 298248146641, 740: 299865760000, 741: 301489944561, 742: 303120718096, 743: 304758098401, 744: 306402103296, 745: 308052750625, 746: 309710058256, 747: 311374044081, 748: 313044726016, 749: 314722122001, 750: 316406250000, 751: 318097128001, 752: 319794774016, 753: 321499206081, 754: 323210442256, 755: 324928500625, 756: 326653399296, 757: 328385156401, 758: 330123790096, 759: 331869318561, 760: 333621760000, 761: 335381132641, 762: 337147454736, 763: 338920744561, 764: 340701020416, 765: 342488300625, 766: 344282603536, 767: 346083947521, 768: 347892350976, 769: 349707832321, 770: 351530410000, 771: 353360102481, 772: 355196928256, 773: 357040905841, 774: 358892053776, 775: 360750390625, 776: 362615934976, 777: 364488705441, 778: 366368720656, 779: 368255999281, 780: 370150560000, 781: 372052421521, 782: 373961602576, 783: 375878121921, 784: 377801998336, 785: 379733250625, 786: 381671897616, 787: 383617958161, 788: 385571451136, 789: 387532395441, 790: 389500810000, 791: 391476713761, 792: 393460125696, 793: 395451064801, 794: 397449550096, 795: 399455600625, 796: 401469235456, 797: 403490473681, 798: 405519334416, 799: 407555836801, 800: 409600000000, 801: 411651843201, 802: 413711385616, 803: 415778646481, 804: 417853645056, 805: 419936400625, 806: 422026932496, 807: 424125260001, 808: 426231402496, 809: 428345379361, 810: 430467210000, 811: 432596913841, 812: 434734510336, 813: 436880018961, 814: 439033459216, 815: 441194850625, 816: 443364212736, 817: 445541565121, 818: 447726927376, 819: 449920319121, 820: 452121760000, 821: 454331269681, 822: 456548867856, 823: 458774574241, 824: 461008408576, 825: 463250390625, 826: 465500540176, 827: 467758877041, 828: 470025421056, 829: 472300192081, 830: 474583210000, 831: 476874494721, 832: 479174066176, 833: 481481944321, 834: 483798149136, 835: 486122700625, 836: 488455618816, 837: 490796923761, 838: 493146635536, 839: 495504774241, 840: 497871360000, 841: 500246412961, 842: 502629953296, 843: 505022001201, 844: 507422576896, 845: 509831700625, 846: 512249392656, 847: 514675673281, 848: 517110562816, 849: 519554081601, 850: 522006250000, 851: 524467088401, 852: 526936617216, 853: 529414856881, 854: 531901827856, 855: 534397550625, 856: 536902045696, 857: 539415333601, 858: 541937434896, 859: 544468370161, 860: 547008160000, 861: 549556825041, 862: 552114385936, 863: 554680863361, 864: 557256278016, 865: 559840650625, 866: 562434001936, 867: 565036352721, 868: 567647723776, 869: 570268135921, 870: 572897610000, 871: 575536166881, 872: 578183827456, 873: 580840612641, 874: 583506543376, 875: 586181640625, 876: 588865925376, 877: 591559418641, 878: 594262141456, 879: 596974114881, 880: 599695360000, 881: 602425897921, 882: 605165749776, 883: 607914936721, 884: 610673479936, 885: 613441400625, 886: 616218720016, 887: 619005459361, 888: 621801639936, 889: 624607283041, 890: 627422410000, 891: 630247042161, 892: 633081200896, 893: 635924907601, 894: 638778183696, 895: 641641050625, 896: 644513529856, 897: 647395642881, 898: 650287411216, 899: 653188856401, 900: 656100000000, 901: 659020863601, 902: 661951468816, 903: 664891837281, 904: 667841990656, 905: 670801950625, 906: 673771738896, 907: 676751377201, 908: 679740887296, 909: 682740290961, 910: 685749610000, 911: 688768866241, 912: 691798081536, 913: 694837277761, 914: 697886476816, 915: 700945700625, 916: 704014971136, 917: 707094310321, 918: 710183740176, 919: 713283282721, 920: 716392960000, 921: 719512794081, 922: 722642807056, 923: 725783021041, 924: 728933458176, 925: 732094140625, 926: 735265090576, 927: 738446330241, 928: 741637881856, 929: 744839767681, 930: 748052010000, 931: 751274631121, 932: 754507653376, 933: 757751099121, 934: 761004990736, 935: 764269350625, 936: 767544201216, 937: 770829564961, 938: 774125464336, 939: 777431921841, 940: 780748960000, 941: 784076601361, 942: 787414868496, 943: 790763784001, 944: 794123370496, 945: 797493650625, 946: 800874647056, 947: 804266382481, 948: 807668879616, 949: 811082161201, 950: 814506250000, 951: 817941168801, 952: 821386940416, 953: 824843587681, 954: 828311133456, 955: 831789600625, 956: 835279012096, 957: 838779390801, 958: 842290759696, 959: 845813141761, 960: 849346560000, 961: 852891037441, 962: 856446597136, 963: 860013262161, 964: 863591055616, 965: 867180000625, 966: 870780120336, 967: 874391437921, 968: 878013976576, 969: 881647759521, 970: 885292810000, 971: 888949151281, 972: 892616806656, 973: 896295799441, 974: 899986152976, 975: 903687890625, 976: 907401035776, 977: 911125611841, 978: 914861642256, 979: 918609150481, 980: 922368160000, 981: 926138694321, 982: 929920776976, 983: 933714431521, 984: 937519681536, 985: 941336550625, 986: 945165062416, 987: 949005240561, 988: 952857108736, 989: 956720690641, 990: 960596010000, 991: 964483090561, 992: 968381956096, 993: 972292630401, 994: 976215137296, 995: 980149500625, 996: 984095744256, 997: 988053892081, 998: 992023968016, 999: 996005996001, 1000: 1000000000000}\n"
     ]
    }
   ],
   "source": [
    "# Create a dictionary that maps every integer from 1 to 1000 to its 4th power.\n",
    "init_dict = {x: x ** 4 for x in range(1,1001)}  #used 100 to shrink output\n",
    "print init_dict"
   ]
  },
  {
   "cell_type": "code",
   "execution_count": 275,
   "metadata": {
    "collapsed": false
   },
   "outputs": [
    {
     "name": "stdout",
     "output_type": "stream",
     "text": [
      "{4096: 8, 1: 1, 293434556416: 736, 102627966736: 566, 429981696: 144, 4362470401: 257, 217611987121: 683, 964483090561: 991, 11019960576: 324, 133090713856: 604, 18974736: 66, 47458321: 83, 918609150481: 979, 261351000625: 715, 18741610000: 370, 349707832321: 769, 233313150625: 695, 245635219456: 704, 16777216: 64, 524467088401: 851, 815730721: 169, 9834496: 56, 111612119056: 578, 2058346161: 213, 88223850625: 545, 282429536481: 729, 16426010896: 358, 12003612721: 331, 956720690641: 989, 141202341361: 613, 101904600625: 565, 26115852816: 402, 357040905841: 773, 216340335376: 682, 39213900625: 445, 442050625: 145, 70344300625: 515, 4784350561: 263, 1296: 6, 90842562801: 549, 673771738896: 906, 559840650625: 865, 81: 3, 21970650625: 385, 347892350976: 768, 980149500625: 995, 75391979776: 524, 567647723776: 868, 29986576: 74, 157351936: 112, 25411681: 71, 110075314176: 576, 160000: 20, 69257922561: 513, 21293813776: 382, 303595776: 132, 200310848721: 669, 452121760000: 820, 653188856401: 899, 41371966801: 451, 417853645056: 804, 228886641: 123, 379733250625: 785, 168823196161: 641, 4477456: 46, 185189072896: 656, 148718980881: 621, 234256: 22, 1185921: 33, 166726039041: 639, 189747360000: 660, 33871089681: 429, 2897022976: 232, 8653650625: 305, 287107358976: 732, 3544535296: 244, 12296370321: 333, 647395642881: 897, 76549608976: 526, 71443409521: 517, 65554433296: 506, 926138694321: 981, 29948379136: 416, 268435456: 128, 20851360000: 380, 24098215696: 394, 984095744256: 996, 9150625: 55, 3782742016: 248, 248438446096: 706, 9845600625: 315, 258439040161: 713, 7311616: 52, 845813141761: 959, 368255999281: 779, 303120718096: 742, 13521270961: 341, 59553569296: 494, 445541565121: 817, 6879707136: 288, 277809109776: 726, 12594450625: 335, 976215137296: 994, 13841287201: 343, 244242535681: 703, 63001502001: 501, 114733948176: 582, 96059601: 99, 8100000000: 300, 6250000: 50, 835279012096: 956, 60523872256: 496, 401469235456: 796, 7573350625: 295, 949005240561: 987, 116985856: 104, 118727795761: 587, 4162314256: 254, 2655237841: 227, 330123790096: 758, 370150560000: 780, 262816174336: 716, 39923636481: 447, 65610000: 90, 867180000625: 965, 1874161: 37, 557256278016: 864, 22663495936: 388, 298248146641: 739, 580840612641: 873, 145865941776: 618, 16062013696: 356, 479785216: 148, 17850625: 65, 230639102001: 693, 960596010000: 990, 15527402881: 353, 732094140625: 925, 340701020416: 764, 6505390336: 284, 31116960000: 420, 562448656: 154, 3154956561: 237, 922368160000: 980, 153566799376: 626, 176319369216: 648, 849346560000: 960, 6059221281: 279, 26873856: 72, 483798149136: 834, 1073283121: 181, 722642807056: 922, 51336683776: 476, 14641: 11, 321499206081: 753, 33556377856: 428, 187457825296: 658, 432596913841: 811, 84402451441: 539, 54700816: 86, 62001498001: 499, 1908029761: 209, 26639462656: 404, 46753250625: 465, 14166950625: 345, 58120048561: 491, 941336550625: 985, 536902045696: 856, 870780120336: 966, 252688187761: 709, 10098039121: 317, 512249392656: 846, 38862602496: 444, 896295799441: 973, 192057803536: 662, 231973236496: 694, 20200652641: 377, 2401: 7, 796594176: 168, 476874494721: 831, 280883040256: 728, 252047376: 126, 18945044881: 371, 120354180241: 589, 424125260001: 807, 110841719041: 577, 308052750625: 745, 7471182096: 294, 143986855936: 616, 1506138481: 197, 526936617216: 852, 1944810000: 210, 9971220736: 316, 181063936: 116, 98344960000: 560, 88529281: 97, 184062450625: 655, 992023968016: 998, 552114385936: 862, 18141126721: 367, 64013554081: 503, 164648481361: 637, 481481944321: 833, 3102044416: 236, 635924907601: 893, 395254161: 141, 2517630976: 224, 5314410000: 270, 100469346961: 563, 54423757521: 483, 5158686976: 268, 19565295376: 374, 86935932801: 543, 6561: 9, 207360000: 120, 856446597136: 962, 14498327281: 347, 804266382481: 947, 103355177121: 567, 83777829136: 538, 42110733681: 453, 492884401: 149, 28534304241: 411, 322417936: 134, 44386483761: 459, 3208542736: 238, 757751099121: 933, 486122700625: 835, 94197431056: 554, 27170906896: 406, 5393580481: 271, 27982932961: 409, 767544201216: 936, 770829564961: 937, 8503056: 54, 3722098081: 247, 131336659216: 602, 529414856881: 853, 797493650625: 945, 50906640625: 475, 237367737616: 698, 547008160000: 860, 2385443281: 221, 454331269681: 821, 8767700496: 306, 21381376: 68, 903687890625: 975, 221533456: 122, 144924114721: 617, 65536: 16, 2702336256: 228, 2847396321: 231, 6146560000: 280, 895745041: 173, 16: 2, 4097152081: 253, 355196928256: 772, 211309379856: 678, 577200625: 155, 502629953296: 842, 170940075601: 643, 1475789056: 196, 49632710656: 472, 506250000: 150, 23372600161: 391, 150644120641: 623, 276922881: 129, 301489944561: 741, 290258027536: 734, 1387488001: 193, 177410282401: 649, 236421376: 124, 45212176: 82, 4100625: 45, 78310985281: 529, 26904200625: 405, 30237384321: 417, 5006411536: 266, 53527912321: 481, 2136750625: 215, 1600000000: 200, 842290759696: 958, 17363069361: 363, 633081200896: 892, 190899960241: 661, 90182492416: 548, 9116621361: 309, 697886476816: 914, 104821185121: 569, 694837277761: 913, 691798081536: 912, 517110562816: 848, 28813025536: 412, 241474942801: 701, 5554571841: 273, 201511210000: 670, 1171350625: 185, 57178852641: 489, 360750390625: 775, 244140625: 125, 54875873536: 484, 83156680161: 537, 627422410000: 890, 121173610000: 590, 113164960000: 580, 744839767681: 929, 117920812816: 586, 972292630401: 993, 3662186256: 246, 385571451136: 788, 2176782336: 216, 285610000: 130, 17748900625: 365, 777431921841: 939, 23854493601: 393, 945165062416: 986, 24840596881: 397, 625: 5, 725783021041: 923, 47156728336: 466, 251265597696: 708, 207594140625: 675, 31414372081: 421, 57648010000: 490, 58594980096: 492, 671898241: 161, 134862279696: 606, 3373402561: 241, 36136489216: 436, 256992219136: 712, 8999178496: 308, 6765201: 51, 47971512576: 468, 203928109056: 672, 49213429281: 471, 38416: 14, 1358954496: 192, 129600000000: 600, 937519681536: 984, 28398241: 73, 313044726016: 748, 821386940416: 952, 215074265121: 681, 474583210000: 830, 20632736881: 379, 988053892081: 997, 79502005521: 531, 2798410000: 230, 3418801: 43, 430467210000: 810, 780748960000: 940, 968381956096: 992, 104976: 18, 19150131456: 372, 15352201216: 352, 331869318561: 759, 40960000: 80, 1836036801: 207, 67122964561: 509, 16983563041: 361, 838779390801: 957, 12149330176: 332, 24010000: 70, 723394816: 164, 707281: 29, 74818113841: 523, 221460595216: 686, 99757432336: 562, 495504774241: 839, 20736: 12, 77720518656: 528, 777796321: 167, 224054542336: 688, 16796160000: 360, 4430766096: 258, 7170871761: 291, 173076800625: 645, 514675673281: 847, 107799932241: 573, 86297287696: 542, 741200625: 165, 13363360000: 340, 507422576896: 844, 34188010000: 430, 92173567201: 551, 656100000000: 900, 443364212736: 816, 787414868496: 942, 10355301121: 319, 52204938256: 478, 2472973441: 223, 4294967296: 256, 4711998736: 262, 835210000: 170, 466948881: 147, 685749610000: 910, 268738560000: 720, 40282095616: 448, 63506016016: 502, 85030560000: 540, 519885601: 151, 11574317056: 328, 456548867856: 822, 242855782416: 702, 19356878641: 373, 101185065216: 564, 142125984016: 614, 106302733681: 571, 187388721: 117, 594262141456: 878, 37141383841: 439, 372052421521: 781, 32933538576: 426, 140283207936: 612, 12897917761: 337, 155538739456: 628, 29376588816: 414, 6234839521: 281, 88873149456: 546, 42483805456: 454, 20151121: 67, 700945700625: 915, 12444741136: 334, 713283282721: 919, 1097199376: 182, 214358881: 121, 32319410176: 424, 22199808016: 386, 1026625681: 179, 493146635536: 838, 1731891456: 204, 104086245376: 568, 2258530576: 218, 738446330241: 927, 1222830961: 187, 194389282816: 664, 395451064801: 793, 279342903841: 727, 271737008656: 722, 874391437921: 967, 375878121921: 783, 5972816656: 278, 2562890625: 225, 751274631121: 931, 17555190016: 364, 32625390625: 425, 15006250000: 350, 937890625: 175, 291843050625: 735, 875213056: 172, 467758877041: 827, 5236114321: 269, 996005996001: 999, 3429742096: 242, 130466162401: 601, 497871360000: 840, 362673936: 138, 624607283041: 889, 352275361: 137, 25344958401: 399, 342102016: 136, 748052010000: 930, 108554434576: 574, 16243247601: 357, 387532395441: 789, 892616806656: 972, 270234665281: 721, 29661450625: 415, 3049800625: 235, 5636405776: 274, 283982410000: 730, 441194850625: 815, 929920776976: 982, 75969140625: 525, 418161601: 143, 6690585616: 286, 1632240801: 201, 790763784001: 943, 314722122001: 749, 249849022801: 707, 705911761: 163, 415778646481: 803, 570268135921: 869, 447726927376: 818, 676751377201: 907, 44000935696: 458, 112550881: 103, 331776: 24, 69799526416: 514, 1275989841: 189, 419936400625: 805, 759333136: 166, 7269949696: 292, 531441: 27, 916636176: 174, 267248675521: 719, 132211504881: 603, 17172529936: 362, 4228250625: 255, 719512794081: 921, 116319195136: 584, 2428912656: 222, 260144641: 127, 509831700625: 845, 383617958161: 787, 21743271936: 384, 12960000: 60, 623201296: 158, 13206836241: 339, 182940976656: 654, 45165175441: 461, 85662167761: 541, 878013976576: 968, 10485760000: 320, 18339659776: 368, 655360000: 160, 57289761: 87, 152587890625: 625, 43237380096: 456, 39567575056: 446, 855036081: 171, 127027375281: 597, 196741925136: 666, 137552716161: 609, 31640625: 75, 619005459361: 887, 125333700625: 595, 149679229456: 622, 470025421056: 828, 586181640625: 875, 13680577296: 342, 151807041: 111, 147763360000: 620, 11433811041: 327, 227988105361: 691, 465500540176: 826, 4499860561: 259, 933714431521: 983, 37015056: 78, 195562950625: 665, 338920744561: 763, 319794774016: 752, 959512576: 176, 146410000: 110, 2560000: 40, 169879162896: 642, 1982119441: 211, 881647759521: 969, 36804120336: 438, 91506250000: 550, 312900721: 133, 89526025681: 547, 914861642256: 978, 679740887296: 908, 741637881856: 928, 592240896: 156, 6975757441: 289, 78074896: 94, 981506241: 177, 81313944336: 534, 162590400625: 635, 384160000: 140, 178506250000: 650, 35153041: 77, 411651843201: 801, 61505984016: 498, 814506250000: 950, 123657019201: 593, 9354951841: 311, 4857532416: 264, 10226063376: 318, 11156640625: 325, 565036352721: 867, 707094310321: 917, 6324066576: 282, 952857108736: 988, 52200625: 85, 304758098401: 743, 78904810000: 530, 403490473681: 797, 539415333601: 857, 1048576: 32, 7886150416: 298, 38950081: 79, 30821664721: 419, 810000: 30, 7780827681: 297, 38167092496: 442, 607573201: 157, 562434001936: 866, 583506543376: 874, 899986152976: 974, 333621760000: 760, 19987173376: 376, 764269350625: 935, 109312890625: 575, 9235210000: 310, 175233494881: 647, 2313441: 39, 27710263296: 408, 351530410000: 770, 15882300625: 355, 70892257536: 516, 575536166881: 871, 761004990736: 934, 661951468816: 902, 2300257521: 219, 817941168801: 951, 353360102481: 771, 1871773696: 208, 1330863361: 191, 97644375361: 559, 588865925376: 876, 1336336: 34, 6784652161: 287, 121997216961: 591, 807668879616: 948, 1000000000000: 1000, 3906250000: 250, 73680216481: 521, 9721171216: 314, 130321: 19, 25091827216: 398, 9597924961: 313, 10000: 10, 490796923761: 837, 279841: 23, 716392960000: 920, 37480960000: 440, 1303210000: 190, 1698181681: 203, 667841990656: 904, 860013262161: 963, 59072816401: 493, 259891961616: 714, 108243216: 102, 3603000625: 245, 234658861056: 696, 17944209936: 366, 107049369856: 572, 172005949696: 644, 659020863601: 901, 610673479936: 884, 426231402496: 808, 12745506816: 336, 4879681: 47, 143054150625: 615, 92236816: 98, 2217373921: 217, 139368569041: 611, 1049760000: 180, 11316496: 58, 73116160000: 520, 13845841: 61, 47562811921: 467, 1003875856: 178, 48382841521: 469, 62500000000: 500, 40642963201: 449, 27439591201: 407, 3317760000: 240, 3844124001: 249, 14003408896: 344, 174152643856: 646, 650287411216: 898, 3486784401: 243, 911125611841: 977, 907401035776: 976, 50479304976: 474, 133974300625: 605, 53084160000: 480, 12117361: 59, 364488705441: 777, 439033459216: 814, 554680863361: 863, 247033850625: 705, 179607287601: 651, 2998219536: 234, 113947428721: 581, 407555836801: 799, 639128961: 159, 405519334416: 798, 670801950625: 905, 596974114881: 879, 688747536: 162, 3262808641: 239, 35152125121: 433, 119538913536: 588, 23134410000: 390, 318097128001: 751, 136048896: 108, 754507653376: 932, 174900625: 115, 95565066496: 556, 323210442256: 754, 1249198336: 188, 852891037441: 961, 156531800881: 629, 25600000000: 400, 4931550625: 265, 23612624896: 392, 14776336: 62, 7370050801: 293, 33243864241: 427, 158532181921: 631, 55788550416: 486, 1679616: 36, 131079601: 107, 381671897616: 786, 42859350625: 455, 180713410816: 652, 34828517376: 432, 728933458176: 924, 50625: 15, 784076601361: 941, 48796810000: 470, 2608757776: 226, 19775390625: 375, 81924750625: 535, 11294588176: 326, 358892053776: 774, 1500625: 35, 56249134561: 487, 265764994576: 718, 572897610000: 870, 72555348321: 519, 92844527616: 552, 390625: 25, 393460125696: 792, 21071715921: 381, 14331920656: 346, 104060401: 101, 218889236736: 684, 37822859361: 441, 13051691536: 338, 630247042161: 891, 212558803681: 679, 26376683281: 403, 621801639936: 888, 222754736961: 687, 4569760000: 260, 607914936721: 883, 20415837456: 378, 7072810000: 290, 10617447681: 321, 4032758016: 252, 406586896: 142, 8208541201: 301, 197926222321: 667, 328385156401: 757, 824843587681: 953, 45954068161: 463, 210065472241: 677, 479174066176: 832, 112386528081: 579, 885292810000: 970, 2825761: 41, 9475854336: 312, 46352367616: 464, 5887339441: 277, 43617904801: 457, 44774560000: 460, 161568625936: 634, 2097273616: 214, 342488300625: 765, 55330800625: 485, 7890481: 53, 126178406656: 596, 428345379361: 809, 41740124416: 452, 205144679041: 673, 285541678321: 731, 193220905761: 663, 295032562561: 737, 83521: 17, 602425897921: 881, 15704099856: 354, 1568239201: 199, 831789600625: 955, 254116810000: 710, 14666178816: 348, 294499921: 131, 35477982736: 434, 366368720656: 778, 5473632256: 272, 299865760000: 740, 362615934976: 776, 1536953616: 198, 7676563456: 296, 638778183696: 894, 5719140625: 275, 2085136: 38, 4640470641: 261, 436880018961: 813, 888949151281: 971, 96947540496: 558, 255551481441: 711, 5308416: 48, 160551674721: 633, 81450625: 95, 30528476176: 418, 18539817921: 369, 458774574241: 823, 33362176: 76, 605165749776: 882, 8882874001: 307, 77133397441: 527, 22430753361: 387, 488455618816: 836, 99049307841: 561, 326653399296: 756, 193877776: 118, 324928500625: 755, 1121513121: 183, 64524128256: 504, 1416468496: 194, 3969126001: 251, 22898045041: 389, 391476713761: 791, 397449550096: 794, 7992538801: 299, 273245607441: 723, 472300192081: 829, 863591055616: 964, 264287499921: 717, 794123370496: 944, 84934656: 96, 136651472896: 608, 100000000: 100, 337147454736: 762, 5764801: 49, 53974440976: 482, 2947295521: 233, 159539531776: 632, 335381132641: 761, 409600000000: 800, 828311133456: 954, 6597500625: 285, 45558341136: 462, 94879400625: 555, 82538991616: 536, 157529610000: 630, 500246412961: 841, 1664966416: 202, 62742241: 89, 115524532321: 583, 533794816: 152, 151613669376: 624, 344282603536: 766, 14835483601: 349, 35806100625: 435, 34507149121: 431, 135754665601: 607, 236010384481: 697, 31713911056: 422, 163617014016: 636, 735265090576: 926, 68574961: 91, 51769445841: 477, 124493242896: 594, 449920319121: 819, 24591257856: 396, 126247696: 106, 38513670001: 443, 65037750625: 505, 15752961: 63, 128738157601: 599, 25856961601: 401, 15178486401: 351, 50054665441: 473, 71639296: 92, 11859210000: 330, 141158161: 109, 61013446081: 497, 93519144481: 553, 168896016: 114, 32015587041: 423, 591559418641: 877, 24343800625: 395, 74247530256: 522, 274760478976: 724, 121550625: 105, 1146228736: 184, 220172100625: 685, 10750371856: 322, 5082121521: 267, 710183740176: 918, 461008408576: 824, 811082161201: 949, 28257610000: 410, 774125464336: 938, 373301041: 139, 454371856: 146, 613441400625: 885, 127880620816: 598, 43046721: 81, 68719476736: 512, 505022001201: 843, 138458410000: 610, 16610312161: 359, 644513529856: 896, 105560010000: 570, 208827064576: 676, 10884540241: 323, 578183827456: 872, 2019963136: 212, 226671210000: 690, 463250390625: 825, 188599986961: 659, 377801998336: 784, 238730937201: 699, 332150625: 135, 688768866241: 911, 59969536: 88, 256: 4, 36469158961: 437, 165684817936: 638, 1766100625: 205, 80102584576: 532, 306402103296: 744, 186320859201: 657, 422026932496: 806, 2342560000: 220, 22667121: 69, 181824635281: 653, 8318169616: 302, 66074188401: 507, 309710058256: 746, 399455600625: 795, 923521: 31, 206366684176: 674, 8428892481: 303, 3748096: 44, 167772160000: 640, 202716958081: 671, 28561: 13, 288679469521: 733, 213813760000: 680, 373961602576: 782, 434734510336: 812, 240100000000: 700, 616218720016: 886, 614656: 28, 200533921: 119, 5802782976: 276, 41006250000: 450, 6414247921: 283, 52643172481: 479, 531901827856: 854, 225360027841: 689, 122825015296: 592, 456976: 26, 682740290961: 909, 194481: 21, 49787136: 84, 641641050625: 895, 316406250000: 750, 117117950625: 585, 800874647056: 946, 3111696: 42, 664891837281: 903, 163047361: 113, 276281640625: 725, 704014971136: 916, 346083947521: 767, 296637086736: 738, 11716114081: 329, 544468370161: 859, 29093783761: 413, 229310730496: 692, 389500810000: 790, 1196883216: 186, 413711385616: 802, 74805201: 93, 96254442001: 557, 146812351921: 619, 1800814096: 206, 87578116096: 544, 80706559921: 533, 60037250625: 495, 66597028096: 508, 547981281: 153, 549556825041: 861, 56712564736: 488, 68184176641: 511, 534397550625: 855, 67652010000: 510, 1445900625: 195, 519554081601: 849, 541937434896: 858, 154550410641: 627, 2750058481: 229, 21517662721: 383, 522006250000: 850, 10556001: 57, 71997768976: 518, 311374044081: 747, 599695360000: 880, 8540717056: 304, 199115858176: 668}\n"
     ]
    }
   ],
   "source": [
    "# Use a dictionary comprehension to invert that dictionary, mapping values to keys.\n",
    "new_dict = { k:v for v,k in init_dict.iteritems()}\n",
    "print new_dict"
   ]
  },
  {
   "cell_type": "code",
   "execution_count": 278,
   "metadata": {
    "collapsed": false
   },
   "outputs": [
    {
     "name": "stdout",
     "output_type": "stream",
     "text": [
      "<type 'list'>\n",
      "Yummie Quinoa Salad with Fresh Veggies!!!!\n",
      "\n",
      "Yummie Taboule!!!!\n",
      "\n",
      "Yummie Veggie Burger Sandwich!!!!\n",
      "\n",
      "Yummie Sprout Sandwich!!!!\n",
      "\n",
      "Yummie Homemade Yoshon Whole-Wheat Pasta with Scratch Marinara!!!!\n",
      "\n"
     ]
    }
   ],
   "source": [
    "# Create a list that contains the items on your current grocery list.\n",
    "good_food = ['Quinoa Salad with Fresh Veggies', 'Taboule', 'Veggie Burger Sandwich', 'Sprout Sandwich','Homemade Yoshon Whole-Wheat Pasta with Scratch Marinara']\n",
    "print type(good_food)\n",
    "for item in good_food:\n",
    "    print 'Yummie ' + item + '!!!!\\n'\n"
   ]
  },
  {
   "cell_type": "code",
   "execution_count": 282,
   "metadata": {
    "collapsed": false
   },
   "outputs": [
    {
     "name": "stdout",
     "output_type": "stream",
     "text": [
      "set(['Reading'])\n",
      "set(['Guitar', 'Music', 'Psychology', 'MineCraft', 'Video Games', 'Technology'])\n"
     ]
    }
   ],
   "source": [
    "# Create a set to identify your favorite hobbies and another set to identify someone else's hobbies. \n",
    "# Using the two sets, what hobbies do you have in common? What hobbies do you not share?\n",
    "my_hobbies = {\"Music\", \"Reading\", \"Technology\", \"Psychology\"}\n",
    "your_hobbies = {\"Guitar\", \"Reading\", \"MineCraft\", \"Video Games\"}\n",
    "print my_hobbies.intersection(your_hobbies)\n",
    "print my_hobbies.difference(your_hobbies).union(your_hobbies.difference(my_hobbies))"
   ]
  },
  {
   "cell_type": "markdown",
   "metadata": {
    "deletable": true,
    "editable": true
   },
   "source": [
    "### Exit Tickets\n",
    "\n",
    "1. What are the similarities and differences between a Python `list` and a `tuple`? Between a `list` and a `set`?\n",
    "1. What is a zero indexed array?\n",
    "1. What is a list comprehension? How do they help you code?"
   ]
  },
  {
   "cell_type": "markdown",
   "metadata": {
    "deletable": true,
    "editable": true
   },
   "source": [
    "*Copyright &copy; 2016 The Data Incubator.  All rights reserved.*"
   ]
  }
 ],
 "metadata": {
  "kernelspec": {
   "display_name": "Python 2",
   "language": "python",
   "name": "python2"
  },
  "language_info": {
   "codemirror_mode": {
    "name": "ipython",
    "version": 2
   },
   "file_extension": ".py",
   "mimetype": "text/x-python",
   "name": "python",
   "nbconvert_exporter": "python",
   "pygments_lexer": "ipython2",
   "version": "2.7.13"
  }
 },
 "nbformat": 4,
 "nbformat_minor": 1
}
