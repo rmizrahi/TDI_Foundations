{
 "cells": [
  {
   "cell_type": "code",
   "execution_count": 1,
   "metadata": {
    "collapsed": true,
    "deletable": true,
    "editable": true
   },
   "outputs": [],
   "source": [
    "%matplotlib inline\n",
    "import matplotlib\n",
    "import seaborn as sns\n",
    "matplotlib.rcParams['savefig.dpi'] = 144"
   ]
  },
  {
   "cell_type": "code",
   "execution_count": 2,
   "metadata": {
    "collapsed": true,
    "deletable": true,
    "editable": true
   },
   "outputs": [],
   "source": [
    "from sklearn import datasets, linear_model, utils, preprocessing\n",
    "import pandas as pd\n",
    "from pandas import DataFrame, Series\n",
    "import matplotlib.pylab as plt\n",
    "import numpy as np\n",
    "import seaborn as sns\n",
    "import dill"
   ]
  },
  {
   "cell_type": "markdown",
   "metadata": {
    "deletable": true,
    "editable": true
   },
   "source": [
    "# Linear and Logistic Regression: What this is all about\n",
    "<!-- requirement: images/linear_regression_error.gif -->\n",
    "<!-- requirement: small_data/mnist.pkl -->\n",
    "*&copy; The Data Incubator*\n",
    "\n",
    "You might be familiar with term *linear regression*. It is a mathematical technique for identifying linear relationships in data.\n",
    "\n",
    "We are going to explore Linear Regression using a well-known dataset called the *Boston Housing Data*. This is an old dataset included with scikit-learn that is frequently studied. It is data on housing values from the suburbs of Boston. Researchers can study the data to predict the median value of homes based on the other variables."
   ]
  },
  {
   "cell_type": "code",
   "execution_count": 3,
   "metadata": {
    "collapsed": false,
    "deletable": true,
    "editable": true
   },
   "outputs": [
    {
     "data": {
      "text/plain": [
       "array([[  6.32000000e-03,   1.80000000e+01,   2.31000000e+00, ...,\n",
       "          1.53000000e+01,   3.96900000e+02,   4.98000000e+00],\n",
       "       [  2.73100000e-02,   0.00000000e+00,   7.07000000e+00, ...,\n",
       "          1.78000000e+01,   3.96900000e+02,   9.14000000e+00],\n",
       "       [  2.72900000e-02,   0.00000000e+00,   7.07000000e+00, ...,\n",
       "          1.78000000e+01,   3.92830000e+02,   4.03000000e+00],\n",
       "       ..., \n",
       "       [  6.07600000e-02,   0.00000000e+00,   1.19300000e+01, ...,\n",
       "          2.10000000e+01,   3.96900000e+02,   5.64000000e+00],\n",
       "       [  1.09590000e-01,   0.00000000e+00,   1.19300000e+01, ...,\n",
       "          2.10000000e+01,   3.93450000e+02,   6.48000000e+00],\n",
       "       [  4.74100000e-02,   0.00000000e+00,   1.19300000e+01, ...,\n",
       "          2.10000000e+01,   3.96900000e+02,   7.88000000e+00]])"
      ]
     },
     "execution_count": 3,
     "metadata": {},
     "output_type": "execute_result"
    }
   ],
   "source": [
    "with open(\"small_data/mnist.pkl\", \"r\") as fin:\n",
    "    mnist = dill.load(fin)\n",
    "\n",
    "mnist.data"
   ]
  },
  {
   "cell_type": "markdown",
   "metadata": {
    "deletable": true,
    "editable": true
   },
   "source": [
    "These are the columns in the dataset:\n",
    "\n",
    "* CRIM per capita crime rate by town\n",
    "* ZN proportion of residential land zoned for lots over 25,000 sq.ft.\n",
    "* INS proportion of non-retail business acres per town\n",
    "* CHAS Charles River dummy variable (= 1 if tract bounds river; 0 otherwise)\n",
    "* NOX nitric oxides concentration (parts per 10 million)\n",
    "* RM average number of rooms per dwelling\n",
    "* AGE proportion of owner-occupied units built prior to 1940\n",
    "* DIS weighted distances to five Boston employment centers\n",
    "* RAD index of accessibility to radial highways\n",
    "* TAX full-value property-tax rate per \\$10,000\n",
    "* PTRATIO pupil-teacher ratio by town\n",
    "* B 1000(Bk - 0.63)^2 where Bk is the proportion of African Americans by town\n",
    "* LSTAT % lower status of the population\n",
    "* MEDV Median value of owner-occupied homes in \\$1000's\n",
    "\n",
    "Let's add the data to a DataFrame to make it easier to use."
   ]
  },
  {
   "cell_type": "code",
   "execution_count": 4,
   "metadata": {
    "collapsed": false,
    "deletable": true,
    "editable": true
   },
   "outputs": [],
   "source": [
    "names = ['CRIM', 'ZN', 'INS', 'CHAS', 'NOX', 'RM', 'AGE',\n",
    "         'DIS', 'RAD', 'TAX', 'PTRATIO', 'B', 'LSTAT']\n",
    "\n",
    "data_dict = dict(CRIM='per capita crime rate by town',\n",
    "                 ZN='proportion of residential land zoned for lots over 25,000 sq.ft.',\n",
    "                 INS='proportion of non-retail business acres per town',\n",
    "                 CHAS='Charles River dummy variable (= 1 if tract bounds river; 0 otherwise)',\n",
    "                 NOX='nitric oxides concentration (parts per 10 million)',\n",
    "                 RM='average number of rooms per dwelling',\n",
    "                 AGE='proportion of owner-occupied units built prior to 1940',\n",
    "                 DIS='weighted distances to five Boston employment centres',\n",
    "                 RAD='index of accessibility to radial highways',\n",
    "                 TAX='full-value property-tax rate per \\$10,000',\n",
    "                 PTRATIO='pupil-teacher ratio by town',\n",
    "                 B='1000(Bk - 0.63)^2 where Bk is the proportion of african americans by town',\n",
    "                 LSTAT='% lower status of the population',\n",
    "                 MEDV='Median value of owner-occupied homes in \\$1000\\'s')\n",
    "\n",
    "boston_data = DataFrame(mnist.data, columns=names)\n",
    "\n",
    "home_values = Series(mnist.target)"
   ]
  },
  {
   "cell_type": "code",
   "execution_count": 5,
   "metadata": {
    "collapsed": false,
    "deletable": true,
    "editable": true
   },
   "outputs": [
    {
     "data": {
      "text/html": [
       "<div>\n",
       "<style>\n",
       "    .dataframe thead tr:only-child th {\n",
       "        text-align: right;\n",
       "    }\n",
       "\n",
       "    .dataframe thead th {\n",
       "        text-align: left;\n",
       "    }\n",
       "\n",
       "    .dataframe tbody tr th {\n",
       "        vertical-align: top;\n",
       "    }\n",
       "</style>\n",
       "<table border=\"1\" class=\"dataframe\">\n",
       "  <thead>\n",
       "    <tr style=\"text-align: right;\">\n",
       "      <th></th>\n",
       "      <th>CRIM</th>\n",
       "      <th>ZN</th>\n",
       "      <th>INS</th>\n",
       "      <th>CHAS</th>\n",
       "      <th>NOX</th>\n",
       "      <th>RM</th>\n",
       "      <th>AGE</th>\n",
       "      <th>DIS</th>\n",
       "      <th>RAD</th>\n",
       "      <th>TAX</th>\n",
       "      <th>PTRATIO</th>\n",
       "      <th>B</th>\n",
       "      <th>LSTAT</th>\n",
       "    </tr>\n",
       "  </thead>\n",
       "  <tbody>\n",
       "    <tr>\n",
       "      <th>0</th>\n",
       "      <td>0.00632</td>\n",
       "      <td>18.0</td>\n",
       "      <td>2.31</td>\n",
       "      <td>0.0</td>\n",
       "      <td>0.538</td>\n",
       "      <td>6.575</td>\n",
       "      <td>65.2</td>\n",
       "      <td>4.0900</td>\n",
       "      <td>1.0</td>\n",
       "      <td>296.0</td>\n",
       "      <td>15.3</td>\n",
       "      <td>396.90</td>\n",
       "      <td>4.98</td>\n",
       "    </tr>\n",
       "    <tr>\n",
       "      <th>1</th>\n",
       "      <td>0.02731</td>\n",
       "      <td>0.0</td>\n",
       "      <td>7.07</td>\n",
       "      <td>0.0</td>\n",
       "      <td>0.469</td>\n",
       "      <td>6.421</td>\n",
       "      <td>78.9</td>\n",
       "      <td>4.9671</td>\n",
       "      <td>2.0</td>\n",
       "      <td>242.0</td>\n",
       "      <td>17.8</td>\n",
       "      <td>396.90</td>\n",
       "      <td>9.14</td>\n",
       "    </tr>\n",
       "    <tr>\n",
       "      <th>2</th>\n",
       "      <td>0.02729</td>\n",
       "      <td>0.0</td>\n",
       "      <td>7.07</td>\n",
       "      <td>0.0</td>\n",
       "      <td>0.469</td>\n",
       "      <td>7.185</td>\n",
       "      <td>61.1</td>\n",
       "      <td>4.9671</td>\n",
       "      <td>2.0</td>\n",
       "      <td>242.0</td>\n",
       "      <td>17.8</td>\n",
       "      <td>392.83</td>\n",
       "      <td>4.03</td>\n",
       "    </tr>\n",
       "    <tr>\n",
       "      <th>3</th>\n",
       "      <td>0.03237</td>\n",
       "      <td>0.0</td>\n",
       "      <td>2.18</td>\n",
       "      <td>0.0</td>\n",
       "      <td>0.458</td>\n",
       "      <td>6.998</td>\n",
       "      <td>45.8</td>\n",
       "      <td>6.0622</td>\n",
       "      <td>3.0</td>\n",
       "      <td>222.0</td>\n",
       "      <td>18.7</td>\n",
       "      <td>394.63</td>\n",
       "      <td>2.94</td>\n",
       "    </tr>\n",
       "    <tr>\n",
       "      <th>4</th>\n",
       "      <td>0.06905</td>\n",
       "      <td>0.0</td>\n",
       "      <td>2.18</td>\n",
       "      <td>0.0</td>\n",
       "      <td>0.458</td>\n",
       "      <td>7.147</td>\n",
       "      <td>54.2</td>\n",
       "      <td>6.0622</td>\n",
       "      <td>3.0</td>\n",
       "      <td>222.0</td>\n",
       "      <td>18.7</td>\n",
       "      <td>396.90</td>\n",
       "      <td>5.33</td>\n",
       "    </tr>\n",
       "  </tbody>\n",
       "</table>\n",
       "</div>"
      ],
      "text/plain": [
       "      CRIM    ZN   INS  CHAS    NOX     RM   AGE     DIS  RAD    TAX  PTRATIO  \\\n",
       "0  0.00632  18.0  2.31   0.0  0.538  6.575  65.2  4.0900  1.0  296.0     15.3   \n",
       "1  0.02731   0.0  7.07   0.0  0.469  6.421  78.9  4.9671  2.0  242.0     17.8   \n",
       "2  0.02729   0.0  7.07   0.0  0.469  7.185  61.1  4.9671  2.0  242.0     17.8   \n",
       "3  0.03237   0.0  2.18   0.0  0.458  6.998  45.8  6.0622  3.0  222.0     18.7   \n",
       "4  0.06905   0.0  2.18   0.0  0.458  7.147  54.2  6.0622  3.0  222.0     18.7   \n",
       "\n",
       "        B  LSTAT  \n",
       "0  396.90   4.98  \n",
       "1  396.90   9.14  \n",
       "2  392.83   4.03  \n",
       "3  394.63   2.94  \n",
       "4  396.90   5.33  "
      ]
     },
     "execution_count": 5,
     "metadata": {},
     "output_type": "execute_result"
    }
   ],
   "source": [
    "boston_data.head()"
   ]
  },
  {
   "cell_type": "code",
   "execution_count": 6,
   "metadata": {
    "collapsed": false,
    "deletable": true,
    "editable": true
   },
   "outputs": [
    {
     "data": {
      "text/plain": [
       "0    24\n",
       "1    21\n",
       "2    34\n",
       "3    33\n",
       "4    36\n",
       "dtype: int64"
      ]
     },
     "execution_count": 6,
     "metadata": {},
     "output_type": "execute_result"
    }
   ],
   "source": [
    "home_values.head()"
   ]
  },
  {
   "cell_type": "markdown",
   "metadata": {
    "deletable": true,
    "editable": true
   },
   "source": [
    "We can familiarize ourselves with the data by plotting it. Let's have some fun exploring data using IPython widgets.\n",
    "\n",
    "Experiment with the dropdown to plot each column vs. Median home value.\n",
    "\n",
    "**Question:** Which columns seem to have somewhat of a linear relationship with home values?"
   ]
  },
  {
   "cell_type": "code",
   "execution_count": 7,
   "metadata": {
    "collapsed": false,
    "deletable": true,
    "editable": true
   },
   "outputs": [
    {
     "data": {
      "image/png": "[encoded data removed]",
      "text/plain": [
       "<matplotlib.figure.Figure at 0x7f5dae1ba410>"
      ]
     },
     "metadata": {},
     "output_type": "display_data"
    }
   ],
   "source": [
    "from ipywidgets import widgets\n",
    "\n",
    "def boston_plot(column):\n",
    "    plt.plot(boston_data[column], home_values, '.')\n",
    "    plt.xlabel(data_dict[column])\n",
    "    plt.ylabel('Home Price')\n",
    "\n",
    "dropdown_values = {\"{0}: {1}\".format(k, v):k for k, v in data_dict.items()}\n",
    "\n",
    "widgets.interact(boston_plot, column=dropdown_values);"
   ]
  },
  {
   "cell_type": "markdown",
   "metadata": {
    "deletable": true,
    "editable": true
   },
   "source": [
    "The \"average number of rooms per dwelling\" (RM) in particular seems to have a linear relationship with home price. We can attempt to visualize that by adding a straight line to the chart.\n",
    "\n",
    "**Question:** In the below figure, which line seems to best \"fit\" the data?"
   ]
  },
  {
   "cell_type": "code",
   "execution_count": 8,
   "metadata": {
    "collapsed": false,
    "deletable": true,
    "editable": true
   },
   "outputs": [
    {
     "data": {
      "image/png": "[encoded data removed]",
      "text/plain": [
       "<matplotlib.figure.Figure at 0x7f5dae174590>"
      ]
     },
     "metadata": {},
     "output_type": "display_data"
    }
   ],
   "source": [
    "plt.plot(boston_data['RM'], home_values, '.')\n",
    "plt.plot([3.5, 9], [5, 50], '-')\n",
    "plt.plot([4.8, 8.3], [5, 50], '-')\n",
    "plt.plot([5.3, 7.8], [5, 50], '-')\n",
    "\n",
    "plt.xlabel(data_dict['RM'])\n",
    "plt.ylabel('Home Price');"
   ]
  },
  {
   "cell_type": "markdown",
   "metadata": {
    "deletable": true,
    "editable": true
   },
   "source": [
    "The green one looks like a poor fit to me but I can't decide if the red or purple one is the better.\n",
    "\n",
    "But rather than eye-balling lines on charts, wouldn't it be great if there was a way to pick the \"best\" line that fits  the data?\n",
    "\n",
    "Linear Regression is just that process. It is a mathematical process for measuring a line's \"error\" with respect to the data and picking the line that minimizes that error. It can describe the linear relationship between a set of numbers (the independent variables) and the dependent variable.\n",
    "\n",
    "In this case the independent variable is the \"average number of rooms per dwelling\" and the dependent variable is the Home Price. The independent variables need not be limited to one variable. A complex model may have hundreds or more dependent variables!\n",
    "\n",
    "Let's try Linear Regression to find the best fitting line. Is this result what you expected?"
   ]
  },
  {
   "cell_type": "code",
   "execution_count": 9,
   "metadata": {
    "collapsed": false,
    "deletable": true,
    "editable": true
   },
   "outputs": [
    {
     "data": {
      "image/png": "[encoded data removed]",
      "text/plain": [
       "<matplotlib.figure.Figure at 0x7f5daaca81d0>"
      ]
     },
     "metadata": {},
     "output_type": "display_data"
    }
   ],
   "source": [
    "linreg = linear_model.LinearRegression(fit_intercept=True)  # fit_intercept=True is the default value\n",
    "linreg.fit(boston_data[['RM']], home_values)\n",
    "x = np.linspace(3, 9).reshape(-1,1)\n",
    "\n",
    "plt.plot(boston_data['RM'], home_values, '.')\n",
    "plt.plot(x, linreg.predict(x), '-')\n",
    "plt.ylim(5, 50)\n",
    "plt.xlabel(data_dict['RM'])\n",
    "plt.ylabel('Home Price');"
   ]
  },
  {
   "cell_type": "markdown",
   "metadata": {
    "collapsed": true,
    "deletable": true,
    "editable": true
   },
   "source": [
    "Let's dig deeper into how Linear Regression works."
   ]
  },
  {
   "cell_type": "markdown",
   "metadata": {
    "deletable": true,
    "editable": true
   },
   "source": [
    "## Linear Regression\n",
    "\n",
    "This is the basic picture of linear regression errors:\n",
    "\n",
    "![$L^1$ versus $L^2$ regularization](images/linear_regression_error.gif)\n",
    "\n",
    "Linear Regression is perhaps the simplest linear model $f(X_{j \\cdot}) = \\sum_i \\beta_i X_{ji}$.  The error model assumes the $y_j$'s are independent and normally distributed around $X_{ji} \\cdot \\beta_i$ with standard deviation $\\sigma$."
   ]
  },
  {
   "cell_type": "markdown",
   "metadata": {
    "deletable": true,
    "editable": true
   },
   "source": [
    "### Likelihood and cost functions\n",
    "Suppose that we knew that the correct model was given by some $\\beta_i$.  Given the above assumption about the error model, the probability of measuring $y_j$ is simply\n",
    "\n",
    "$$ P(y_j \\mid \\beta_i) = \\prod_j \\frac{1}{\\sqrt{2\\pi \\sigma^2}} \\exp \\left[-\\left( \\frac{X_{ji} \\cdot \\beta_i - y_j}{2 \\sigma} \\right)^2 \\right] \\,.$$\n",
    "\n",
    "However, we don't know the $\\beta_i$.  Instead we want to find them, given the $y_j$, by finding the $\\beta_i$ that maximize $P(\\beta_i \\mid y_j)$.  Thanks to Bayes' Rule, we know\n",
    "\n",
    "$$ P(\\beta_i \\mid y_j) = P(y_j \\mid \\beta_i) \\frac{P(\\beta_i)}{P(y_j)} \\,.$$\n",
    "\n",
    "We know the first term on the RHS, and $P(y_j)$ is independent of $\\beta_i$, leaving only $P(\\beta_i)$ unknown.  In linear regression, we suppose we have no *a priori* knowledge of the expected coefficients and take $P(\\beta_i)$ to be constant as well.  Thus, the most probable model is determined by maximizing the likelihood function\n",
    "\n",
    "$$ L(\\beta) = \\prod_j \\frac{1}{\\sqrt{2\\pi \\sigma^2}} \\exp \\left[-\\left( \\frac{X_{ji} \\cdot \\beta_i - y_j}{2 \\sigma} \\right)^2 \\right] \\propto P(\\beta_i \\mid y_j) \\,.$$\n",
    "\n",
    "Since $\\log$ is monotonic, we can also maximize the log-likelihood.  A few calculations show us that the negative log-likelihood (up to a linear transformation) is\n",
    "\n",
    "$$- \\log(L(\\beta)) \\sim \\| y - X \\beta \\|^2\\,.$$\n",
    "\n",
    "Here, $\\| z \\| = \\| z \\|_2 = \\sum_i |z_i|^2 $ is the $L^2$ norm.  The objective is to minimize this quadratic:\n",
    "\n",
    "$$ \\min_\\beta \\| y - X \\beta \\|^2\\,.$$\n",
    "\n",
    "Of course, this is the familiar expression for linear regression.  We could minimize $\\beta$ via gradient descent, but it turns out that the solution has a closed form, \n",
    "\n",
    "$$ X \\hat \\beta = y\\,, $$\n",
    "\n",
    "or\n",
    "\n",
    "$$ \\hat \\beta = (X^T X)^{-1} X^T y\\,. $$"
   ]
  },
  {
   "cell_type": "markdown",
   "metadata": {
    "deletable": true,
    "editable": true
   },
   "source": [
    "## Using Linear Regression\n",
    "\n",
    "Let's see how this is used in practice. We will do a Linear Regression as before, but will shuffle the data first.\n",
    "\n",
    "**Question:** Why is shuffling the data a good idea?"
   ]
  },
  {
   "cell_type": "code",
   "execution_count": 10,
   "metadata": {
    "collapsed": true,
    "deletable": true,
    "editable": true
   },
   "outputs": [],
   "source": [
    "np.random.seed(42)\n",
    "Xraw, y = utils.shuffle(mnist.data, mnist.target)\n",
    "Xraw = pd.DataFrame(Xraw, columns=names)\n",
    "y = pd.Series(y)"
   ]
  },
  {
   "cell_type": "markdown",
   "metadata": {
    "deletable": true,
    "editable": true
   },
   "source": [
    "### Prepare the data with a train-test split\n",
    "\n",
    "We use TRAIN data to fit our model, and we predict on TEST data."
   ]
  },
  {
   "cell_type": "code",
   "execution_count": 11,
   "metadata": {
    "collapsed": false,
    "deletable": true,
    "editable": true
   },
   "outputs": [],
   "source": [
    "from sklearn import model_selection\n",
    "\n",
    "X_train, X_test, y_train, y_test = model_selection.train_test_split(Xraw, y, test_size=0.2)"
   ]
  },
  {
   "cell_type": "markdown",
   "metadata": {
    "deletable": true,
    "editable": true
   },
   "source": [
    "Cross validation allows us to *train* the model on a subset of the data and later *test* the model on a different subset of data.\n",
    "\n",
    "We shuffled the data to make sure that cross validation split is being done randomly. Sometimes the ordering of the dataset you start out with is not random. Watch out for this!"
   ]
  },
  {
   "cell_type": "code",
   "execution_count": 12,
   "metadata": {
    "collapsed": false,
    "deletable": true,
    "editable": true
   },
   "outputs": [
    {
     "name": "stdout",
     "output_type": "stream",
     "text": [
      "(506, 13)\n",
      "(404, 13)\n",
      "(102, 13)\n"
     ]
    }
   ],
   "source": [
    "print Xraw.shape\n",
    "print X_train.shape\n",
    "print X_test.shape"
   ]
  },
  {
   "cell_type": "markdown",
   "metadata": {
    "deletable": true,
    "editable": true
   },
   "source": [
    "We also want to scale our data so that it has a mean of zero and a variance of one. Scaling the data is helpful when the input variables have different magnitudes and ranges. For example in the Boston dataset the relative scale of the CHAS and NOX columns is very different from that of the TAX column.\n",
    "\n",
    "Scikit-learn has a transformer called `StandardScaler` that does exactly what we need.\n",
    "\n",
    "Observe that we `fit` the `StandardScaler` with only the training data and then `transform` both the training and test data. This ensures that the `StandardScaler` is not scaling based on information from the test data."
   ]
  },
  {
   "cell_type": "code",
   "execution_count": 13,
   "metadata": {
    "collapsed": false,
    "deletable": true,
    "editable": true
   },
   "outputs": [],
   "source": [
    "scaler = preprocessing.StandardScaler()\n",
    "\n",
    "scaler.fit(X_train)\n",
    "\n",
    "X_train_scaled = scaler.transform(X_train)\n",
    "X_test_scaled = scaler.transform(X_test)"
   ]
  },
  {
   "cell_type": "markdown",
   "metadata": {
    "deletable": true,
    "editable": true
   },
   "source": [
    "We can validate that the mean and variance is scaled as required."
   ]
  },
  {
   "cell_type": "code",
   "execution_count": 14,
   "metadata": {
    "collapsed": false,
    "deletable": true,
    "editable": true
   },
   "outputs": [
    {
     "data": {
      "text/html": [
       "<div>\n",
       "<style>\n",
       "    .dataframe thead tr:only-child th {\n",
       "        text-align: right;\n",
       "    }\n",
       "\n",
       "    .dataframe thead th {\n",
       "        text-align: left;\n",
       "    }\n",
       "\n",
       "    .dataframe tbody tr th {\n",
       "        vertical-align: top;\n",
       "    }\n",
       "</style>\n",
       "<table border=\"1\" class=\"dataframe\">\n",
       "  <thead>\n",
       "    <tr style=\"text-align: right;\">\n",
       "      <th></th>\n",
       "      <th>mean</th>\n",
       "      <th>var</th>\n",
       "      <th>scaled_mean</th>\n",
       "      <th>scaled_var</th>\n",
       "    </tr>\n",
       "  </thead>\n",
       "  <tbody>\n",
       "    <tr>\n",
       "      <th>CRIM</th>\n",
       "      <td>3.545257</td>\n",
       "      <td>67.940424</td>\n",
       "      <td>-2.858000e-17</td>\n",
       "      <td>1.0</td>\n",
       "    </tr>\n",
       "    <tr>\n",
       "      <th>ZN</th>\n",
       "      <td>12.155941</td>\n",
       "      <td>593.014084</td>\n",
       "      <td>-1.813731e-17</td>\n",
       "      <td>1.0</td>\n",
       "    </tr>\n",
       "    <tr>\n",
       "      <th>INS</th>\n",
       "      <td>11.041535</td>\n",
       "      <td>47.996129</td>\n",
       "      <td>1.076147e-15</td>\n",
       "      <td>1.0</td>\n",
       "    </tr>\n",
       "    <tr>\n",
       "      <th>CHAS</th>\n",
       "      <td>0.071782</td>\n",
       "      <td>0.066795</td>\n",
       "      <td>1.662586e-16</td>\n",
       "      <td>1.0</td>\n",
       "    </tr>\n",
       "    <tr>\n",
       "      <th>NOX</th>\n",
       "      <td>0.552421</td>\n",
       "      <td>0.013305</td>\n",
       "      <td>-1.868692e-15</td>\n",
       "      <td>1.0</td>\n",
       "    </tr>\n",
       "    <tr>\n",
       "      <th>RM</th>\n",
       "      <td>6.283183</td>\n",
       "      <td>0.450110</td>\n",
       "      <td>-8.133758e-15</td>\n",
       "      <td>1.0</td>\n",
       "    </tr>\n",
       "    <tr>\n",
       "      <th>AGE</th>\n",
       "      <td>68.626980</td>\n",
       "      <td>781.401975</td>\n",
       "      <td>-7.496753e-16</td>\n",
       "      <td>1.0</td>\n",
       "    </tr>\n",
       "    <tr>\n",
       "      <th>DIS</th>\n",
       "      <td>3.860926</td>\n",
       "      <td>4.603680</td>\n",
       "      <td>1.472969e-16</td>\n",
       "      <td>1.0</td>\n",
       "    </tr>\n",
       "    <tr>\n",
       "      <th>RAD</th>\n",
       "      <td>9.579208</td>\n",
       "      <td>76.194703</td>\n",
       "      <td>-1.676327e-17</td>\n",
       "      <td>1.0</td>\n",
       "    </tr>\n",
       "    <tr>\n",
       "      <th>TAX</th>\n",
       "      <td>410.138614</td>\n",
       "      <td>28593.960887</td>\n",
       "      <td>-1.127399e-16</td>\n",
       "      <td>1.0</td>\n",
       "    </tr>\n",
       "    <tr>\n",
       "      <th>PTRATIO</th>\n",
       "      <td>18.517574</td>\n",
       "      <td>4.538226</td>\n",
       "      <td>2.656126e-14</td>\n",
       "      <td>1.0</td>\n",
       "    </tr>\n",
       "    <tr>\n",
       "      <th>B</th>\n",
       "      <td>356.180718</td>\n",
       "      <td>8611.728498</td>\n",
       "      <td>5.840762e-15</td>\n",
       "      <td>1.0</td>\n",
       "    </tr>\n",
       "    <tr>\n",
       "      <th>LSTAT</th>\n",
       "      <td>12.577748</td>\n",
       "      <td>47.371668</td>\n",
       "      <td>1.360642e-15</td>\n",
       "      <td>1.0</td>\n",
       "    </tr>\n",
       "  </tbody>\n",
       "</table>\n",
       "</div>"
      ],
      "text/plain": [
       "               mean           var   scaled_mean  scaled_var\n",
       "CRIM       3.545257     67.940424 -2.858000e-17         1.0\n",
       "ZN        12.155941    593.014084 -1.813731e-17         1.0\n",
       "INS       11.041535     47.996129  1.076147e-15         1.0\n",
       "CHAS       0.071782      0.066795  1.662586e-16         1.0\n",
       "NOX        0.552421      0.013305 -1.868692e-15         1.0\n",
       "RM         6.283183      0.450110 -8.133758e-15         1.0\n",
       "AGE       68.626980    781.401975 -7.496753e-16         1.0\n",
       "DIS        3.860926      4.603680  1.472969e-16         1.0\n",
       "RAD        9.579208     76.194703 -1.676327e-17         1.0\n",
       "TAX      410.138614  28593.960887 -1.127399e-16         1.0\n",
       "PTRATIO   18.517574      4.538226  2.656126e-14         1.0\n",
       "B        356.180718   8611.728498  5.840762e-15         1.0\n",
       "LSTAT     12.577748     47.371668  1.360642e-15         1.0"
      ]
     },
     "execution_count": 14,
     "metadata": {},
     "output_type": "execute_result"
    }
   ],
   "source": [
    "train_means = X_train.mean(axis=0).to_frame('mean')\n",
    "\n",
    "train_means['var'] = X_train.var(axis=0)\n",
    "train_means['scaled_mean'] = X_train_scaled.mean(axis=0)\n",
    "train_means['scaled_var'] = X_train_scaled.var(axis=0)\n",
    "\n",
    "train_means"
   ]
  },
  {
   "cell_type": "markdown",
   "metadata": {
    "deletable": true,
    "editable": true
   },
   "source": [
    "The test data statistics look similar but observe the `scaled_mean` values are small but not equal to zero. This is expected because the `StandardScaler` was fit with only the training data."
   ]
  },
  {
   "cell_type": "code",
   "execution_count": 15,
   "metadata": {
    "collapsed": false,
    "deletable": true,
    "editable": true
   },
   "outputs": [
    {
     "data": {
      "text/html": [
       "<div>\n",
       "<style>\n",
       "    .dataframe thead tr:only-child th {\n",
       "        text-align: right;\n",
       "    }\n",
       "\n",
       "    .dataframe thead th {\n",
       "        text-align: left;\n",
       "    }\n",
       "\n",
       "    .dataframe tbody tr th {\n",
       "        vertical-align: top;\n",
       "    }\n",
       "</style>\n",
       "<table border=\"1\" class=\"dataframe\">\n",
       "  <thead>\n",
       "    <tr style=\"text-align: right;\">\n",
       "      <th></th>\n",
       "      <th>mean</th>\n",
       "      <th>var</th>\n",
       "      <th>scaled_mean</th>\n",
       "      <th>scaled_var</th>\n",
       "    </tr>\n",
       "  </thead>\n",
       "  <tbody>\n",
       "    <tr>\n",
       "      <th>CRIM</th>\n",
       "      <td>3.883911</td>\n",
       "      <td>98.751396</td>\n",
       "      <td>0.041137</td>\n",
       "      <td>1.442821</td>\n",
       "    </tr>\n",
       "    <tr>\n",
       "      <th>ZN</th>\n",
       "      <td>8.225490</td>\n",
       "      <td>341.042710</td>\n",
       "      <td>-0.161602</td>\n",
       "      <td>0.570875</td>\n",
       "    </tr>\n",
       "    <tr>\n",
       "      <th>INS</th>\n",
       "      <td>11.514020</td>\n",
       "      <td>43.632902</td>\n",
       "      <td>0.068285</td>\n",
       "      <td>0.902413</td>\n",
       "    </tr>\n",
       "    <tr>\n",
       "      <th>CHAS</th>\n",
       "      <td>0.058824</td>\n",
       "      <td>0.055911</td>\n",
       "      <td>-0.050203</td>\n",
       "      <td>0.830913</td>\n",
       "    </tr>\n",
       "    <tr>\n",
       "      <th>NOX</th>\n",
       "      <td>0.563704</td>\n",
       "      <td>0.013946</td>\n",
       "      <td>0.097941</td>\n",
       "      <td>1.040438</td>\n",
       "    </tr>\n",
       "    <tr>\n",
       "      <th>RM</th>\n",
       "      <td>6.290382</td>\n",
       "      <td>0.672329</td>\n",
       "      <td>0.010744</td>\n",
       "      <td>1.482725</td>\n",
       "    </tr>\n",
       "    <tr>\n",
       "      <th>AGE</th>\n",
       "      <td>68.368627</td>\n",
       "      <td>843.866927</td>\n",
       "      <td>-0.009254</td>\n",
       "      <td>1.072005</td>\n",
       "    </tr>\n",
       "    <tr>\n",
       "      <th>DIS</th>\n",
       "      <td>3.534092</td>\n",
       "      <td>3.714807</td>\n",
       "      <td>-0.152515</td>\n",
       "      <td>0.800993</td>\n",
       "    </tr>\n",
       "    <tr>\n",
       "      <th>RAD</th>\n",
       "      <td>9.431373</td>\n",
       "      <td>75.039798</td>\n",
       "      <td>-0.016957</td>\n",
       "      <td>0.977607</td>\n",
       "    </tr>\n",
       "    <tr>\n",
       "      <th>TAX</th>\n",
       "      <td>400.705882</td>\n",
       "      <td>27859.318579</td>\n",
       "      <td>-0.055852</td>\n",
       "      <td>0.967150</td>\n",
       "    </tr>\n",
       "    <tr>\n",
       "      <th>PTRATIO</th>\n",
       "      <td>18.209804</td>\n",
       "      <td>5.250596</td>\n",
       "      <td>-0.144651</td>\n",
       "      <td>1.148471</td>\n",
       "    </tr>\n",
       "    <tr>\n",
       "      <th>B</th>\n",
       "      <td>358.627941</td>\n",
       "      <td>7307.282963</td>\n",
       "      <td>0.026404</td>\n",
       "      <td>0.842293</td>\n",
       "    </tr>\n",
       "    <tr>\n",
       "      <th>LSTAT</th>\n",
       "      <td>12.951373</td>\n",
       "      <td>65.843592</td>\n",
       "      <td>0.054352</td>\n",
       "      <td>1.379724</td>\n",
       "    </tr>\n",
       "  </tbody>\n",
       "</table>\n",
       "</div>"
      ],
      "text/plain": [
       "               mean           var  scaled_mean  scaled_var\n",
       "CRIM       3.883911     98.751396     0.041137    1.442821\n",
       "ZN         8.225490    341.042710    -0.161602    0.570875\n",
       "INS       11.514020     43.632902     0.068285    0.902413\n",
       "CHAS       0.058824      0.055911    -0.050203    0.830913\n",
       "NOX        0.563704      0.013946     0.097941    1.040438\n",
       "RM         6.290382      0.672329     0.010744    1.482725\n",
       "AGE       68.368627    843.866927    -0.009254    1.072005\n",
       "DIS        3.534092      3.714807    -0.152515    0.800993\n",
       "RAD        9.431373     75.039798    -0.016957    0.977607\n",
       "TAX      400.705882  27859.318579    -0.055852    0.967150\n",
       "PTRATIO   18.209804      5.250596    -0.144651    1.148471\n",
       "B        358.627941   7307.282963     0.026404    0.842293\n",
       "LSTAT     12.951373     65.843592     0.054352    1.379724"
      ]
     },
     "execution_count": 15,
     "metadata": {},
     "output_type": "execute_result"
    }
   ],
   "source": [
    "test_means = X_test.mean(axis=0).to_frame('mean')\n",
    "test_means['var'] = X_test.var(axis=0)\n",
    "test_means['scaled_mean'] = X_test_scaled.mean(axis=0)\n",
    "test_means['scaled_var'] = X_test_scaled.var(axis=0)\n",
    "\n",
    "test_means"
   ]
  },
  {
   "cell_type": "markdown",
   "metadata": {
    "deletable": true,
    "editable": true
   },
   "source": [
    "### Fit the model to the training data\n",
    "\n",
    "Now that our data is ready, create a scikit-learn LinearRegression model and fit the model to the training data."
   ]
  },
  {
   "cell_type": "code",
   "execution_count": 16,
   "metadata": {
    "collapsed": false,
    "deletable": true,
    "editable": true
   },
   "outputs": [
    {
     "data": {
      "text/plain": [
       "LinearRegression(copy_X=True, fit_intercept=True, n_jobs=1, normalize=False)"
      ]
     },
     "execution_count": 16,
     "metadata": {},
     "output_type": "execute_result"
    }
   ],
   "source": [
    "linreg = linear_model.LinearRegression()\n",
    "\n",
    "linreg.fit(X_train_scaled, y_train)"
   ]
  },
  {
   "cell_type": "markdown",
   "metadata": {
    "deletable": true,
    "editable": true
   },
   "source": [
    "### Use the fitted model to make predictions with the test data\n",
    "\n",
    "Feed in the test data to make out \"out-of-sample\" predictions."
   ]
  },
  {
   "cell_type": "code",
   "execution_count": 17,
   "metadata": {
    "collapsed": false,
    "deletable": true,
    "editable": true
   },
   "outputs": [
    {
     "data": {
      "text/plain": [
       "array([ 34.78436041,  14.8454268 ,  32.47128582,  12.02821957,\n",
       "        28.97045519,  34.73040303,  34.98995751,  24.09408901,\n",
       "        13.04700058,  31.61935189,  14.78192174,  21.73020015,\n",
       "        20.17423679,  24.0753403 ,  21.80826074,   7.55305913,\n",
       "        24.7090585 ,  27.27418925,  20.80308155,  28.07195731,\n",
       "        19.04765403,  20.41542722,  23.01685619,   1.05102108,\n",
       "         3.59704428,  26.55434757,  12.15793671,  14.11952867,\n",
       "        24.74773028,  13.21310585,  25.34288693,  21.03033461,\n",
       "        15.7080702 ,  32.52274108,  24.38345746,  14.23656587,\n",
       "        12.89842781,  28.37791477,  16.36083925,  22.49635966,\n",
       "        27.09039692,  22.53189289,  22.68038358,  37.16925792,\n",
       "        24.0828249 ,  24.63216913,  33.39164732,  28.04602707,\n",
       "        13.55541287,  14.42033021,  31.71751083,   8.69845972,\n",
       "        27.42343332,  27.44382387,  34.75430673,  34.70826091,\n",
       "        24.91024973,  21.38070544,  15.46368491,  31.92786911,\n",
       "         3.78636556,  36.20185073,  25.24856913,  20.52984189,\n",
       "        13.53762139,  23.82529887,  12.55063861,  23.3363752 ,\n",
       "         7.44248216,  18.89833263,  10.75299368,  25.90207798,\n",
       "         5.24494766,  23.8434971 ,  37.26849806,  20.04132725,\n",
       "        22.29951586,  15.68658198,  20.731511  ,  39.17529294,\n",
       "        23.34348559,  20.77873375,  16.63670667,  18.99852483,\n",
       "        18.44001864,   6.18885298,  26.38032431,  32.42095705,\n",
       "        17.22609256,  29.80094489,  15.38759104,  27.3317577 ,\n",
       "        35.36459862,  36.0459939 ,  24.42518252,  25.41174083,\n",
       "        17.8785705 ,  20.30781556,  21.27541945,  19.14883751,\n",
       "        26.78621921,   9.38517281])"
      ]
     },
     "execution_count": 17,
     "metadata": {},
     "output_type": "execute_result"
    }
   ],
   "source": [
    "linreg.predict(X_test_scaled)"
   ]
  },
  {
   "cell_type": "markdown",
   "metadata": {
    "deletable": true,
    "editable": true
   },
   "source": [
    "### Model Parameters\n",
    "\n",
    "What are the model parameters?"
   ]
  },
  {
   "cell_type": "code",
   "execution_count": 18,
   "metadata": {
    "collapsed": false,
    "deletable": true,
    "editable": true
   },
   "outputs": [
    {
     "data": {
      "text/plain": [
       "array([-0.90578626,  1.44459982, -0.0102243 ,  0.73843298, -2.29574112,\n",
       "        2.04727294, -0.20087983, -3.43730022,  2.65269259, -2.00543748,\n",
       "       -1.95300133,  0.53634745, -3.66140211])"
      ]
     },
     "execution_count": 18,
     "metadata": {},
     "output_type": "execute_result"
    }
   ],
   "source": [
    "linreg.coef_"
   ]
  },
  {
   "cell_type": "code",
   "execution_count": 19,
   "metadata": {
    "collapsed": false,
    "deletable": true,
    "editable": true
   },
   "outputs": [
    {
     "data": {
      "text/plain": [
       "21.8316831683169"
      ]
     },
     "execution_count": 19,
     "metadata": {},
     "output_type": "execute_result"
    }
   ],
   "source": [
    "linreg.intercept_"
   ]
  },
  {
   "cell_type": "markdown",
   "metadata": {
    "deletable": true,
    "editable": true
   },
   "source": [
    "What do those numbers mean?\n",
    "\n",
    "They are parameters in the following equation. This equation defines the model's linear relationship between the the data attributes and the cost of homes in Boston."
   ]
  },
  {
   "cell_type": "code",
   "execution_count": 20,
   "metadata": {
    "collapsed": false,
    "deletable": true,
    "editable": true
   },
   "outputs": [
    {
     "name": "stdout",
     "output_type": "stream",
     "text": [
      "prediction = 21.8316831683 +\n",
      "-0.9057862638 * CRIM +\n",
      "1.44459981656 * ZN +\n",
      "-0.0102242970951 * INS +\n",
      "0.738432978975 * CHAS +\n",
      "-2.29574111565 * NOX +\n",
      "2.04727294035 * RM +\n",
      "-0.200879825436 * AGE +\n",
      "-3.43730021632 * DIS +\n",
      "2.65269259169 * RAD +\n",
      "-2.00543747712 * TAX +\n",
      "-1.95300132952 * PTRATIO +\n",
      "0.536347446995 * B +\n",
      "-3.661402107 * LSTAT\n"
     ]
    }
   ],
   "source": [
    "print (\"prediction = \" +\n",
    "       \"{0} +\\n\".format(linreg.intercept_) +\n",
    "       \" +\\n\".join([\"{1} * {0}\".format(n, f) for n, f in zip(names, linreg.coef_)]))"
   ]
  },
  {
   "cell_type": "markdown",
   "metadata": {
    "deletable": true,
    "editable": true
   },
   "source": [
    "When the model is making predictions, it throws the test data in that equation and calculates the predicted value."
   ]
  },
  {
   "cell_type": "markdown",
   "metadata": {
    "deletable": true,
    "editable": true
   },
   "source": [
    "### Model Error Measurements\n",
    "\n",
    "This is the $R^2$ of the fitted model on the training data.\n",
    "\n",
    "This number can be compared to other models on the same dataset."
   ]
  },
  {
   "cell_type": "code",
   "execution_count": 21,
   "metadata": {
    "collapsed": false,
    "deletable": true,
    "editable": true
   },
   "outputs": [
    {
     "data": {
      "text/plain": [
       "0.74109870921018106"
      ]
     },
     "execution_count": 21,
     "metadata": {},
     "output_type": "execute_result"
    }
   ],
   "source": [
    "linreg.score(X_train_scaled, y_train)"
   ]
  },
  {
   "cell_type": "markdown",
   "metadata": {
    "deletable": true,
    "editable": true
   },
   "source": [
    "And the $R^2$ of the fitted model on the test data."
   ]
  },
  {
   "cell_type": "code",
   "execution_count": 22,
   "metadata": {
    "collapsed": false,
    "deletable": true,
    "editable": true
   },
   "outputs": [
    {
     "data": {
      "text/plain": [
       "0.71169481987713534"
      ]
     },
     "execution_count": 22,
     "metadata": {},
     "output_type": "execute_result"
    }
   ],
   "source": [
    "linreg.score(X_test_scaled, y_test)"
   ]
  },
  {
   "cell_type": "markdown",
   "metadata": {
    "deletable": true,
    "editable": true
   },
   "source": [
    "# Regularization\n",
    "\n",
    "Linear Regression results can be improved with Regularization techniques.\n",
    "\n",
    "Regularization adds a \"cost\" to the optimization, penalizing larger coefficient values. This can help combat overfitting."
   ]
  },
  {
   "cell_type": "markdown",
   "metadata": {
    "deletable": true,
    "editable": true
   },
   "source": [
    "## Ridge Regression\n",
    "\n",
    "Ridge regression adds a penalty to the Linear Regression optimization that is proportional to the sum of the squared parameter values, like this:\n",
    "\n",
    "$$- \\log(L(\\beta)) \\sim \\| y - X \\beta \\|^2 + \\alpha \\| \\beta \\|^2\\,.$$\n",
    "\n",
    "This reduces the occurrence of extreme positive or negative values sometimes this improves out-of-sample model performance."
   ]
  },
  {
   "cell_type": "markdown",
   "metadata": {
    "deletable": true,
    "editable": true
   },
   "source": [
    "### Fit the model to the training data\n",
    "\n",
    "Again, fit model with the training data."
   ]
  },
  {
   "cell_type": "code",
   "execution_count": 23,
   "metadata": {
    "collapsed": false,
    "deletable": true,
    "editable": true
   },
   "outputs": [
    {
     "data": {
      "text/plain": [
       "Ridge(alpha=5.0, copy_X=True, fit_intercept=True, max_iter=None,\n",
       "   normalize=False, random_state=None, solver='auto', tol=0.001)"
      ]
     },
     "execution_count": 23,
     "metadata": {},
     "output_type": "execute_result"
    }
   ],
   "source": [
    "from sklearn.linear_model import Ridge\n",
    "\n",
    "ridge = Ridge(alpha=5.0)\n",
    "\n",
    "ridge.fit(X_train_scaled, y_train)"
   ]
  },
  {
   "cell_type": "markdown",
   "metadata": {
    "deletable": true,
    "editable": true
   },
   "source": [
    "### Use the fitted model to make predictions with the test data"
   ]
  },
  {
   "cell_type": "code",
   "execution_count": 24,
   "metadata": {
    "collapsed": false,
    "deletable": true,
    "editable": true
   },
   "outputs": [
    {
     "data": {
      "text/plain": [
       "array([ 34.62803114,  15.02911054,  32.38156763,  12.17886263,\n",
       "        28.58400467,  34.39001892,  34.92805169,  24.18227192,\n",
       "        13.22085714,  31.34279057,  14.96279287,  21.71712908,\n",
       "        20.14578389,  23.77587353,  21.68996493,   7.88748596,\n",
       "        24.54851158,  27.35220359,  20.84805708,  28.04137715,\n",
       "        19.14767112,  20.49782306,  23.05645292,   1.02320722,\n",
       "         3.81060653,  26.70213716,  12.20685953,  14.32379903,\n",
       "        24.57557317,  13.20503589,  25.44008109,  20.61822305,\n",
       "        15.69457516,  32.29886483,  24.45798973,  14.18936955,\n",
       "        13.04478656,  28.25577714,  16.28212705,  22.40740082,\n",
       "        27.06522841,  22.60047473,  22.51225323,  36.92969349,\n",
       "        23.9256639 ,  24.55933305,  33.09072653,  28.43334639,\n",
       "        13.47315918,  14.51453711,  31.60750106,   9.04479056,\n",
       "        27.53587148,  27.38185153,  34.68077768,  34.56549675,\n",
       "        24.89516876,  21.51113362,  15.38013261,  31.73371869,\n",
       "         3.77114696,  36.06516125,  25.12250953,  20.6589327 ,\n",
       "        13.84022243,  23.80213757,  13.05126318,  23.35343202,\n",
       "         7.50187542,  18.86385983,  11.10469109,  25.83519708,\n",
       "         5.34813026,  23.80804269,  37.17705436,  20.1039349 ,\n",
       "        22.14168211,  15.39066968,  20.81157363,  39.20300958,\n",
       "        23.20721556,  20.56801169,  16.7053641 ,  18.98166834,\n",
       "        18.59788704,   6.20116655,  26.36858465,  32.4459814 ,\n",
       "        16.96892201,  29.73567712,  15.24915761,  27.25849008,\n",
       "        35.25107039,  35.78687539,  24.4401236 ,  25.53622718,\n",
       "        17.92698049,  20.44520706,  21.29423966,  19.00728787,\n",
       "        26.69350116,   9.48301135])"
      ]
     },
     "execution_count": 24,
     "metadata": {},
     "output_type": "execute_result"
    }
   ],
   "source": [
    "ridge.predict(X_test_scaled)"
   ]
  },
  {
   "cell_type": "markdown",
   "metadata": {
    "deletable": true,
    "editable": true
   },
   "source": [
    "### Model Parameters\n",
    "\n",
    "What are the model parameters?"
   ]
  },
  {
   "cell_type": "code",
   "execution_count": 25,
   "metadata": {
    "collapsed": false,
    "deletable": true,
    "editable": true
   },
   "outputs": [
    {
     "data": {
      "text/plain": [
       "array([-0.85009453,  1.35258298, -0.12162462,  0.75185949, -2.11244321,\n",
       "        2.10977992, -0.2271069 , -3.24635298,  2.2955956 , -1.69432171,\n",
       "       -1.90439105,  0.55092608, -3.57874546])"
      ]
     },
     "execution_count": 25,
     "metadata": {},
     "output_type": "execute_result"
    }
   ],
   "source": [
    "ridge.coef_"
   ]
  },
  {
   "cell_type": "markdown",
   "metadata": {
    "deletable": true,
    "editable": true
   },
   "source": [
    "Observe that the sum of the squared model parameters is smaller than before."
   ]
  },
  {
   "cell_type": "code",
   "execution_count": 26,
   "metadata": {
    "collapsed": false,
    "deletable": true,
    "editable": true
   },
   "outputs": [
    {
     "name": "stdout",
     "output_type": "stream",
     "text": [
      "53.3361500569\n",
      "47.5143285859\n"
     ]
    }
   ],
   "source": [
    "print sum(linreg.coef_ ** 2)\n",
    "print sum(ridge.coef_ ** 2)"
   ]
  },
  {
   "cell_type": "markdown",
   "metadata": {
    "deletable": true,
    "editable": true
   },
   "source": [
    "### Model Error Measurements\n",
    "\n",
    "The $R^2$ of the fitted model on the training data:"
   ]
  },
  {
   "cell_type": "code",
   "execution_count": 27,
   "metadata": {
    "collapsed": false,
    "deletable": true,
    "editable": true
   },
   "outputs": [
    {
     "data": {
      "text/plain": [
       "0.74065405307740972"
      ]
     },
     "execution_count": 27,
     "metadata": {},
     "output_type": "execute_result"
    }
   ],
   "source": [
    "ridge.score(X_train_scaled, y_train)"
   ]
  },
  {
   "cell_type": "markdown",
   "metadata": {
    "deletable": true,
    "editable": true
   },
   "source": [
    "And the out-of-sample test data. This is marginally better than the first linear regression model."
   ]
  },
  {
   "cell_type": "code",
   "execution_count": 28,
   "metadata": {
    "collapsed": false,
    "deletable": true,
    "editable": true
   },
   "outputs": [
    {
     "data": {
      "text/plain": [
       "0.71185689556516274"
      ]
     },
     "execution_count": 28,
     "metadata": {},
     "output_type": "execute_result"
    }
   ],
   "source": [
    "ridge.score(X_test_scaled, y_test)"
   ]
  },
  {
   "cell_type": "markdown",
   "metadata": {
    "deletable": true,
    "editable": true
   },
   "source": [
    "## RidgeCV\n",
    "\n",
    "`RidgeCV()` is just like `Ridge()` but with cross-validation built in."
   ]
  },
  {
   "cell_type": "markdown",
   "metadata": {
    "deletable": true,
    "editable": true
   },
   "source": [
    "### Fit the model to the training data"
   ]
  },
  {
   "cell_type": "code",
   "execution_count": 29,
   "metadata": {
    "collapsed": false,
    "deletable": true,
    "editable": true
   },
   "outputs": [
    {
     "data": {
      "text/plain": [
       "RidgeCV(alphas=(0.01, 0.05, 0.1, 0.5, 1.0, 2.0, 3.5, 5.0, 7.5, 10.0), cv=None,\n",
       "    fit_intercept=True, gcv_mode=None, normalize=False, scoring=None,\n",
       "    store_cv_values=False)"
      ]
     },
     "execution_count": 29,
     "metadata": {},
     "output_type": "execute_result"
    }
   ],
   "source": [
    "from sklearn.linear_model import RidgeCV\n",
    "\n",
    "ridgecv = RidgeCV(alphas=(0.01, 0.05, 0.1, 0.5, 1.0, 2.0, 3.5, 5.0, 7.5, 10.0))\n",
    "\n",
    "ridgecv.fit(X_train_scaled, y_train)"
   ]
  },
  {
   "cell_type": "markdown",
   "metadata": {
    "deletable": true,
    "editable": true
   },
   "source": [
    "### Use the fitted model to make predictions with the test data"
   ]
  },
  {
   "cell_type": "code",
   "execution_count": 30,
   "metadata": {
    "collapsed": false,
    "deletable": true,
    "editable": true
   },
   "outputs": [
    {
     "data": {
      "text/plain": [
       "array([ 34.67357198,  14.97679278,  32.41098959,  12.13547037,\n",
       "        28.69022916,  34.48497775,  34.94667891,  24.15703904,\n",
       "        13.16856898,  31.42338472,  14.91117437,  21.71870734,\n",
       "        20.15156194,  23.86092501,  21.72283814,   7.79148571,\n",
       "        24.59401249,  27.33159319,  20.83821681,  28.05291211,\n",
       "        19.12200979,  20.47309447,  23.04861718,   1.02811196,\n",
       "         3.74914543,  26.66060209,  12.19186794,  14.26562549,\n",
       "        24.62306485,  13.20608431,  25.41658144,  20.72685711,\n",
       "        15.69810695,  32.36266747,  24.43655436,  14.20166161,\n",
       "        13.0038929 ,  28.2917225 ,  16.30348964,  22.43106346,\n",
       "        27.07043968,  22.58204316,  22.56015866,  36.99664009,\n",
       "        23.96801723,  24.57890067,  33.17519165,  28.32400717,\n",
       "        13.49507905,  14.48854154,  31.63952964,   8.94568551,\n",
       "        27.50443521,  27.40026087,  34.70382434,  34.60794135,\n",
       "        24.89799774,  21.47538888,  15.40278566,  31.78906304,\n",
       "         3.77324595,  36.10521958,  25.15550028,  20.62029547,\n",
       "        13.75438656,  23.80799584,  12.91478665,  23.34879717,\n",
       "         7.48349523,  18.87348185,  11.00461145,  25.85401268,\n",
       "         5.31738288,  23.81548279,  37.20464933,  20.08917943,\n",
       "        22.18376838,  15.47289504,  20.79116231,  39.19921259,\n",
       "        23.24548039,  20.62599108,  16.68600191,  18.98501503,\n",
       "        18.55430735,   6.1955389 ,  26.37074909,  32.44093494,\n",
       "        17.04083674,  29.75462766,  15.28671991,  27.2769403 ,\n",
       "        35.28464995,  35.86095813,  24.43569037,  25.50127083,\n",
       "        17.91278265,  20.40671849,  21.28909279,  19.04681631,\n",
       "        26.71730869,   9.45439769])"
      ]
     },
     "execution_count": 30,
     "metadata": {},
     "output_type": "execute_result"
    }
   ],
   "source": [
    "ridgecv.predict(X_test_scaled)"
   ]
  },
  {
   "cell_type": "markdown",
   "metadata": {
    "deletable": true,
    "editable": true
   },
   "source": [
    "### Model Parameters\n",
    "\n",
    "What are the model parameters?"
   ]
  },
  {
   "cell_type": "code",
   "execution_count": 31,
   "metadata": {
    "collapsed": false,
    "deletable": true,
    "editable": true
   },
   "outputs": [
    {
     "data": {
      "text/plain": [
       "array([-0.8653624 ,  1.37814493, -0.09236211,  0.74843312, -2.16402598,\n",
       "        2.09266382, -0.21982726, -3.30126566,  2.39172683, -1.77650398,\n",
       "       -1.9180447 ,  0.54688184, -3.60266399])"
      ]
     },
     "execution_count": 31,
     "metadata": {},
     "output_type": "execute_result"
    }
   ],
   "source": [
    "ridgecv.coef_"
   ]
  },
  {
   "cell_type": "markdown",
   "metadata": {
    "deletable": true,
    "editable": true
   },
   "source": [
    "And the `alpha` value?"
   ]
  },
  {
   "cell_type": "code",
   "execution_count": 32,
   "metadata": {
    "collapsed": false,
    "deletable": true,
    "editable": true
   },
   "outputs": [
    {
     "data": {
      "text/plain": [
       "3.5"
      ]
     },
     "execution_count": 32,
     "metadata": {},
     "output_type": "execute_result"
    }
   ],
   "source": [
    "ridgecv.alpha_"
   ]
  },
  {
   "cell_type": "markdown",
   "metadata": {
    "deletable": true,
    "editable": true
   },
   "source": [
    "### Model Error Measurements\n",
    "\n",
    "The $R^2$ of the fitted model on the training data:"
   ]
  },
  {
   "cell_type": "code",
   "execution_count": 33,
   "metadata": {
    "collapsed": false,
    "deletable": true,
    "editable": true
   },
   "outputs": [
    {
     "data": {
      "text/plain": [
       "0.7408662014121532"
      ]
     },
     "execution_count": 33,
     "metadata": {},
     "output_type": "execute_result"
    }
   ],
   "source": [
    "ridgecv.score(X_train_scaled, y_train)"
   ]
  },
  {
   "cell_type": "markdown",
   "metadata": {
    "deletable": true,
    "editable": true
   },
   "source": [
    "And the out-of-sample test data. This is marginally better than the first linear regression model."
   ]
  },
  {
   "cell_type": "code",
   "execution_count": 34,
   "metadata": {
    "collapsed": false,
    "deletable": true,
    "editable": true
   },
   "outputs": [
    {
     "data": {
      "text/plain": [
       "0.71187676185499615"
      ]
     },
     "execution_count": 34,
     "metadata": {},
     "output_type": "execute_result"
    }
   ],
   "source": [
    "ridgecv.score(X_test_scaled, y_test)"
   ]
  },
  {
   "cell_type": "markdown",
   "metadata": {
    "deletable": true,
    "editable": true
   },
   "source": [
    "## Lasso Regularization\n",
    "\n",
    "Lasso is like ridge regression but has the ability to automatically select features.  The objective function to minimize is\n",
    "\n",
    "$$ \\frac{1}{2 n} \\| y - X^T \\beta \\|^2 + \\alpha \\|\\beta\\|_1 $$\n",
    "\n",
    "where $\\|\\beta\\|_1 = \\sum_i |\\beta_i| $ is the $L^1$ norm (sum of the absolute values) of $\\beta$ and $n$ is the number of samples. Lasso has a feature selection property where many weights on features are zero (i.e. those features are not selected)."
   ]
  },
  {
   "cell_type": "markdown",
   "metadata": {
    "deletable": true,
    "editable": true
   },
   "source": [
    "### Fit the model to the training data"
   ]
  },
  {
   "cell_type": "code",
   "execution_count": 35,
   "metadata": {
    "collapsed": false,
    "deletable": true,
    "editable": true
   },
   "outputs": [
    {
     "data": {
      "text/plain": [
       "Lasso(alpha=0.2, copy_X=True, fit_intercept=True, max_iter=1000,\n",
       "   normalize=False, positive=False, precompute=False, random_state=None,\n",
       "   selection='cyclic', tol=0.0001, warm_start=False)"
      ]
     },
     "execution_count": 35,
     "metadata": {},
     "output_type": "execute_result"
    }
   ],
   "source": [
    "from sklearn.linear_model import Lasso\n",
    "\n",
    "lasso = Lasso(alpha=0.2)\n",
    "\n",
    "lasso.fit(X_train_scaled, y_train)"
   ]
  },
  {
   "cell_type": "markdown",
   "metadata": {
    "deletable": true,
    "editable": true
   },
   "source": [
    "### Use the fitted model to make predictions with the test data"
   ]
  },
  {
   "cell_type": "code",
   "execution_count": 36,
   "metadata": {
    "collapsed": false,
    "deletable": true,
    "editable": true
   },
   "outputs": [
    {
     "data": {
      "text/plain": [
       "array([ 33.57971332,  15.99473962,  31.67058792,  12.6744583 ,\n",
       "        26.95070312,  32.30336468,  34.77558235,  24.55288296,\n",
       "        13.95577824,  30.00558792,  16.06392183,  21.28672616,\n",
       "        19.59730668,  22.69235234,  22.10880808,   8.75856889,\n",
       "        25.23026111,  27.65589462,  21.12663385,  27.95123026,\n",
       "        19.49310274,  20.38192966,  23.50824303,  -0.49030542,\n",
       "         4.29338178,  27.61086468,  11.66927805,  15.45577602,\n",
       "        23.40602214,  13.66579629,  26.10918667,  19.38300679,\n",
       "        16.34086157,  31.36684269,  25.12827044,  13.75252541,\n",
       "        14.08838179,  27.70655573,  15.85679992,  21.67518708,\n",
       "        27.00332595,  23.17831864,  21.24633568,  35.86443594,\n",
       "        22.59476081,  24.13660315,  31.65796846,  30.48960952,\n",
       "        12.52356453,  15.61232027,  30.94229758,  10.10980582,\n",
       "        28.35683918,  27.78701013,  35.79798027,  35.4087116 ,\n",
       "        24.79009819,  21.26422519,  14.45573135,  30.52415185,\n",
       "         3.04816334,  35.50800156,  24.89894211,  20.99644871,\n",
       "        15.21570809,  23.810071  ,  18.06210901,  23.56647557,\n",
       "         6.78026727,  18.39338457,  12.35582966,  25.3620475 ,\n",
       "         4.89355941,  23.49960724,  36.8480849 ,  20.26439763,\n",
       "        20.92004767,  14.43166372,  20.85987125,  40.14071708,\n",
       "        23.66092679,  19.40706953,  16.90123294,  19.05455873,\n",
       "        18.42244959,   5.30026706,  26.11771326,  32.3451748 ,\n",
       "        16.22427516,  28.47528833,  14.0988715 ,  27.6601278 ,\n",
       "        34.3245056 ,  33.76893953,  24.59314085,  26.10388311,\n",
       "        18.05056076,  20.8862159 ,  21.53660489,  18.02895038,\n",
       "        25.91898507,  10.00135881])"
      ]
     },
     "execution_count": 36,
     "metadata": {},
     "output_type": "execute_result"
    }
   ],
   "source": [
    "lasso.predict(X_test_scaled)"
   ]
  },
  {
   "cell_type": "markdown",
   "metadata": {
    "deletable": true,
    "editable": true
   },
   "source": [
    "### Model Parameters\n",
    "\n",
    "Observe that some of the parameters are zero:"
   ]
  },
  {
   "cell_type": "code",
   "execution_count": 37,
   "metadata": {
    "collapsed": false,
    "deletable": true,
    "editable": true
   },
   "outputs": [
    {
     "data": {
      "text/plain": [
       "array([-0.26813812,  0.75789759, -0.16463754,  0.66288314, -1.38428088,\n",
       "        2.36987668, -0.        , -1.98987172,  0.0682704 , -0.        ,\n",
       "       -1.6854155 ,  0.41280165, -3.68693855])"
      ]
     },
     "execution_count": 37,
     "metadata": {},
     "output_type": "execute_result"
    }
   ],
   "source": [
    "lasso.coef_"
   ]
  },
  {
   "cell_type": "markdown",
   "metadata": {
    "deletable": true,
    "editable": true
   },
   "source": [
    "That means some of the attributes are essentially excluded from the model."
   ]
  },
  {
   "cell_type": "code",
   "execution_count": 38,
   "metadata": {
    "collapsed": false,
    "deletable": true,
    "editable": true
   },
   "outputs": [
    {
     "name": "stdout",
     "output_type": "stream",
     "text": [
      "prediction = 21.8316831683 +\n",
      "-0.268138118185 * CRIM +\n",
      "0.757897586636 * ZN +\n",
      "-0.16463754235 * INS +\n",
      "0.662883137722 * CHAS +\n",
      "-1.384280876 * NOX +\n",
      "2.36987668233 * RM +\n",
      "-0.0 * AGE +\n",
      "-1.98987172173 * DIS +\n",
      "0.0682703953392 * RAD +\n",
      "-0.0 * TAX +\n",
      "-1.68541550085 * PTRATIO +\n",
      "0.412801647903 * B +\n",
      "-3.68693854557 * LSTAT\n"
     ]
    }
   ],
   "source": [
    "print (\"prediction = \" +\n",
    "       \"{0} +\\n\".format(lasso.intercept_) +\n",
    "       \" +\\n\".join([\"{1} * {0}\".format(n, f) for n, f in zip(names, lasso.coef_)]))"
   ]
  },
  {
   "cell_type": "markdown",
   "metadata": {
    "deletable": true,
    "editable": true
   },
   "source": [
    "### Model Error Measurements\n",
    "\n",
    "The $R^2$ of the fitted model on the training data:"
   ]
  },
  {
   "cell_type": "code",
   "execution_count": 39,
   "metadata": {
    "collapsed": false,
    "deletable": true,
    "editable": true
   },
   "outputs": [
    {
     "data": {
      "text/plain": [
       "0.71962150177233086"
      ]
     },
     "execution_count": 39,
     "metadata": {},
     "output_type": "execute_result"
    }
   ],
   "source": [
    "lasso.score(X_train_scaled, y_train)"
   ]
  },
  {
   "cell_type": "markdown",
   "metadata": {
    "deletable": true,
    "editable": true
   },
   "source": [
    "And the test data:"
   ]
  },
  {
   "cell_type": "code",
   "execution_count": 40,
   "metadata": {
    "collapsed": false,
    "deletable": true,
    "editable": true
   },
   "outputs": [
    {
     "data": {
      "text/plain": [
       "0.70706870355266616"
      ]
     },
     "execution_count": 40,
     "metadata": {},
     "output_type": "execute_result"
    }
   ],
   "source": [
    "lasso.score(X_test_scaled, y_test)"
   ]
  },
  {
   "cell_type": "markdown",
   "metadata": {
    "deletable": true,
    "editable": true
   },
   "source": [
    "# Logistic Regression\n",
    "\n",
    "In Logistic Regression, the values of $y$ are categorical ($0$ or $1$) and assumed to be distributed binomially.  We assume that the probability $p(X_{j\\cdot})$ that $y = 1$ is related to $X$ via the logit function:\n",
    "\n",
    "$$ \\mbox{logit }(p(X_{j\\cdot})) = \\log \\frac{p(X_{j\\cdot})}{1-p(X_{j\\cdot})} = X_{ji} \\cdot \\beta_i\\,. $$\n",
    "\n",
    "Notice that the logit function $\\log \\frac{x}{1-x}$ is just the log odds and maps the real numbers $[0,1]$ to $\\mathbb{R}$.\n",
    "\n",
    "Below is a plot of the logit function."
   ]
  },
  {
   "cell_type": "code",
   "execution_count": 41,
   "metadata": {
    "collapsed": false,
    "deletable": true,
    "editable": true
   },
   "outputs": [
    {
     "data": {
      "image/png": "[encoded data removed]",
      "text/plain": [
       "<matplotlib.figure.Figure at 0x7f5da9f287d0>"
      ]
     },
     "metadata": {},
     "output_type": "display_data"
    }
   ],
   "source": [
    "lx = np.linspace(0.001,0.999,100)\n",
    "ly = np.log(lx/(1-lx))\n",
    "plt.plot(lx,ly)\n",
    "plt.xlabel('$p$')\n",
    "plt.ylabel(r'$\\mathrm{logit}(p)$');"
   ]
  },
  {
   "cell_type": "markdown",
   "metadata": {
    "deletable": true,
    "editable": true
   },
   "source": [
    "It may be more clear to invert this to get an expression for $p(X_{j\\cdot})$:\n",
    "\n",
    "$$ p(X_{j\\cdot}) = \\frac{\\exp\\left( X_{ji} \\cdot \\beta_i\\right)}{1 + \\exp\\left( X_{ji} \\cdot \\beta_i\\right)} $$\n",
    "\n",
    "The input can vary over the entire real numbers, but the output is always a valid probability between 0 and 1."
   ]
  },
  {
   "cell_type": "code",
   "execution_count": 42,
   "metadata": {
    "collapsed": false,
    "deletable": true,
    "editable": true
   },
   "outputs": [
    {
     "data": {
      "image/png": "[encoded data removed]",
      "text/plain": [
       "<matplotlib.figure.Figure at 0x7f5da9f56c90>"
      ]
     },
     "metadata": {},
     "output_type": "display_data"
    }
   ],
   "source": [
    "lx = np.linspace(-10, 10)\n",
    "ly = np.exp(lx) / (1 + np.exp(lx))\n",
    "plt.plot(lx, ly)\n",
    "plt.xlabel(r'$X_{ji} \\cdot \\beta_i$')\n",
    "plt.ylabel(r'$P(X_{j\\cdot})$');"
   ]
  },
  {
   "cell_type": "markdown",
   "metadata": {
    "deletable": true,
    "editable": true
   },
   "source": [
    "In the following example, we'll try to predict whether the home price is greater than or less than $25K."
   ]
  },
  {
   "cell_type": "code",
   "execution_count": 43,
   "metadata": {
    "collapsed": true,
    "deletable": true,
    "editable": true
   },
   "outputs": [],
   "source": [
    "y_cat_train = y_train > 25.\n",
    "y_cat_test = y_test > 25."
   ]
  },
  {
   "cell_type": "markdown",
   "metadata": {
    "deletable": true,
    "editable": true
   },
   "source": [
    "### Fit the model to the training data"
   ]
  },
  {
   "cell_type": "code",
   "execution_count": 44,
   "metadata": {
    "collapsed": false,
    "deletable": true,
    "editable": true
   },
   "outputs": [
    {
     "data": {
      "text/plain": [
       "LogisticRegression(C=1.0, class_weight=None, dual=False, fit_intercept=True,\n",
       "          intercept_scaling=1, max_iter=100, multi_class='ovr', n_jobs=1,\n",
       "          penalty='l2', random_state=None, solver='liblinear', tol=0.0001,\n",
       "          verbose=0, warm_start=False)"
      ]
     },
     "execution_count": 44,
     "metadata": {},
     "output_type": "execute_result"
    }
   ],
   "source": [
    "logistic = linear_model.LogisticRegression()\n",
    "\n",
    "logistic.fit(X_train_scaled, y_cat_train)"
   ]
  },
  {
   "cell_type": "markdown",
   "metadata": {
    "deletable": true,
    "editable": true
   },
   "source": [
    "### Use the fitted model to make predictions with the test data\n",
    "\n",
    "Observe the predictions are now True/False values"
   ]
  },
  {
   "cell_type": "code",
   "execution_count": 45,
   "metadata": {
    "collapsed": false,
    "deletable": true,
    "editable": true
   },
   "outputs": [
    {
     "data": {
      "text/plain": [
       "array([ True, False,  True, False, False,  True,  True, False, False,\n",
       "        True, False, False, False, False, False, False, False, False,\n",
       "       False,  True, False, False, False, False, False,  True, False,\n",
       "       False, False, False, False, False, False,  True, False, False,\n",
       "       False,  True, False, False, False, False, False,  True, False,\n",
       "       False,  True,  True, False, False,  True, False,  True,  True,\n",
       "        True,  True, False, False, False,  True, False,  True, False,\n",
       "       False, False, False, False, False, False, False, False, False,\n",
       "       False, False,  True, False, False, False, False,  True, False,\n",
       "       False, False, False, False, False, False,  True, False,  True,\n",
       "       False, False,  True,  True, False, False, False, False, False,\n",
       "       False, False, False], dtype=bool)"
      ]
     },
     "execution_count": 45,
     "metadata": {},
     "output_type": "execute_result"
    }
   ],
   "source": [
    "logistic.predict(X_test_scaled)"
   ]
  },
  {
   "cell_type": "markdown",
   "metadata": {
    "deletable": true,
    "editable": true
   },
   "source": [
    "### Model Parameters"
   ]
  },
  {
   "cell_type": "code",
   "execution_count": 46,
   "metadata": {
    "collapsed": false,
    "deletable": true,
    "editable": true
   },
   "outputs": [
    {
     "data": {
      "text/plain": [
       "array([[ 0.01030827,  0.36643115, -0.68973531,  0.16049919, -0.45529223,\n",
       "         1.11225649,  0.14420648, -0.9609631 ,  1.32510928, -0.75307547,\n",
       "        -0.52953126, -0.03212721, -1.67334051]])"
      ]
     },
     "execution_count": 46,
     "metadata": {},
     "output_type": "execute_result"
    }
   ],
   "source": [
    "logistic.coef_"
   ]
  },
  {
   "cell_type": "markdown",
   "metadata": {
    "deletable": true,
    "editable": true
   },
   "source": [
    "### Model Error Measurements\n",
    "\n",
    "$R^2$ doesn't make sense for logistic regression, so this uses % accuracy instead."
   ]
  },
  {
   "cell_type": "code",
   "execution_count": 47,
   "metadata": {
    "collapsed": false,
    "deletable": true,
    "editable": true
   },
   "outputs": [
    {
     "data": {
      "text/plain": [
       "0.9133663366336634"
      ]
     },
     "execution_count": 47,
     "metadata": {},
     "output_type": "execute_result"
    }
   ],
   "source": [
    "logistic.score(X_train_scaled, y_cat_train)"
   ]
  },
  {
   "cell_type": "code",
   "execution_count": 48,
   "metadata": {
    "collapsed": false,
    "deletable": true,
    "editable": true
   },
   "outputs": [
    {
     "data": {
      "text/plain": [
       "0.94117647058823528"
      ]
     },
     "execution_count": 48,
     "metadata": {},
     "output_type": "execute_result"
    }
   ],
   "source": [
    "logistic.score(X_test_scaled, y_cat_test)"
   ]
  },
  {
   "cell_type": "markdown",
   "metadata": {
    "deletable": true,
    "editable": true
   },
   "source": [
    "## Multiclass classification problems\n",
    "\n",
    "So far we have talked about Two-Class classification in the context of Logistic Regression.  But what if we have more than two classes?  There are generally two strategies to \"bootstrap\" a binary classifier to a multi-class classifier: \n",
    "1. **One-versus-All**: For each class $k=1,\\ldots,K$, build a binary classifier for all points with label $y = k$ versus $y \\neq k$.\n",
    "1. **All-versus-All**: For each class $k \\neq k'$, construct a binary classifier to distinguish between class $k$ and $k'$.\n",
    "\n",
    "[Scikit](http://scikit-learn.org/stable/modules/generated/sklearn.linear_model.LogisticRegression.html) uses One-versus-All for Multi-class Logistic Regression.\n",
    "\n",
    "If $f_k(x)$ is the predictor for class $k$, the probability of class $k$ is just the normalized predictions,\n",
    "\n",
    "$$ p_k = \\frac{f_k(x)}{\\sum_k f_k(x)}$$\n",
    "\n",
    "Or in other words, each prediction divided by the sum of the predictions."
   ]
  },
  {
   "cell_type": "markdown",
   "metadata": {
    "collapsed": true,
    "deletable": true,
    "editable": true
   },
   "source": [
    "### Questions\n",
    "1. How would you assess whether a relationship is actually linear?\n",
    "1. Imagine that when you loaded your data, you unwittingly loaded each row of the data (both $X$ and $y$) twice and performed the same regression.  What is the effect on your estimates $\\beta$?\n",
    "1. Imagine when you loaded your data, you unwittingly loaded each column of the features (just $X$) twice and performed the same regression.  What is the effect on your estimates $\\beta$?\n",
    "1. Everything we've talked about so far involves loading all the data into memory.  What if you have more data than you can fit into memory?"
   ]
  },
  {
   "cell_type": "markdown",
   "metadata": {
    "collapsed": true,
    "deletable": true,
    "editable": true
   },
   "source": [
    "### Exit Tickets\n",
    "1. Enumerate the similarities and differences between linear regression and logistic regression.\n",
    "1. What is the purpose of splitting a dataset into testing and training datasets?\n",
    "1. Why is it important to randomize a dataset before splitting it into test and training datasets?\n",
    "1. What are the benefits of regularization?"
   ]
  },
  {
   "cell_type": "code",
   "execution_count": null,
   "metadata": {
    "collapsed": true,
    "deletable": true,
    "editable": true
   },
   "outputs": [],
   "source": []
  },
  {
   "cell_type": "code",
   "execution_count": null,
   "metadata": {
    "collapsed": true,
    "deletable": true,
    "editable": true
   },
   "outputs": [],
   "source": []
  },
  {
   "cell_type": "code",
   "execution_count": null,
   "metadata": {
    "collapsed": true,
    "deletable": true,
    "editable": true
   },
   "outputs": [],
   "source": []
  },
  {
   "cell_type": "code",
   "execution_count": null,
   "metadata": {
    "collapsed": true,
    "deletable": true,
    "editable": true
   },
   "outputs": [],
   "source": []
  },
  {
   "cell_type": "code",
   "execution_count": null,
   "metadata": {
    "collapsed": true,
    "deletable": true,
    "editable": true
   },
   "outputs": [],
   "source": []
  },
  {
   "cell_type": "code",
   "execution_count": null,
   "metadata": {
    "collapsed": true,
    "deletable": true,
    "editable": true
   },
   "outputs": [],
   "source": []
  },
  {
   "cell_type": "code",
   "execution_count": null,
   "metadata": {
    "collapsed": true,
    "deletable": true,
    "editable": true
   },
   "outputs": [],
   "source": []
  },
  {
   "cell_type": "code",
   "execution_count": null,
   "metadata": {
    "collapsed": true,
    "deletable": true,
    "editable": true
   },
   "outputs": [],
   "source": []
  },
  {
   "cell_type": "code",
   "execution_count": null,
   "metadata": {
    "collapsed": false,
    "deletable": true,
    "editable": true
   },
   "outputs": [],
   "source": []
  },
  {
   "cell_type": "markdown",
   "metadata": {
    "deletable": true,
    "editable": true
   },
   "source": [
    "### Question Answers\n",
    "\n",
    "1. To assess if the relationship is linear, plot the distribution of the residuals as a function of $x$.  If there's a systematic bias, take a look at it and see what's going on.\n",
    "1. Loading rows twice has no effect on $\\beta$ but it does artificially increase your confidence (dividing it by a factor $\\sqrt{2}$)\n",
    "1. The problem becomes degenerate and $\\beta_j$ is now split between $\\beta_{j'}$ and $\\beta_{j''}$ such that $\\beta_j = \\beta_{j'} + \\beta_{j''}$.\n",
    "1. All of these problems can be solved using gradient descent, which only requires a *stream* of data, rather than the entire dataset.  Linear regression (with either $L^2$, Huber penalty, epsilon insensitive) can be solved using `sklearn.linear_model.SGDRegressor` and logistic regression can be solved using `sklearn.linear_model.SGDClassifier`.  These methods implement a `partial_fit` method, which can iteratively updates the coefficients on small chunks of data.  In this case, you are no longer ram constrained, but constrained in the amount of time it takes to read data from disk."
   ]
  },
  {
   "cell_type": "markdown",
   "metadata": {
    "deletable": true,
    "editable": true
   },
   "source": [
    "*Copyright &copy; 2017 The Data Incubator.  All rights reserved.*"
   ]
  }
 ],
 "metadata": {
  "kernelspec": {
   "display_name": "Python 2",
   "language": "python",
   "name": "python2"
  },
  "language_info": {
   "codemirror_mode": {
    "name": "ipython",
    "version": 2
   },
   "file_extension": ".py",
   "mimetype": "text/x-python",
   "name": "python",
   "nbconvert_exporter": "python",
   "pygments_lexer": "ipython2",
   "version": "2.7.13"
  }
 },
 "nbformat": 4,
 "nbformat_minor": 0
}
