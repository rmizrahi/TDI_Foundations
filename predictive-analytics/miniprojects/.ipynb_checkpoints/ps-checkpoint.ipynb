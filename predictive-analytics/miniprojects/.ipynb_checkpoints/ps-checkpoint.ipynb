{
 "cells": [
  {
   "cell_type": "code",
   "execution_count": null,
   "metadata": {
    "collapsed": false,
    "deletable": true,
    "editable": true
   },
   "outputs": [],
   "source": [
    "%matplotlib inline\n",
    "import matplotlib\n",
    "import seaborn as sns\n",
    "matplotlib.rcParams['savefig.dpi'] = 144"
   ]
  },
  {
   "cell_type": "code",
   "execution_count": null,
   "metadata": {
    "collapsed": false,
    "deletable": true,
    "editable": true
   },
   "outputs": [],
   "source": [
    "from grader import score"
   ]
  },
  {
   "cell_type": "code",
   "execution_count": null,
   "metadata": {
    "collapsed": true,
    "deletable": true,
    "editable": true
   },
   "outputs": [],
   "source": [
    "import gzip\n",
    "import ujson as json\n",
    "import pprint\n",
    "\n",
    "import pandas as pd\n",
    "import numpy as np"
   ]
  },
  {
   "cell_type": "markdown",
   "metadata": {
    "deletable": true,
    "editable": true
   },
   "source": [
    "# PS Miniproject\n",
    "\n",
    "## Introduction\n",
    "\n",
    "The objective of this miniproject is to apply probability and statistics to yelp data for businesses primarily in AZ and NV. We will study the data to find meaningful patterns in the ratings and data for these businesses.\n",
    "\n",
    "## Metric\n",
    "\n",
    "Your answers will be assessed based based on how well you apply these standard statistical techniques.\n",
    "\n",
    "## Download and parse the incoming data\n",
    "\n",
    "The data are [here](s3://dataincubator-course/mldata/yelp_train_academic_dataset_business.json.gz).\n",
    "Notice that each row of the file is a json blurb.  You can read it with Python."
   ]
  },
  {
   "cell_type": "code",
   "execution_count": null,
   "metadata": {
    "collapsed": false,
    "deletable": true,
    "editable": true
   },
   "outputs": [
    {
     "name": "stdout",
     "output_type": "stream",
     "text": [
      "download: s3://dataincubator-course/mldata/yelp_train_academic_dataset_business.json.gz to data/yelp_train_academic_dataset_business.json.gz\r\n"
     ]
    }
   ],
   "source": [
    "!mkdir -p data/\n",
    "!aws s3 cp s3://dataincubator-course/mldata/yelp_train_academic_dataset_business.json.gz data"
   ]
  },
  {
   "cell_type": "code",
   "execution_count": null,
   "metadata": {
    "collapsed": false,
    "deletable": true,
    "editable": true
   },
   "outputs": [],
   "source": [
    "with gzip.open(\"data/yelp_train_academic_dataset_business.json.gz\") as fin:\n",
    "    data = ...\n",
    "df = pd.DataFrame(data)"
   ]
  },
  {
   "cell_type": "markdown",
   "metadata": {
    "deletable": true,
    "editable": true
   },
   "source": [
    "## city_z_score\n",
    "Do certain cities have better amenities than others?  We can test this by comparing the average score or rating of businesses in one city vs. the average across all businesses in the dataset.  We will also want to use statistics to help determine if this difference is statistically significant.\n",
    "\n",
    "Compute the z score for average ratings for every city.\n",
    "\n",
    "**Note**:\n",
    "1. Only look at cities with at least five businesses, both for the city averages and when computing the average across all cities.\n",
    "2. Estimate the population's standard deviation and mean.\n",
    "3. Estimate each city's mean and use the population statistics to compute the z score.\n",
    "4. Do not do any cleaning of the city names.  (You will get Las Vegas twice.  That's okay.)"
   ]
  },
  {
   "cell_type": "code",
   "execution_count": null,
   "metadata": {
    "collapsed": true,
    "deletable": true,
    "editable": true
   },
   "outputs": [],
   "source": [
    "city_counts = ...\n",
    "df_popular_cities = ...\n",
    "\n",
    "\n",
    "city_z_score_tuples = ..."
   ]
  },
  {
   "cell_type": "code",
   "execution_count": null,
   "metadata": {
    "collapsed": false,
    "deletable": true,
    "editable": true
   },
   "outputs": [],
   "source": [
    "def city_z_score():\n",
    "    return [('Ahwatukee', 0.047382042549430063)] * 70\n",
    "\n",
    "score('ps__city_z_score', city_z_score)"
   ]
  },
  {
   "cell_type": "markdown",
   "metadata": {
    "deletable": true,
    "editable": true
   },
   "source": [
    "**Question:**\n",
    "1. For computing the standard deviation, you should really be assuming a single degree of freedom.  Why is this not that important in this case?\n",
    "2. Which cities have the most statistically high ratings?  Do you notice a pattern?"
   ]
  },
  {
   "cell_type": "markdown",
   "metadata": {
    "deletable": true,
    "editable": true
   },
   "source": [
    "## good_for_kids_ci\n",
    "Which cities are the most child friendly?  Let's estimate the 2-sigma confidence interval for fraction of venues which are 'Good for Kids' in each city.\n",
    "\n",
    "**Note**:\n",
    "1. Ignore any businesses that don't have the 'Good for Kids' attribute specified. **IMPORTANT**: These are the businesses for which you have no information and they should be filtered out. All businesses that have the 'Good for Kids' attribute, whether that be True or False, should be included.\n",
    "2. Only look at cities with at least five businesses (satisfying the above condition).\n",
    "3. In this simplified schema, a venue is either 'Good for Kids' or not.  What variable are we using to model the underlying distribution?\n",
    "4. Notice that some of have a unrealistic confidence intervals.  Can you apply the \"Rule of Three\" to generate more realistic confidence intervals in this case?"
   ]
  },
  {
   "cell_type": "code",
   "execution_count": null,
   "metadata": {
    "collapsed": true,
    "deletable": true,
    "editable": true
   },
   "outputs": [],
   "source": [
    "\n",
    "good_for_kids_ci_tuples = ..."
   ]
  },
  {
   "cell_type": "code",
   "execution_count": null,
   "metadata": {
    "collapsed": false,
    "deletable": true,
    "editable": true
   },
   "outputs": [],
   "source": [
    "def good_for_kids_ci():\n",
    "    return [('Anthem', (0.85714285714285721, 1.0))] * 51\n",
    "\n",
    "score('ps__good_for_kids_ci', good_for_kids_ci)"
   ]
  },
  {
   "cell_type": "markdown",
   "metadata": {
    "deletable": true,
    "editable": true
   },
   "source": [
    "**Question**: For which cities do you need to apply the Rule of Three?  Is there a data feature that's common amongst them?"
   ]
  },
  {
   "cell_type": "markdown",
   "metadata": {
    "deletable": true,
    "editable": true
   },
   "source": [
    "## category_star_ci\n",
    "Some categories may be more popular than others.  Compute the 3-sigma confidence interval for the average number of reviews for businesses in each category.\n",
    "\n",
    "**Note**:\n",
    "1. Category is actually a list of categories that apply to the business.  Let's just set a business's category to be the first one in this list.  Ignore ones that do not have categories defined.\n",
    "2. Only consider categories that have at least 40 businesses.\n",
    "3. What is a good distribution to assume for the number of reviews?  Use the standard deviation from this distribution rather than the sample deviation in computing the confidence interval."
   ]
  },
  {
   "cell_type": "code",
   "execution_count": null,
   "metadata": {
    "collapsed": true,
    "deletable": true,
    "editable": true
   },
   "outputs": [],
   "source": [
    "\n",
    "category_reviews_ci_tuples = ..."
   ]
  },
  {
   "cell_type": "code",
   "execution_count": null,
   "metadata": {
    "collapsed": false,
    "deletable": true,
    "editable": true
   },
   "outputs": [],
   "source": [
    "def category_reviews_ci():\n",
    "    return [('Active Life', (16.788552393175845, 17.431729675326505))] * 119\n",
    "\n",
    "score('ps__category_reviews_ci', category_reviews_ci)"
   ]
  },
  {
   "cell_type": "markdown",
   "metadata": {
    "deletable": true,
    "editable": true
   },
   "source": [
    "**Questions**:\n",
    "1. What categories of businesses tend to have fewer reviews?\n",
    "2. What categories of businesses tend to have more reviews?"
   ]
  },
  {
   "cell_type": "markdown",
   "metadata": {
    "deletable": true,
    "editable": true
   },
   "source": [
    "## review_count_z_score\n",
    "Are more popular venues more likely to be highly rated?  Given the large variation in reporting amongst categories, we know that popularity depends on the category.\n",
    "\n",
    "Separate the venues into those that have (strictly) more reviews than the median for their category, and those that have the same number or fewer.  For each category, compute the average number of stars for both those businesses with more than and less than or equal to the median number of reviews.  Report the z score of the difference of those means.\n",
    "\n",
    "**Note**:\n",
    "1. Again, category of a business will be defined as the first category and you should ignore businesses that do not have categories.\n",
    "2. Likewise, only consider categories with at least 40 businesses."
   ]
  },
  {
   "cell_type": "code",
   "execution_count": null,
   "metadata": {
    "collapsed": false,
    "deletable": true,
    "editable": true
   },
   "outputs": [],
   "source": [
    "\n",
    "review_count_z_score_tuples = ..."
   ]
  },
  {
   "cell_type": "code",
   "execution_count": null,
   "metadata": {
    "collapsed": false,
    "deletable": true,
    "editable": true
   },
   "outputs": [],
   "source": [
    "def review_count_z_score():\n",
    "    return [('Active Life', -4.8885384947587749)] * 119\n",
    "\n",
    "score('ps__review_count_z_score', review_count_z_score)"
   ]
  },
  {
   "cell_type": "markdown",
   "metadata": {
    "deletable": true,
    "editable": true
   },
   "source": [
    "**Questions**:\n",
    "1. What categories benefit from having more reviewers?\n",
    "2. What categories are hurt by having more reviewers?\n",
    "3. Why did we choose to separate each category by the median number of reviews rather than the mean number of reviews?"
   ]
  },
  {
   "cell_type": "markdown",
   "metadata": {
    "deletable": true,
    "editable": true
   },
   "source": [
    "## For Fun (not graded)!\n",
    "What types of categories have the most disagreement?  Use the variance as a proxy.  How would you compute the 2-sigma confidence interval?"
   ]
  },
  {
   "cell_type": "markdown",
   "metadata": {
    "deletable": true,
    "editable": true
   },
   "source": [
    "*Copyright &copy; 2017 The Data Incubator.  All rights reserved.*"
   ]
  }
 ],
 "metadata": {
  "kernelspec": {
   "display_name": "Python 2",
   "language": "python",
   "name": "python2"
  },
  "language_info": {
   "codemirror_mode": {
    "name": "ipython",
    "version": 2
   },
   "file_extension": ".py",
   "mimetype": "text/x-python",
   "name": "python",
   "nbconvert_exporter": "python",
   "pygments_lexer": "ipython2",
   "version": "2.7.13"
  }
 },
 "nbformat": 4,
 "nbformat_minor": 2
}
